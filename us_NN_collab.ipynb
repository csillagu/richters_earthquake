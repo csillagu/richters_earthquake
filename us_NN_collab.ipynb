{
  "nbformat": 4,
  "nbformat_minor": 0,
  "metadata": {
    "colab": {
      "provenance": []
    },
    "kernelspec": {
      "name": "python3",
      "display_name": "Python 3"
    },
    "language_info": {
      "name": "python"
    }
  },
  "cells": [
    {
      "cell_type": "code",
      "execution_count": 1,
      "metadata": {
        "id": "rs4ycvG2azx7"
      },
      "outputs": [],
      "source": [
        "import numpy as np\n",
        "import pandas as pd"
      ]
    },
    {
      "cell_type": "code",
      "source": [
        "from google.colab import drive\n",
        "drive.mount('/content/drive')"
      ],
      "metadata": {
        "colab": {
          "base_uri": "https://localhost:8080/"
        },
        "id": "wRhdeOGHnDvV",
        "outputId": "de01bbca-fa89-45ae-aa01-852317353d65"
      },
      "execution_count": 2,
      "outputs": [
        {
          "output_type": "stream",
          "name": "stdout",
          "text": [
            "Mounted at /content/drive\n"
          ]
        }
      ]
    },
    {
      "cell_type": "code",
      "source": [
        "from tensorflow.keras.models import Sequential\n",
        "from tensorflow.keras.layers import Dense, Conv2D, MaxPooling2D, Dropout, Flatten, Input\n",
        "from tensorflow.keras.optimizers import SGD, Adam\n",
        "from tensorflow.keras.callbacks import EarlyStopping, ModelCheckpoint\n",
        "from sklearn import metrics\n",
        "from sklearn.model_selection import train_test_split"
      ],
      "metadata": {
        "id": "Jnw43CKdbRom"
      },
      "execution_count": 3,
      "outputs": []
    },
    {
      "cell_type": "code",
      "source": [
        "import time"
      ],
      "metadata": {
        "id": "cY3OWGBwcLQ9"
      },
      "execution_count": 4,
      "outputs": []
    },
    {
      "cell_type": "code",
      "source": [
        "from sklearn.metrics import confusion_matrix"
      ],
      "metadata": {
        "id": "_t2YsHu7m8Lk"
      },
      "execution_count": 5,
      "outputs": []
    },
    {
      "cell_type": "code",
      "source": [
        "import matplotlib.pyplot as plt"
      ],
      "metadata": {
        "id": "giLDsZ_ZnG3d"
      },
      "execution_count": 6,
      "outputs": []
    },
    {
      "cell_type": "code",
      "source": [
        "import seaborn as sns"
      ],
      "metadata": {
        "id": "QKTfY8W0nLlr"
      },
      "execution_count": 7,
      "outputs": []
    },
    {
      "cell_type": "code",
      "source": [
        "train_labels = pd.read_csv(\"/content/drive/MyDrive/DataDcience/train_labels_preprocessed.csv\")\n",
        "train_values = pd.read_csv(\"/content/drive/MyDrive/DataDcience/train_values_preprocessed.csv\")"
      ],
      "metadata": {
        "id": "MbhhayhcbYpR"
      },
      "execution_count": 8,
      "outputs": []
    },
    {
      "cell_type": "code",
      "source": [
        "train_labels.drop(labels=['Unnamed: 0'],axis=1,inplace=True)\n",
        "train_labels.head()"
      ],
      "metadata": {
        "colab": {
          "base_uri": "https://localhost:8080/",
          "height": 206
        },
        "id": "eLwHP9HblEvQ",
        "outputId": "7565e58d-6f1c-4c4d-9e85-c20aa589d017"
      },
      "execution_count": 9,
      "outputs": [
        {
          "output_type": "execute_result",
          "data": {
            "text/plain": [
              "   damage_grade\n",
              "0             3\n",
              "1             2\n",
              "2             3\n",
              "3             2\n",
              "4             3"
            ],
            "text/html": [
              "\n",
              "  <div id=\"df-d58cf97c-3cf2-49de-8d6a-bda5b75a9264\">\n",
              "    <div class=\"colab-df-container\">\n",
              "      <div>\n",
              "<style scoped>\n",
              "    .dataframe tbody tr th:only-of-type {\n",
              "        vertical-align: middle;\n",
              "    }\n",
              "\n",
              "    .dataframe tbody tr th {\n",
              "        vertical-align: top;\n",
              "    }\n",
              "\n",
              "    .dataframe thead th {\n",
              "        text-align: right;\n",
              "    }\n",
              "</style>\n",
              "<table border=\"1\" class=\"dataframe\">\n",
              "  <thead>\n",
              "    <tr style=\"text-align: right;\">\n",
              "      <th></th>\n",
              "      <th>damage_grade</th>\n",
              "    </tr>\n",
              "  </thead>\n",
              "  <tbody>\n",
              "    <tr>\n",
              "      <th>0</th>\n",
              "      <td>3</td>\n",
              "    </tr>\n",
              "    <tr>\n",
              "      <th>1</th>\n",
              "      <td>2</td>\n",
              "    </tr>\n",
              "    <tr>\n",
              "      <th>2</th>\n",
              "      <td>3</td>\n",
              "    </tr>\n",
              "    <tr>\n",
              "      <th>3</th>\n",
              "      <td>2</td>\n",
              "    </tr>\n",
              "    <tr>\n",
              "      <th>4</th>\n",
              "      <td>3</td>\n",
              "    </tr>\n",
              "  </tbody>\n",
              "</table>\n",
              "</div>\n",
              "      <button class=\"colab-df-convert\" onclick=\"convertToInteractive('df-d58cf97c-3cf2-49de-8d6a-bda5b75a9264')\"\n",
              "              title=\"Convert this dataframe to an interactive table.\"\n",
              "              style=\"display:none;\">\n",
              "        \n",
              "  <svg xmlns=\"http://www.w3.org/2000/svg\" height=\"24px\"viewBox=\"0 0 24 24\"\n",
              "       width=\"24px\">\n",
              "    <path d=\"M0 0h24v24H0V0z\" fill=\"none\"/>\n",
              "    <path d=\"M18.56 5.44l.94 2.06.94-2.06 2.06-.94-2.06-.94-.94-2.06-.94 2.06-2.06.94zm-11 1L8.5 8.5l.94-2.06 2.06-.94-2.06-.94L8.5 2.5l-.94 2.06-2.06.94zm10 10l.94 2.06.94-2.06 2.06-.94-2.06-.94-.94-2.06-.94 2.06-2.06.94z\"/><path d=\"M17.41 7.96l-1.37-1.37c-.4-.4-.92-.59-1.43-.59-.52 0-1.04.2-1.43.59L10.3 9.45l-7.72 7.72c-.78.78-.78 2.05 0 2.83L4 21.41c.39.39.9.59 1.41.59.51 0 1.02-.2 1.41-.59l7.78-7.78 2.81-2.81c.8-.78.8-2.07 0-2.86zM5.41 20L4 18.59l7.72-7.72 1.47 1.35L5.41 20z\"/>\n",
              "  </svg>\n",
              "      </button>\n",
              "      \n",
              "  <style>\n",
              "    .colab-df-container {\n",
              "      display:flex;\n",
              "      flex-wrap:wrap;\n",
              "      gap: 12px;\n",
              "    }\n",
              "\n",
              "    .colab-df-convert {\n",
              "      background-color: #E8F0FE;\n",
              "      border: none;\n",
              "      border-radius: 50%;\n",
              "      cursor: pointer;\n",
              "      display: none;\n",
              "      fill: #1967D2;\n",
              "      height: 32px;\n",
              "      padding: 0 0 0 0;\n",
              "      width: 32px;\n",
              "    }\n",
              "\n",
              "    .colab-df-convert:hover {\n",
              "      background-color: #E2EBFA;\n",
              "      box-shadow: 0px 1px 2px rgba(60, 64, 67, 0.3), 0px 1px 3px 1px rgba(60, 64, 67, 0.15);\n",
              "      fill: #174EA6;\n",
              "    }\n",
              "\n",
              "    [theme=dark] .colab-df-convert {\n",
              "      background-color: #3B4455;\n",
              "      fill: #D2E3FC;\n",
              "    }\n",
              "\n",
              "    [theme=dark] .colab-df-convert:hover {\n",
              "      background-color: #434B5C;\n",
              "      box-shadow: 0px 1px 3px 1px rgba(0, 0, 0, 0.15);\n",
              "      filter: drop-shadow(0px 1px 2px rgba(0, 0, 0, 0.3));\n",
              "      fill: #FFFFFF;\n",
              "    }\n",
              "  </style>\n",
              "\n",
              "      <script>\n",
              "        const buttonEl =\n",
              "          document.querySelector('#df-d58cf97c-3cf2-49de-8d6a-bda5b75a9264 button.colab-df-convert');\n",
              "        buttonEl.style.display =\n",
              "          google.colab.kernel.accessAllowed ? 'block' : 'none';\n",
              "\n",
              "        async function convertToInteractive(key) {\n",
              "          const element = document.querySelector('#df-d58cf97c-3cf2-49de-8d6a-bda5b75a9264');\n",
              "          const dataTable =\n",
              "            await google.colab.kernel.invokeFunction('convertToInteractive',\n",
              "                                                     [key], {});\n",
              "          if (!dataTable) return;\n",
              "\n",
              "          const docLinkHtml = 'Like what you see? Visit the ' +\n",
              "            '<a target=\"_blank\" href=https://colab.research.google.com/notebooks/data_table.ipynb>data table notebook</a>'\n",
              "            + ' to learn more about interactive tables.';\n",
              "          element.innerHTML = '';\n",
              "          dataTable['output_type'] = 'display_data';\n",
              "          await google.colab.output.renderOutput(dataTable, element);\n",
              "          const docLink = document.createElement('div');\n",
              "          docLink.innerHTML = docLinkHtml;\n",
              "          element.appendChild(docLink);\n",
              "        }\n",
              "      </script>\n",
              "    </div>\n",
              "  </div>\n",
              "  "
            ]
          },
          "metadata": {},
          "execution_count": 9
        }
      ]
    },
    {
      "cell_type": "code",
      "source": [
        "train_labels[\"damage_grade\"] = train_labels[\"damage_grade\"] - 1\n",
        "train_labels.head()"
      ],
      "metadata": {
        "colab": {
          "base_uri": "https://localhost:8080/",
          "height": 206
        },
        "id": "POH_hpe4w01v",
        "outputId": "343bab47-03d8-4d43-f66f-cae653387ae3"
      },
      "execution_count": 10,
      "outputs": [
        {
          "output_type": "execute_result",
          "data": {
            "text/plain": [
              "   damage_grade\n",
              "0             2\n",
              "1             1\n",
              "2             2\n",
              "3             1\n",
              "4             2"
            ],
            "text/html": [
              "\n",
              "  <div id=\"df-2a0064fd-00f4-4967-8fdd-c8d43a1c6ebc\">\n",
              "    <div class=\"colab-df-container\">\n",
              "      <div>\n",
              "<style scoped>\n",
              "    .dataframe tbody tr th:only-of-type {\n",
              "        vertical-align: middle;\n",
              "    }\n",
              "\n",
              "    .dataframe tbody tr th {\n",
              "        vertical-align: top;\n",
              "    }\n",
              "\n",
              "    .dataframe thead th {\n",
              "        text-align: right;\n",
              "    }\n",
              "</style>\n",
              "<table border=\"1\" class=\"dataframe\">\n",
              "  <thead>\n",
              "    <tr style=\"text-align: right;\">\n",
              "      <th></th>\n",
              "      <th>damage_grade</th>\n",
              "    </tr>\n",
              "  </thead>\n",
              "  <tbody>\n",
              "    <tr>\n",
              "      <th>0</th>\n",
              "      <td>2</td>\n",
              "    </tr>\n",
              "    <tr>\n",
              "      <th>1</th>\n",
              "      <td>1</td>\n",
              "    </tr>\n",
              "    <tr>\n",
              "      <th>2</th>\n",
              "      <td>2</td>\n",
              "    </tr>\n",
              "    <tr>\n",
              "      <th>3</th>\n",
              "      <td>1</td>\n",
              "    </tr>\n",
              "    <tr>\n",
              "      <th>4</th>\n",
              "      <td>2</td>\n",
              "    </tr>\n",
              "  </tbody>\n",
              "</table>\n",
              "</div>\n",
              "      <button class=\"colab-df-convert\" onclick=\"convertToInteractive('df-2a0064fd-00f4-4967-8fdd-c8d43a1c6ebc')\"\n",
              "              title=\"Convert this dataframe to an interactive table.\"\n",
              "              style=\"display:none;\">\n",
              "        \n",
              "  <svg xmlns=\"http://www.w3.org/2000/svg\" height=\"24px\"viewBox=\"0 0 24 24\"\n",
              "       width=\"24px\">\n",
              "    <path d=\"M0 0h24v24H0V0z\" fill=\"none\"/>\n",
              "    <path d=\"M18.56 5.44l.94 2.06.94-2.06 2.06-.94-2.06-.94-.94-2.06-.94 2.06-2.06.94zm-11 1L8.5 8.5l.94-2.06 2.06-.94-2.06-.94L8.5 2.5l-.94 2.06-2.06.94zm10 10l.94 2.06.94-2.06 2.06-.94-2.06-.94-.94-2.06-.94 2.06-2.06.94z\"/><path d=\"M17.41 7.96l-1.37-1.37c-.4-.4-.92-.59-1.43-.59-.52 0-1.04.2-1.43.59L10.3 9.45l-7.72 7.72c-.78.78-.78 2.05 0 2.83L4 21.41c.39.39.9.59 1.41.59.51 0 1.02-.2 1.41-.59l7.78-7.78 2.81-2.81c.8-.78.8-2.07 0-2.86zM5.41 20L4 18.59l7.72-7.72 1.47 1.35L5.41 20z\"/>\n",
              "  </svg>\n",
              "      </button>\n",
              "      \n",
              "  <style>\n",
              "    .colab-df-container {\n",
              "      display:flex;\n",
              "      flex-wrap:wrap;\n",
              "      gap: 12px;\n",
              "    }\n",
              "\n",
              "    .colab-df-convert {\n",
              "      background-color: #E8F0FE;\n",
              "      border: none;\n",
              "      border-radius: 50%;\n",
              "      cursor: pointer;\n",
              "      display: none;\n",
              "      fill: #1967D2;\n",
              "      height: 32px;\n",
              "      padding: 0 0 0 0;\n",
              "      width: 32px;\n",
              "    }\n",
              "\n",
              "    .colab-df-convert:hover {\n",
              "      background-color: #E2EBFA;\n",
              "      box-shadow: 0px 1px 2px rgba(60, 64, 67, 0.3), 0px 1px 3px 1px rgba(60, 64, 67, 0.15);\n",
              "      fill: #174EA6;\n",
              "    }\n",
              "\n",
              "    [theme=dark] .colab-df-convert {\n",
              "      background-color: #3B4455;\n",
              "      fill: #D2E3FC;\n",
              "    }\n",
              "\n",
              "    [theme=dark] .colab-df-convert:hover {\n",
              "      background-color: #434B5C;\n",
              "      box-shadow: 0px 1px 3px 1px rgba(0, 0, 0, 0.15);\n",
              "      filter: drop-shadow(0px 1px 2px rgba(0, 0, 0, 0.3));\n",
              "      fill: #FFFFFF;\n",
              "    }\n",
              "  </style>\n",
              "\n",
              "      <script>\n",
              "        const buttonEl =\n",
              "          document.querySelector('#df-2a0064fd-00f4-4967-8fdd-c8d43a1c6ebc button.colab-df-convert');\n",
              "        buttonEl.style.display =\n",
              "          google.colab.kernel.accessAllowed ? 'block' : 'none';\n",
              "\n",
              "        async function convertToInteractive(key) {\n",
              "          const element = document.querySelector('#df-2a0064fd-00f4-4967-8fdd-c8d43a1c6ebc');\n",
              "          const dataTable =\n",
              "            await google.colab.kernel.invokeFunction('convertToInteractive',\n",
              "                                                     [key], {});\n",
              "          if (!dataTable) return;\n",
              "\n",
              "          const docLinkHtml = 'Like what you see? Visit the ' +\n",
              "            '<a target=\"_blank\" href=https://colab.research.google.com/notebooks/data_table.ipynb>data table notebook</a>'\n",
              "            + ' to learn more about interactive tables.';\n",
              "          element.innerHTML = '';\n",
              "          dataTable['output_type'] = 'display_data';\n",
              "          await google.colab.output.renderOutput(dataTable, element);\n",
              "          const docLink = document.createElement('div');\n",
              "          docLink.innerHTML = docLinkHtml;\n",
              "          element.appendChild(docLink);\n",
              "        }\n",
              "      </script>\n",
              "    </div>\n",
              "  </div>\n",
              "  "
            ]
          },
          "metadata": {},
          "execution_count": 10
        }
      ]
    },
    {
      "cell_type": "code",
      "source": [
        "from tensorflow.keras.utils import to_categorical\n",
        "train_labels = to_categorical(train_labels, 3)"
      ],
      "metadata": {
        "id": "SdyrWuditCWj"
      },
      "execution_count": 11,
      "outputs": []
    },
    {
      "cell_type": "code",
      "source": [
        "train_labels"
      ],
      "metadata": {
        "colab": {
          "base_uri": "https://localhost:8080/"
        },
        "id": "Hq74xaEBvysQ",
        "outputId": "c3aa76f9-9155-4c9c-953d-232d81325f3a"
      },
      "execution_count": 12,
      "outputs": [
        {
          "output_type": "execute_result",
          "data": {
            "text/plain": [
              "array([[0., 0., 1.],\n",
              "       [0., 1., 0.],\n",
              "       [0., 0., 1.],\n",
              "       ...,\n",
              "       [0., 0., 1.],\n",
              "       [0., 1., 0.],\n",
              "       [0., 0., 1.]], dtype=float32)"
            ]
          },
          "metadata": {},
          "execution_count": 12
        }
      ]
    },
    {
      "cell_type": "code",
      "source": [
        "train_values.drop(labels=['Unnamed: 0'],axis=1,inplace=True)\n",
        "train_values.head()"
      ],
      "metadata": {
        "colab": {
          "base_uri": "https://localhost:8080/",
          "height": 299
        },
        "id": "0lnnJADKlHvY",
        "outputId": "a824dfa3-7291-4f72-95b2-6bd8fd21e4f5"
      },
      "execution_count": 13,
      "outputs": [
        {
          "output_type": "execute_result",
          "data": {
            "text/plain": [
              "   geo_level_1_id  geo_level_2_id  geo_level_3_id  count_floors_pre_eq  \\\n",
              "0               6             487           12198                    2   \n",
              "1               8             900            2812                    2   \n",
              "2              21             363            8973                    2   \n",
              "3              22             418           10694                    2   \n",
              "4              11             131            1488                    3   \n",
              "\n",
              "        age  area_percentage  height_percentage  has_superstructure_adobe_mud  \\\n",
              "0  0.500000         0.357143           0.428571                             1   \n",
              "1  0.166667         0.500000           0.714286                             0   \n",
              "2  0.166667         0.285714           0.428571                             0   \n",
              "3  0.166667         0.357143           0.428571                             0   \n",
              "4  0.500000         0.500000           1.000000                             1   \n",
              "\n",
              "   has_superstructure_mud_mortar_stone  has_superstructure_stone_flag  ...  \\\n",
              "0                                    1                              0  ...   \n",
              "1                                    1                              0  ...   \n",
              "2                                    1                              0  ...   \n",
              "3                                    1                              0  ...   \n",
              "4                                    0                              0  ...   \n",
              "\n",
              "   plan_configuration_f  plan_configuration_m  plan_configuration_n  \\\n",
              "0                     0                     0                     0   \n",
              "1                     0                     0                     0   \n",
              "2                     0                     0                     0   \n",
              "3                     0                     0                     0   \n",
              "4                     0                     0                     0   \n",
              "\n",
              "   plan_configuration_o  plan_configuration_q  plan_configuration_s  \\\n",
              "0                     0                     0                     0   \n",
              "1                     0                     0                     0   \n",
              "2                     0                     0                     0   \n",
              "3                     0                     0                     0   \n",
              "4                     0                     0                     0   \n",
              "\n",
              "   plan_configuration_u  legal_ownership_status_r  legal_ownership_status_v  \\\n",
              "0                     0                         0                         1   \n",
              "1                     0                         0                         1   \n",
              "2                     0                         0                         1   \n",
              "3                     0                         0                         1   \n",
              "4                     0                         0                         1   \n",
              "\n",
              "   legal_ownership_status_w  \n",
              "0                         0  \n",
              "1                         0  \n",
              "2                         0  \n",
              "3                         0  \n",
              "4                         0  \n",
              "\n",
              "[5 rows x 60 columns]"
            ],
            "text/html": [
              "\n",
              "  <div id=\"df-533cde49-a3c7-4459-a136-6410c20962cc\">\n",
              "    <div class=\"colab-df-container\">\n",
              "      <div>\n",
              "<style scoped>\n",
              "    .dataframe tbody tr th:only-of-type {\n",
              "        vertical-align: middle;\n",
              "    }\n",
              "\n",
              "    .dataframe tbody tr th {\n",
              "        vertical-align: top;\n",
              "    }\n",
              "\n",
              "    .dataframe thead th {\n",
              "        text-align: right;\n",
              "    }\n",
              "</style>\n",
              "<table border=\"1\" class=\"dataframe\">\n",
              "  <thead>\n",
              "    <tr style=\"text-align: right;\">\n",
              "      <th></th>\n",
              "      <th>geo_level_1_id</th>\n",
              "      <th>geo_level_2_id</th>\n",
              "      <th>geo_level_3_id</th>\n",
              "      <th>count_floors_pre_eq</th>\n",
              "      <th>age</th>\n",
              "      <th>area_percentage</th>\n",
              "      <th>height_percentage</th>\n",
              "      <th>has_superstructure_adobe_mud</th>\n",
              "      <th>has_superstructure_mud_mortar_stone</th>\n",
              "      <th>has_superstructure_stone_flag</th>\n",
              "      <th>...</th>\n",
              "      <th>plan_configuration_f</th>\n",
              "      <th>plan_configuration_m</th>\n",
              "      <th>plan_configuration_n</th>\n",
              "      <th>plan_configuration_o</th>\n",
              "      <th>plan_configuration_q</th>\n",
              "      <th>plan_configuration_s</th>\n",
              "      <th>plan_configuration_u</th>\n",
              "      <th>legal_ownership_status_r</th>\n",
              "      <th>legal_ownership_status_v</th>\n",
              "      <th>legal_ownership_status_w</th>\n",
              "    </tr>\n",
              "  </thead>\n",
              "  <tbody>\n",
              "    <tr>\n",
              "      <th>0</th>\n",
              "      <td>6</td>\n",
              "      <td>487</td>\n",
              "      <td>12198</td>\n",
              "      <td>2</td>\n",
              "      <td>0.500000</td>\n",
              "      <td>0.357143</td>\n",
              "      <td>0.428571</td>\n",
              "      <td>1</td>\n",
              "      <td>1</td>\n",
              "      <td>0</td>\n",
              "      <td>...</td>\n",
              "      <td>0</td>\n",
              "      <td>0</td>\n",
              "      <td>0</td>\n",
              "      <td>0</td>\n",
              "      <td>0</td>\n",
              "      <td>0</td>\n",
              "      <td>0</td>\n",
              "      <td>0</td>\n",
              "      <td>1</td>\n",
              "      <td>0</td>\n",
              "    </tr>\n",
              "    <tr>\n",
              "      <th>1</th>\n",
              "      <td>8</td>\n",
              "      <td>900</td>\n",
              "      <td>2812</td>\n",
              "      <td>2</td>\n",
              "      <td>0.166667</td>\n",
              "      <td>0.500000</td>\n",
              "      <td>0.714286</td>\n",
              "      <td>0</td>\n",
              "      <td>1</td>\n",
              "      <td>0</td>\n",
              "      <td>...</td>\n",
              "      <td>0</td>\n",
              "      <td>0</td>\n",
              "      <td>0</td>\n",
              "      <td>0</td>\n",
              "      <td>0</td>\n",
              "      <td>0</td>\n",
              "      <td>0</td>\n",
              "      <td>0</td>\n",
              "      <td>1</td>\n",
              "      <td>0</td>\n",
              "    </tr>\n",
              "    <tr>\n",
              "      <th>2</th>\n",
              "      <td>21</td>\n",
              "      <td>363</td>\n",
              "      <td>8973</td>\n",
              "      <td>2</td>\n",
              "      <td>0.166667</td>\n",
              "      <td>0.285714</td>\n",
              "      <td>0.428571</td>\n",
              "      <td>0</td>\n",
              "      <td>1</td>\n",
              "      <td>0</td>\n",
              "      <td>...</td>\n",
              "      <td>0</td>\n",
              "      <td>0</td>\n",
              "      <td>0</td>\n",
              "      <td>0</td>\n",
              "      <td>0</td>\n",
              "      <td>0</td>\n",
              "      <td>0</td>\n",
              "      <td>0</td>\n",
              "      <td>1</td>\n",
              "      <td>0</td>\n",
              "    </tr>\n",
              "    <tr>\n",
              "      <th>3</th>\n",
              "      <td>22</td>\n",
              "      <td>418</td>\n",
              "      <td>10694</td>\n",
              "      <td>2</td>\n",
              "      <td>0.166667</td>\n",
              "      <td>0.357143</td>\n",
              "      <td>0.428571</td>\n",
              "      <td>0</td>\n",
              "      <td>1</td>\n",
              "      <td>0</td>\n",
              "      <td>...</td>\n",
              "      <td>0</td>\n",
              "      <td>0</td>\n",
              "      <td>0</td>\n",
              "      <td>0</td>\n",
              "      <td>0</td>\n",
              "      <td>0</td>\n",
              "      <td>0</td>\n",
              "      <td>0</td>\n",
              "      <td>1</td>\n",
              "      <td>0</td>\n",
              "    </tr>\n",
              "    <tr>\n",
              "      <th>4</th>\n",
              "      <td>11</td>\n",
              "      <td>131</td>\n",
              "      <td>1488</td>\n",
              "      <td>3</td>\n",
              "      <td>0.500000</td>\n",
              "      <td>0.500000</td>\n",
              "      <td>1.000000</td>\n",
              "      <td>1</td>\n",
              "      <td>0</td>\n",
              "      <td>0</td>\n",
              "      <td>...</td>\n",
              "      <td>0</td>\n",
              "      <td>0</td>\n",
              "      <td>0</td>\n",
              "      <td>0</td>\n",
              "      <td>0</td>\n",
              "      <td>0</td>\n",
              "      <td>0</td>\n",
              "      <td>0</td>\n",
              "      <td>1</td>\n",
              "      <td>0</td>\n",
              "    </tr>\n",
              "  </tbody>\n",
              "</table>\n",
              "<p>5 rows × 60 columns</p>\n",
              "</div>\n",
              "      <button class=\"colab-df-convert\" onclick=\"convertToInteractive('df-533cde49-a3c7-4459-a136-6410c20962cc')\"\n",
              "              title=\"Convert this dataframe to an interactive table.\"\n",
              "              style=\"display:none;\">\n",
              "        \n",
              "  <svg xmlns=\"http://www.w3.org/2000/svg\" height=\"24px\"viewBox=\"0 0 24 24\"\n",
              "       width=\"24px\">\n",
              "    <path d=\"M0 0h24v24H0V0z\" fill=\"none\"/>\n",
              "    <path d=\"M18.56 5.44l.94 2.06.94-2.06 2.06-.94-2.06-.94-.94-2.06-.94 2.06-2.06.94zm-11 1L8.5 8.5l.94-2.06 2.06-.94-2.06-.94L8.5 2.5l-.94 2.06-2.06.94zm10 10l.94 2.06.94-2.06 2.06-.94-2.06-.94-.94-2.06-.94 2.06-2.06.94z\"/><path d=\"M17.41 7.96l-1.37-1.37c-.4-.4-.92-.59-1.43-.59-.52 0-1.04.2-1.43.59L10.3 9.45l-7.72 7.72c-.78.78-.78 2.05 0 2.83L4 21.41c.39.39.9.59 1.41.59.51 0 1.02-.2 1.41-.59l7.78-7.78 2.81-2.81c.8-.78.8-2.07 0-2.86zM5.41 20L4 18.59l7.72-7.72 1.47 1.35L5.41 20z\"/>\n",
              "  </svg>\n",
              "      </button>\n",
              "      \n",
              "  <style>\n",
              "    .colab-df-container {\n",
              "      display:flex;\n",
              "      flex-wrap:wrap;\n",
              "      gap: 12px;\n",
              "    }\n",
              "\n",
              "    .colab-df-convert {\n",
              "      background-color: #E8F0FE;\n",
              "      border: none;\n",
              "      border-radius: 50%;\n",
              "      cursor: pointer;\n",
              "      display: none;\n",
              "      fill: #1967D2;\n",
              "      height: 32px;\n",
              "      padding: 0 0 0 0;\n",
              "      width: 32px;\n",
              "    }\n",
              "\n",
              "    .colab-df-convert:hover {\n",
              "      background-color: #E2EBFA;\n",
              "      box-shadow: 0px 1px 2px rgba(60, 64, 67, 0.3), 0px 1px 3px 1px rgba(60, 64, 67, 0.15);\n",
              "      fill: #174EA6;\n",
              "    }\n",
              "\n",
              "    [theme=dark] .colab-df-convert {\n",
              "      background-color: #3B4455;\n",
              "      fill: #D2E3FC;\n",
              "    }\n",
              "\n",
              "    [theme=dark] .colab-df-convert:hover {\n",
              "      background-color: #434B5C;\n",
              "      box-shadow: 0px 1px 3px 1px rgba(0, 0, 0, 0.15);\n",
              "      filter: drop-shadow(0px 1px 2px rgba(0, 0, 0, 0.3));\n",
              "      fill: #FFFFFF;\n",
              "    }\n",
              "  </style>\n",
              "\n",
              "      <script>\n",
              "        const buttonEl =\n",
              "          document.querySelector('#df-533cde49-a3c7-4459-a136-6410c20962cc button.colab-df-convert');\n",
              "        buttonEl.style.display =\n",
              "          google.colab.kernel.accessAllowed ? 'block' : 'none';\n",
              "\n",
              "        async function convertToInteractive(key) {\n",
              "          const element = document.querySelector('#df-533cde49-a3c7-4459-a136-6410c20962cc');\n",
              "          const dataTable =\n",
              "            await google.colab.kernel.invokeFunction('convertToInteractive',\n",
              "                                                     [key], {});\n",
              "          if (!dataTable) return;\n",
              "\n",
              "          const docLinkHtml = 'Like what you see? Visit the ' +\n",
              "            '<a target=\"_blank\" href=https://colab.research.google.com/notebooks/data_table.ipynb>data table notebook</a>'\n",
              "            + ' to learn more about interactive tables.';\n",
              "          element.innerHTML = '';\n",
              "          dataTable['output_type'] = 'display_data';\n",
              "          await google.colab.output.renderOutput(dataTable, element);\n",
              "          const docLink = document.createElement('div');\n",
              "          docLink.innerHTML = docLinkHtml;\n",
              "          element.appendChild(docLink);\n",
              "        }\n",
              "      </script>\n",
              "    </div>\n",
              "  </div>\n",
              "  "
            ]
          },
          "metadata": {},
          "execution_count": 13
        }
      ]
    },
    {
      "cell_type": "code",
      "source": [
        "X_train, X_test, y_train, y_test = train_test_split(train_values, train_labels, test_size = 0.2, random_state = 42)"
      ],
      "metadata": {
        "id": "94zoF50zbTUe"
      },
      "execution_count": 14,
      "outputs": []
    },
    {
      "cell_type": "code",
      "source": [
        "model = Sequential([\n",
        "    Input(shape = (60)),\n",
        "    Dense(128, activation='relu', use_bias=False),\n",
        "    Dense(256, activation='relu', use_bias=False),\n",
        "    Dense(128, activation='relu', use_bias=False),\n",
        "    Dense(64, activation='relu', use_bias=False),\n",
        "    Dense(3, activation='softmax', use_bias=False)\n",
        "]) \n",
        "\n",
        "model.compile(loss='categorical_crossentropy', optimizer='adam', metrics=['accuracy'])"
      ],
      "metadata": {
        "id": "fb1ghuwRbXbl"
      },
      "execution_count": 15,
      "outputs": []
    },
    {
      "cell_type": "code",
      "source": [
        "early_stopping=EarlyStopping(patience=16, verbose=1)\n",
        "\n",
        "checkpointer=ModelCheckpoint(filepath='weights.hdf5', save_best_only=True, verbose=1)\n",
        "\n",
        "start_time = time.time()\n",
        "network_history = model.fit(X_train, y_train, batch_size=64, \n",
        "                            epochs=100, verbose=1, validation_split=0.2,\n",
        "                  callbacks=[checkpointer, early_stopping])\n",
        "dt_time_fit = time.time() - start_time"
      ],
      "metadata": {
        "id": "S5bt3ODob_Xz",
        "colab": {
          "base_uri": "https://localhost:8080/"
        },
        "outputId": "ca77affa-3cbc-4432-80da-da6a6b86ee57"
      },
      "execution_count": 16,
      "outputs": [
        {
          "output_type": "stream",
          "name": "stdout",
          "text": [
            "Epoch 1/100\n",
            "2605/2606 [============================>.] - ETA: 0s - loss: 2.5791 - accuracy: 0.4922\n",
            "Epoch 1: val_loss improved from inf to 0.95975, saving model to weights.hdf5\n",
            "2606/2606 [==============================] - 14s 5ms/step - loss: 2.5785 - accuracy: 0.4922 - val_loss: 0.9598 - val_accuracy: 0.5672\n",
            "Epoch 2/100\n",
            "2606/2606 [==============================] - ETA: 0s - loss: 0.9432 - accuracy: 0.5329\n",
            "Epoch 2: val_loss improved from 0.95975 to 0.94369, saving model to weights.hdf5\n",
            "2606/2606 [==============================] - 13s 5ms/step - loss: 0.9432 - accuracy: 0.5329 - val_loss: 0.9437 - val_accuracy: 0.5661\n",
            "Epoch 3/100\n",
            "2601/2606 [============================>.] - ETA: 0s - loss: 0.8921 - accuracy: 0.5577\n",
            "Epoch 3: val_loss improved from 0.94369 to 0.86459, saving model to weights.hdf5\n",
            "2606/2606 [==============================] - 13s 5ms/step - loss: 0.8919 - accuracy: 0.5577 - val_loss: 0.8646 - val_accuracy: 0.5706\n",
            "Epoch 4/100\n",
            "2598/2606 [============================>.] - ETA: 0s - loss: 0.8746 - accuracy: 0.5624\n",
            "Epoch 4: val_loss improved from 0.86459 to 0.84328, saving model to weights.hdf5\n",
            "2606/2606 [==============================] - 15s 6ms/step - loss: 0.8745 - accuracy: 0.5624 - val_loss: 0.8433 - val_accuracy: 0.5680\n",
            "Epoch 5/100\n",
            "2603/2606 [============================>.] - ETA: 0s - loss: 0.8385 - accuracy: 0.5697\n",
            "Epoch 5: val_loss improved from 0.84328 to 0.82198, saving model to weights.hdf5\n",
            "2606/2606 [==============================] - 13s 5ms/step - loss: 0.8385 - accuracy: 0.5698 - val_loss: 0.8220 - val_accuracy: 0.5710\n",
            "Epoch 6/100\n",
            "2602/2606 [============================>.] - ETA: 0s - loss: 0.8315 - accuracy: 0.5699\n",
            "Epoch 6: val_loss did not improve from 0.82198\n",
            "2606/2606 [==============================] - 12s 5ms/step - loss: 0.8315 - accuracy: 0.5699 - val_loss: 0.8246 - val_accuracy: 0.5697\n",
            "Epoch 7/100\n",
            "2606/2606 [==============================] - ETA: 0s - loss: 0.8252 - accuracy: 0.5712\n",
            "Epoch 7: val_loss improved from 0.82198 to 0.81617, saving model to weights.hdf5\n",
            "2606/2606 [==============================] - 12s 5ms/step - loss: 0.8252 - accuracy: 0.5712 - val_loss: 0.8162 - val_accuracy: 0.5726\n",
            "Epoch 8/100\n",
            "2600/2606 [============================>.] - ETA: 0s - loss: 0.8223 - accuracy: 0.5721\n",
            "Epoch 8: val_loss did not improve from 0.81617\n",
            "2606/2606 [==============================] - 12s 4ms/step - loss: 0.8223 - accuracy: 0.5719 - val_loss: 0.8188 - val_accuracy: 0.5591\n",
            "Epoch 9/100\n",
            "2599/2606 [============================>.] - ETA: 0s - loss: 0.8158 - accuracy: 0.5739\n",
            "Epoch 9: val_loss did not improve from 0.81617\n",
            "2606/2606 [==============================] - 12s 5ms/step - loss: 0.8157 - accuracy: 0.5739 - val_loss: 0.8312 - val_accuracy: 0.5801\n",
            "Epoch 10/100\n",
            "2606/2606 [==============================] - ETA: 0s - loss: 0.8087 - accuracy: 0.5787\n",
            "Epoch 10: val_loss improved from 0.81617 to 0.80197, saving model to weights.hdf5\n",
            "2606/2606 [==============================] - 13s 5ms/step - loss: 0.8087 - accuracy: 0.5787 - val_loss: 0.8020 - val_accuracy: 0.5818\n",
            "Epoch 11/100\n",
            "2602/2606 [============================>.] - ETA: 0s - loss: 0.8063 - accuracy: 0.5818\n",
            "Epoch 11: val_loss improved from 0.80197 to 0.80078, saving model to weights.hdf5\n",
            "2606/2606 [==============================] - 13s 5ms/step - loss: 0.8062 - accuracy: 0.5818 - val_loss: 0.8008 - val_accuracy: 0.5863\n",
            "Epoch 12/100\n",
            "2593/2606 [============================>.] - ETA: 0s - loss: 0.8030 - accuracy: 0.5846\n",
            "Epoch 12: val_loss did not improve from 0.80078\n",
            "2606/2606 [==============================] - 13s 5ms/step - loss: 0.8032 - accuracy: 0.5845 - val_loss: 0.8306 - val_accuracy: 0.5625\n",
            "Epoch 13/100\n",
            "2598/2606 [============================>.] - ETA: 0s - loss: 0.8025 - accuracy: 0.5842\n",
            "Epoch 13: val_loss improved from 0.80078 to 0.79133, saving model to weights.hdf5\n",
            "2606/2606 [==============================] - 13s 5ms/step - loss: 0.8023 - accuracy: 0.5843 - val_loss: 0.7913 - val_accuracy: 0.5969\n",
            "Epoch 14/100\n",
            "2606/2606 [==============================] - ETA: 0s - loss: 0.7983 - accuracy: 0.5898\n",
            "Epoch 14: val_loss did not improve from 0.79133\n",
            "2606/2606 [==============================] - 11s 4ms/step - loss: 0.7983 - accuracy: 0.5898 - val_loss: 0.7950 - val_accuracy: 0.5787\n",
            "Epoch 15/100\n",
            "2595/2606 [============================>.] - ETA: 0s - loss: 0.7974 - accuracy: 0.5911\n",
            "Epoch 15: val_loss did not improve from 0.79133\n",
            "2606/2606 [==============================] - 12s 5ms/step - loss: 0.7973 - accuracy: 0.5911 - val_loss: 0.7927 - val_accuracy: 0.5815\n",
            "Epoch 16/100\n",
            "2600/2606 [============================>.] - ETA: 0s - loss: 0.7969 - accuracy: 0.5911\n",
            "Epoch 16: val_loss improved from 0.79133 to 0.78990, saving model to weights.hdf5\n",
            "2606/2606 [==============================] - 12s 5ms/step - loss: 0.7970 - accuracy: 0.5911 - val_loss: 0.7899 - val_accuracy: 0.5992\n",
            "Epoch 17/100\n",
            "2605/2606 [============================>.] - ETA: 0s - loss: 0.7942 - accuracy: 0.5959\n",
            "Epoch 17: val_loss improved from 0.78990 to 0.78521, saving model to weights.hdf5\n",
            "2606/2606 [==============================] - 12s 5ms/step - loss: 0.7942 - accuracy: 0.5959 - val_loss: 0.7852 - val_accuracy: 0.6069\n",
            "Epoch 18/100\n",
            "2601/2606 [============================>.] - ETA: 0s - loss: 0.7925 - accuracy: 0.5969\n",
            "Epoch 18: val_loss did not improve from 0.78521\n",
            "2606/2606 [==============================] - 13s 5ms/step - loss: 0.7924 - accuracy: 0.5969 - val_loss: 0.7867 - val_accuracy: 0.6050\n",
            "Epoch 19/100\n",
            "2606/2606 [==============================] - ETA: 0s - loss: 0.7900 - accuracy: 0.5980\n",
            "Epoch 19: val_loss improved from 0.78521 to 0.78303, saving model to weights.hdf5\n",
            "2606/2606 [==============================] - 12s 5ms/step - loss: 0.7900 - accuracy: 0.5980 - val_loss: 0.7830 - val_accuracy: 0.6062\n",
            "Epoch 20/100\n",
            "2600/2606 [============================>.] - ETA: 0s - loss: 0.7892 - accuracy: 0.5999\n",
            "Epoch 20: val_loss improved from 0.78303 to 0.78181, saving model to weights.hdf5\n",
            "2606/2606 [==============================] - 11s 4ms/step - loss: 0.7892 - accuracy: 0.5999 - val_loss: 0.7818 - val_accuracy: 0.5990\n",
            "Epoch 21/100\n",
            "2606/2606 [==============================] - ETA: 0s - loss: 0.7876 - accuracy: 0.6010\n",
            "Epoch 21: val_loss did not improve from 0.78181\n",
            "2606/2606 [==============================] - 12s 5ms/step - loss: 0.7876 - accuracy: 0.6010 - val_loss: 0.7882 - val_accuracy: 0.6087\n",
            "Epoch 22/100\n",
            "2596/2606 [============================>.] - ETA: 0s - loss: 0.7854 - accuracy: 0.6025\n",
            "Epoch 22: val_loss improved from 0.78181 to 0.77489, saving model to weights.hdf5\n",
            "2606/2606 [==============================] - 13s 5ms/step - loss: 0.7855 - accuracy: 0.6024 - val_loss: 0.7749 - val_accuracy: 0.6128\n",
            "Epoch 23/100\n",
            "2606/2606 [==============================] - ETA: 0s - loss: 0.7845 - accuracy: 0.6024\n",
            "Epoch 23: val_loss did not improve from 0.77489\n",
            "2606/2606 [==============================] - 13s 5ms/step - loss: 0.7845 - accuracy: 0.6024 - val_loss: 0.8380 - val_accuracy: 0.5751\n",
            "Epoch 24/100\n",
            "2601/2606 [============================>.] - ETA: 0s - loss: 0.7821 - accuracy: 0.6037\n",
            "Epoch 24: val_loss did not improve from 0.77489\n",
            "2606/2606 [==============================] - 13s 5ms/step - loss: 0.7821 - accuracy: 0.6037 - val_loss: 0.7850 - val_accuracy: 0.5979\n",
            "Epoch 25/100\n",
            "2605/2606 [============================>.] - ETA: 0s - loss: 0.7826 - accuracy: 0.6032\n",
            "Epoch 25: val_loss did not improve from 0.77489\n",
            "2606/2606 [==============================] - 13s 5ms/step - loss: 0.7826 - accuracy: 0.6032 - val_loss: 0.7981 - val_accuracy: 0.5988\n",
            "Epoch 26/100\n",
            "2603/2606 [============================>.] - ETA: 0s - loss: 0.7812 - accuracy: 0.6059\n",
            "Epoch 26: val_loss improved from 0.77489 to 0.76874, saving model to weights.hdf5\n",
            "2606/2606 [==============================] - 12s 5ms/step - loss: 0.7812 - accuracy: 0.6059 - val_loss: 0.7687 - val_accuracy: 0.6129\n",
            "Epoch 27/100\n",
            "2603/2606 [============================>.] - ETA: 0s - loss: 0.7804 - accuracy: 0.6052\n",
            "Epoch 27: val_loss did not improve from 0.76874\n",
            "2606/2606 [==============================] - 11s 4ms/step - loss: 0.7804 - accuracy: 0.6052 - val_loss: 0.7942 - val_accuracy: 0.5873\n",
            "Epoch 28/100\n",
            "2596/2606 [============================>.] - ETA: 0s - loss: 0.7789 - accuracy: 0.6084\n",
            "Epoch 28: val_loss did not improve from 0.76874\n",
            "2606/2606 [==============================] - 12s 5ms/step - loss: 0.7789 - accuracy: 0.6084 - val_loss: 0.7701 - val_accuracy: 0.6083\n",
            "Epoch 29/100\n",
            "2596/2606 [============================>.] - ETA: 0s - loss: 0.7803 - accuracy: 0.6073\n",
            "Epoch 29: val_loss did not improve from 0.76874\n",
            "2606/2606 [==============================] - 13s 5ms/step - loss: 0.7804 - accuracy: 0.6074 - val_loss: 0.7732 - val_accuracy: 0.6118\n",
            "Epoch 30/100\n",
            "2594/2606 [============================>.] - ETA: 0s - loss: 0.7770 - accuracy: 0.6082\n",
            "Epoch 30: val_loss did not improve from 0.76874\n",
            "2606/2606 [==============================] - 13s 5ms/step - loss: 0.7771 - accuracy: 0.6082 - val_loss: 0.7755 - val_accuracy: 0.6118\n",
            "Epoch 31/100\n",
            "2604/2606 [============================>.] - ETA: 0s - loss: 0.7761 - accuracy: 0.6110\n",
            "Epoch 31: val_loss did not improve from 0.76874\n",
            "2606/2606 [==============================] - 13s 5ms/step - loss: 0.7761 - accuracy: 0.6110 - val_loss: 0.7706 - val_accuracy: 0.6160\n",
            "Epoch 32/100\n",
            "2598/2606 [============================>.] - ETA: 0s - loss: 0.7759 - accuracy: 0.6098\n",
            "Epoch 32: val_loss did not improve from 0.76874\n",
            "2606/2606 [==============================] - 12s 5ms/step - loss: 0.7759 - accuracy: 0.6098 - val_loss: 0.7836 - val_accuracy: 0.6009\n",
            "Epoch 33/100\n",
            "2596/2606 [============================>.] - ETA: 0s - loss: 0.7728 - accuracy: 0.6112\n",
            "Epoch 33: val_loss did not improve from 0.76874\n",
            "2606/2606 [==============================] - 11s 4ms/step - loss: 0.7731 - accuracy: 0.6110 - val_loss: 0.7846 - val_accuracy: 0.6034\n",
            "Epoch 34/100\n",
            "2595/2606 [============================>.] - ETA: 0s - loss: 0.7754 - accuracy: 0.6103\n",
            "Epoch 34: val_loss did not improve from 0.76874\n",
            "2606/2606 [==============================] - 12s 5ms/step - loss: 0.7754 - accuracy: 0.6104 - val_loss: 0.7735 - val_accuracy: 0.6176\n",
            "Epoch 35/100\n",
            "2605/2606 [============================>.] - ETA: 0s - loss: 0.7728 - accuracy: 0.6119\n",
            "Epoch 35: val_loss did not improve from 0.76874\n",
            "2606/2606 [==============================] - 13s 5ms/step - loss: 0.7728 - accuracy: 0.6119 - val_loss: 0.7812 - val_accuracy: 0.6035\n",
            "Epoch 36/100\n",
            "2604/2606 [============================>.] - ETA: 0s - loss: 0.7739 - accuracy: 0.6119\n",
            "Epoch 36: val_loss improved from 0.76874 to 0.76569, saving model to weights.hdf5\n",
            "2606/2606 [==============================] - 15s 6ms/step - loss: 0.7739 - accuracy: 0.6119 - val_loss: 0.7657 - val_accuracy: 0.6163\n",
            "Epoch 37/100\n",
            "2606/2606 [==============================] - ETA: 0s - loss: 0.7726 - accuracy: 0.6130\n",
            "Epoch 37: val_loss did not improve from 0.76569\n",
            "2606/2606 [==============================] - 14s 5ms/step - loss: 0.7726 - accuracy: 0.6130 - val_loss: 0.7664 - val_accuracy: 0.6176\n",
            "Epoch 38/100\n",
            "2604/2606 [============================>.] - ETA: 0s - loss: 0.7724 - accuracy: 0.6141\n",
            "Epoch 38: val_loss improved from 0.76569 to 0.76195, saving model to weights.hdf5\n",
            "2606/2606 [==============================] - 13s 5ms/step - loss: 0.7725 - accuracy: 0.6141 - val_loss: 0.7620 - val_accuracy: 0.6245\n",
            "Epoch 39/100\n",
            "2600/2606 [============================>.] - ETA: 0s - loss: 0.7703 - accuracy: 0.6142\n",
            "Epoch 39: val_loss did not improve from 0.76195\n",
            "2606/2606 [==============================] - 13s 5ms/step - loss: 0.7703 - accuracy: 0.6141 - val_loss: 0.7794 - val_accuracy: 0.6085\n",
            "Epoch 40/100\n",
            "2601/2606 [============================>.] - ETA: 0s - loss: 0.7693 - accuracy: 0.6155\n",
            "Epoch 40: val_loss did not improve from 0.76195\n",
            "2606/2606 [==============================] - 11s 4ms/step - loss: 0.7693 - accuracy: 0.6154 - val_loss: 0.7740 - val_accuracy: 0.6116\n",
            "Epoch 41/100\n",
            "2606/2606 [==============================] - ETA: 0s - loss: 0.7692 - accuracy: 0.6144\n",
            "Epoch 41: val_loss did not improve from 0.76195\n",
            "2606/2606 [==============================] - 13s 5ms/step - loss: 0.7692 - accuracy: 0.6144 - val_loss: 0.7855 - val_accuracy: 0.6055\n",
            "Epoch 42/100\n",
            "2602/2606 [============================>.] - ETA: 0s - loss: 0.7691 - accuracy: 0.6147\n",
            "Epoch 42: val_loss did not improve from 0.76195\n",
            "2606/2606 [==============================] - 13s 5ms/step - loss: 0.7689 - accuracy: 0.6148 - val_loss: 0.7785 - val_accuracy: 0.6116\n",
            "Epoch 43/100\n",
            "2598/2606 [============================>.] - ETA: 0s - loss: 0.7694 - accuracy: 0.6153\n",
            "Epoch 43: val_loss improved from 0.76195 to 0.76179, saving model to weights.hdf5\n",
            "2606/2606 [==============================] - 13s 5ms/step - loss: 0.7694 - accuracy: 0.6153 - val_loss: 0.7618 - val_accuracy: 0.6191\n",
            "Epoch 44/100\n",
            "2594/2606 [============================>.] - ETA: 0s - loss: 0.7675 - accuracy: 0.6163\n",
            "Epoch 44: val_loss did not improve from 0.76179\n",
            "2606/2606 [==============================] - 13s 5ms/step - loss: 0.7675 - accuracy: 0.6163 - val_loss: 0.7619 - val_accuracy: 0.6218\n",
            "Epoch 45/100\n",
            "2605/2606 [============================>.] - ETA: 0s - loss: 0.7662 - accuracy: 0.6172\n",
            "Epoch 45: val_loss improved from 0.76179 to 0.75909, saving model to weights.hdf5\n",
            "2606/2606 [==============================] - 13s 5ms/step - loss: 0.7662 - accuracy: 0.6173 - val_loss: 0.7591 - val_accuracy: 0.6168\n",
            "Epoch 46/100\n",
            "2606/2606 [==============================] - ETA: 0s - loss: 0.7678 - accuracy: 0.6156\n",
            "Epoch 46: val_loss did not improve from 0.75909\n",
            "2606/2606 [==============================] - 12s 5ms/step - loss: 0.7678 - accuracy: 0.6156 - val_loss: 0.7721 - val_accuracy: 0.6074\n",
            "Epoch 47/100\n",
            "2606/2606 [==============================] - ETA: 0s - loss: 0.7659 - accuracy: 0.6172\n",
            "Epoch 47: val_loss did not improve from 0.75909\n",
            "2606/2606 [==============================] - 11s 4ms/step - loss: 0.7659 - accuracy: 0.6172 - val_loss: 0.7814 - val_accuracy: 0.6007\n",
            "Epoch 48/100\n",
            "2599/2606 [============================>.] - ETA: 0s - loss: 0.7646 - accuracy: 0.6180\n",
            "Epoch 48: val_loss improved from 0.75909 to 0.75408, saving model to weights.hdf5\n",
            "2606/2606 [==============================] - 12s 5ms/step - loss: 0.7649 - accuracy: 0.6179 - val_loss: 0.7541 - val_accuracy: 0.6259\n",
            "Epoch 49/100\n",
            "2604/2606 [============================>.] - ETA: 0s - loss: 0.7650 - accuracy: 0.6170\n",
            "Epoch 49: val_loss did not improve from 0.75408\n",
            "2606/2606 [==============================] - 13s 5ms/step - loss: 0.7650 - accuracy: 0.6170 - val_loss: 0.7645 - val_accuracy: 0.6176\n",
            "Epoch 50/100\n",
            "2604/2606 [============================>.] - ETA: 0s - loss: 0.7653 - accuracy: 0.6173\n",
            "Epoch 50: val_loss did not improve from 0.75408\n",
            "2606/2606 [==============================] - 13s 5ms/step - loss: 0.7653 - accuracy: 0.6173 - val_loss: 0.7555 - val_accuracy: 0.6267\n",
            "Epoch 51/100\n",
            "2604/2606 [============================>.] - ETA: 0s - loss: 0.7617 - accuracy: 0.6194\n",
            "Epoch 51: val_loss improved from 0.75408 to 0.74879, saving model to weights.hdf5\n",
            "2606/2606 [==============================] - 13s 5ms/step - loss: 0.7617 - accuracy: 0.6194 - val_loss: 0.7488 - val_accuracy: 0.6278\n",
            "Epoch 52/100\n",
            "2606/2606 [==============================] - ETA: 0s - loss: 0.7602 - accuracy: 0.6204\n",
            "Epoch 52: val_loss improved from 0.74879 to 0.74730, saving model to weights.hdf5\n",
            "2606/2606 [==============================] - 13s 5ms/step - loss: 0.7602 - accuracy: 0.6204 - val_loss: 0.7473 - val_accuracy: 0.6316\n",
            "Epoch 53/100\n",
            "2606/2606 [==============================] - ETA: 0s - loss: 0.7629 - accuracy: 0.6191\n",
            "Epoch 53: val_loss did not improve from 0.74730\n",
            "2606/2606 [==============================] - 13s 5ms/step - loss: 0.7629 - accuracy: 0.6191 - val_loss: 0.7508 - val_accuracy: 0.6256\n",
            "Epoch 54/100\n",
            "2605/2606 [============================>.] - ETA: 0s - loss: 0.7603 - accuracy: 0.6200\n",
            "Epoch 54: val_loss did not improve from 0.74730\n",
            "2606/2606 [==============================] - 11s 4ms/step - loss: 0.7603 - accuracy: 0.6200 - val_loss: 0.7567 - val_accuracy: 0.6307\n",
            "Epoch 55/100\n",
            "2604/2606 [============================>.] - ETA: 0s - loss: 0.7614 - accuracy: 0.6195\n",
            "Epoch 55: val_loss did not improve from 0.74730\n",
            "2606/2606 [==============================] - 13s 5ms/step - loss: 0.7614 - accuracy: 0.6195 - val_loss: 0.7575 - val_accuracy: 0.6221\n",
            "Epoch 56/100\n",
            "2602/2606 [============================>.] - ETA: 0s - loss: 0.7584 - accuracy: 0.6222\n",
            "Epoch 56: val_loss did not improve from 0.74730\n",
            "2606/2606 [==============================] - 13s 5ms/step - loss: 0.7584 - accuracy: 0.6222 - val_loss: 0.7634 - val_accuracy: 0.6200\n",
            "Epoch 57/100\n",
            "2594/2606 [============================>.] - ETA: 0s - loss: 0.7564 - accuracy: 0.6227\n",
            "Epoch 57: val_loss did not improve from 0.74730\n",
            "2606/2606 [==============================] - 13s 5ms/step - loss: 0.7564 - accuracy: 0.6227 - val_loss: 0.7539 - val_accuracy: 0.6272\n",
            "Epoch 58/100\n",
            "2600/2606 [============================>.] - ETA: 0s - loss: 0.7572 - accuracy: 0.6228\n",
            "Epoch 58: val_loss did not improve from 0.74730\n",
            "2606/2606 [==============================] - 13s 5ms/step - loss: 0.7572 - accuracy: 0.6228 - val_loss: 0.7611 - val_accuracy: 0.6239\n",
            "Epoch 59/100\n",
            "2605/2606 [============================>.] - ETA: 0s - loss: 0.7549 - accuracy: 0.6248\n",
            "Epoch 59: val_loss did not improve from 0.74730\n",
            "2606/2606 [==============================] - 12s 5ms/step - loss: 0.7549 - accuracy: 0.6248 - val_loss: 0.7518 - val_accuracy: 0.6267\n",
            "Epoch 60/100\n",
            "2602/2606 [============================>.] - ETA: 0s - loss: 0.7571 - accuracy: 0.6235\n",
            "Epoch 60: val_loss did not improve from 0.74730\n",
            "2606/2606 [==============================] - 12s 5ms/step - loss: 0.7570 - accuracy: 0.6235 - val_loss: 0.7652 - val_accuracy: 0.6163\n",
            "Epoch 61/100\n",
            "2600/2606 [============================>.] - ETA: 0s - loss: 0.7559 - accuracy: 0.6240\n",
            "Epoch 61: val_loss did not improve from 0.74730\n",
            "2606/2606 [==============================] - 12s 5ms/step - loss: 0.7559 - accuracy: 0.6240 - val_loss: 0.7532 - val_accuracy: 0.6256\n",
            "Epoch 62/100\n",
            "2599/2606 [============================>.] - ETA: 0s - loss: 0.7543 - accuracy: 0.6261\n",
            "Epoch 62: val_loss improved from 0.74730 to 0.74406, saving model to weights.hdf5\n",
            "2606/2606 [==============================] - 13s 5ms/step - loss: 0.7543 - accuracy: 0.6260 - val_loss: 0.7441 - val_accuracy: 0.6339\n",
            "Epoch 63/100\n",
            "2595/2606 [============================>.] - ETA: 0s - loss: 0.7565 - accuracy: 0.6239\n",
            "Epoch 63: val_loss did not improve from 0.74406\n",
            "2606/2606 [==============================] - 12s 5ms/step - loss: 0.7564 - accuracy: 0.6238 - val_loss: 0.7443 - val_accuracy: 0.6332\n",
            "Epoch 64/100\n",
            "2606/2606 [==============================] - ETA: 0s - loss: 0.7541 - accuracy: 0.6265\n",
            "Epoch 64: val_loss did not improve from 0.74406\n",
            "2606/2606 [==============================] - 12s 5ms/step - loss: 0.7541 - accuracy: 0.6265 - val_loss: 0.7506 - val_accuracy: 0.6259\n",
            "Epoch 65/100\n",
            "2602/2606 [============================>.] - ETA: 0s - loss: 0.7531 - accuracy: 0.6261\n",
            "Epoch 65: val_loss did not improve from 0.74406\n",
            "2606/2606 [==============================] - 12s 5ms/step - loss: 0.7531 - accuracy: 0.6260 - val_loss: 0.7596 - val_accuracy: 0.6166\n",
            "Epoch 66/100\n",
            "2595/2606 [============================>.] - ETA: 0s - loss: 0.7519 - accuracy: 0.6265\n",
            "Epoch 66: val_loss did not improve from 0.74406\n",
            "2606/2606 [==============================] - 13s 5ms/step - loss: 0.7520 - accuracy: 0.6264 - val_loss: 0.7571 - val_accuracy: 0.6262\n",
            "Epoch 67/100\n",
            "2602/2606 [============================>.] - ETA: 0s - loss: 0.7498 - accuracy: 0.6290\n",
            "Epoch 67: val_loss did not improve from 0.74406\n",
            "2606/2606 [==============================] - 13s 5ms/step - loss: 0.7498 - accuracy: 0.6290 - val_loss: 0.7500 - val_accuracy: 0.6269\n",
            "Epoch 68/100\n",
            "2603/2606 [============================>.] - ETA: 0s - loss: 0.7515 - accuracy: 0.6282\n",
            "Epoch 68: val_loss improved from 0.74406 to 0.74231, saving model to weights.hdf5\n",
            "2606/2606 [==============================] - 12s 5ms/step - loss: 0.7515 - accuracy: 0.6281 - val_loss: 0.7423 - val_accuracy: 0.6338\n",
            "Epoch 69/100\n",
            "2605/2606 [============================>.] - ETA: 0s - loss: 0.7500 - accuracy: 0.6277\n",
            "Epoch 69: val_loss did not improve from 0.74231\n",
            "2606/2606 [==============================] - 12s 5ms/step - loss: 0.7500 - accuracy: 0.6278 - val_loss: 0.7471 - val_accuracy: 0.6335\n",
            "Epoch 70/100\n",
            "2605/2606 [============================>.] - ETA: 0s - loss: 0.7502 - accuracy: 0.6297\n",
            "Epoch 70: val_loss did not improve from 0.74231\n",
            "2606/2606 [==============================] - 13s 5ms/step - loss: 0.7503 - accuracy: 0.6296 - val_loss: 0.7586 - val_accuracy: 0.6199\n",
            "Epoch 71/100\n",
            "2601/2606 [============================>.] - ETA: 0s - loss: 0.7497 - accuracy: 0.6292\n",
            "Epoch 71: val_loss did not improve from 0.74231\n",
            "2606/2606 [==============================] - 11s 4ms/step - loss: 0.7497 - accuracy: 0.6292 - val_loss: 0.7468 - val_accuracy: 0.6307\n",
            "Epoch 72/100\n",
            "2603/2606 [============================>.] - ETA: 0s - loss: 0.7506 - accuracy: 0.6270\n",
            "Epoch 72: val_loss did not improve from 0.74231\n",
            "2606/2606 [==============================] - 16s 6ms/step - loss: 0.7506 - accuracy: 0.6269 - val_loss: 0.7861 - val_accuracy: 0.5747\n",
            "Epoch 73/100\n",
            "2604/2606 [============================>.] - ETA: 0s - loss: 0.7495 - accuracy: 0.6282\n",
            "Epoch 73: val_loss did not improve from 0.74231\n",
            "2606/2606 [==============================] - 15s 6ms/step - loss: 0.7495 - accuracy: 0.6282 - val_loss: 0.7480 - val_accuracy: 0.6293\n",
            "Epoch 74/100\n",
            "2604/2606 [============================>.] - ETA: 0s - loss: 0.7481 - accuracy: 0.6286\n",
            "Epoch 74: val_loss did not improve from 0.74231\n",
            "2606/2606 [==============================] - 13s 5ms/step - loss: 0.7481 - accuracy: 0.6287 - val_loss: 0.7428 - val_accuracy: 0.6317\n",
            "Epoch 75/100\n",
            "2603/2606 [============================>.] - ETA: 0s - loss: 0.7488 - accuracy: 0.6306\n",
            "Epoch 75: val_loss did not improve from 0.74231\n",
            "2606/2606 [==============================] - 14s 5ms/step - loss: 0.7488 - accuracy: 0.6306 - val_loss: 0.7824 - val_accuracy: 0.6276\n",
            "Epoch 76/100\n",
            "2603/2606 [============================>.] - ETA: 0s - loss: 0.7497 - accuracy: 0.6281\n",
            "Epoch 76: val_loss improved from 0.74231 to 0.73640, saving model to weights.hdf5\n",
            "2606/2606 [==============================] - 14s 5ms/step - loss: 0.7498 - accuracy: 0.6280 - val_loss: 0.7364 - val_accuracy: 0.6397\n",
            "Epoch 77/100\n",
            "2603/2606 [============================>.] - ETA: 0s - loss: 0.7472 - accuracy: 0.6299\n",
            "Epoch 77: val_loss did not improve from 0.73640\n",
            "2606/2606 [==============================] - 13s 5ms/step - loss: 0.7473 - accuracy: 0.6299 - val_loss: 0.7692 - val_accuracy: 0.6141\n",
            "Epoch 78/100\n",
            "2605/2606 [============================>.] - ETA: 0s - loss: 0.7485 - accuracy: 0.6303\n",
            "Epoch 78: val_loss did not improve from 0.73640\n",
            "2606/2606 [==============================] - 14s 5ms/step - loss: 0.7485 - accuracy: 0.6303 - val_loss: 0.7543 - val_accuracy: 0.6147\n",
            "Epoch 79/100\n",
            "2602/2606 [============================>.] - ETA: 0s - loss: 0.7467 - accuracy: 0.6323\n",
            "Epoch 79: val_loss did not improve from 0.73640\n",
            "2606/2606 [==============================] - 14s 5ms/step - loss: 0.7466 - accuracy: 0.6323 - val_loss: 0.7628 - val_accuracy: 0.6204\n",
            "Epoch 80/100\n",
            "2600/2606 [============================>.] - ETA: 0s - loss: 0.7448 - accuracy: 0.6332\n",
            "Epoch 80: val_loss did not improve from 0.73640\n",
            "2606/2606 [==============================] - 14s 5ms/step - loss: 0.7449 - accuracy: 0.6331 - val_loss: 0.7460 - val_accuracy: 0.6317\n",
            "Epoch 81/100\n",
            "2606/2606 [==============================] - ETA: 0s - loss: 0.7465 - accuracy: 0.6318\n",
            "Epoch 81: val_loss did not improve from 0.73640\n",
            "2606/2606 [==============================] - 13s 5ms/step - loss: 0.7465 - accuracy: 0.6318 - val_loss: 0.7816 - val_accuracy: 0.5892\n",
            "Epoch 82/100\n",
            "2605/2606 [============================>.] - ETA: 0s - loss: 0.7439 - accuracy: 0.6335\n",
            "Epoch 82: val_loss did not improve from 0.73640\n",
            "2606/2606 [==============================] - 13s 5ms/step - loss: 0.7439 - accuracy: 0.6335 - val_loss: 0.7466 - val_accuracy: 0.6292\n",
            "Epoch 83/100\n",
            "2606/2606 [==============================] - ETA: 0s - loss: 0.7451 - accuracy: 0.6320\n",
            "Epoch 83: val_loss did not improve from 0.73640\n",
            "2606/2606 [==============================] - 15s 6ms/step - loss: 0.7451 - accuracy: 0.6320 - val_loss: 0.7576 - val_accuracy: 0.6203\n",
            "Epoch 84/100\n",
            "2603/2606 [============================>.] - ETA: 0s - loss: 0.7462 - accuracy: 0.6303\n",
            "Epoch 84: val_loss did not improve from 0.73640\n",
            "2606/2606 [==============================] - 17s 6ms/step - loss: 0.7462 - accuracy: 0.6304 - val_loss: 0.7378 - val_accuracy: 0.6368\n",
            "Epoch 85/100\n",
            "2596/2606 [============================>.] - ETA: 0s - loss: 0.7425 - accuracy: 0.6356\n",
            "Epoch 85: val_loss did not improve from 0.73640\n",
            "2606/2606 [==============================] - 13s 5ms/step - loss: 0.7426 - accuracy: 0.6356 - val_loss: 0.7613 - val_accuracy: 0.6210\n",
            "Epoch 86/100\n",
            "2598/2606 [============================>.] - ETA: 0s - loss: 0.7450 - accuracy: 0.6348\n",
            "Epoch 86: val_loss did not improve from 0.73640\n",
            "2606/2606 [==============================] - 14s 5ms/step - loss: 0.7448 - accuracy: 0.6349 - val_loss: 0.7380 - val_accuracy: 0.6387\n",
            "Epoch 87/100\n",
            "2599/2606 [============================>.] - ETA: 0s - loss: 0.7426 - accuracy: 0.6338\n",
            "Epoch 87: val_loss did not improve from 0.73640\n",
            "2606/2606 [==============================] - 13s 5ms/step - loss: 0.7425 - accuracy: 0.6338 - val_loss: 0.7408 - val_accuracy: 0.6378\n",
            "Epoch 88/100\n",
            "2605/2606 [============================>.] - ETA: 0s - loss: 0.7429 - accuracy: 0.6353\n",
            "Epoch 88: val_loss did not improve from 0.73640\n",
            "2606/2606 [==============================] - 14s 6ms/step - loss: 0.7428 - accuracy: 0.6353 - val_loss: 0.7454 - val_accuracy: 0.6333\n",
            "Epoch 89/100\n",
            "2605/2606 [============================>.] - ETA: 0s - loss: 0.7446 - accuracy: 0.6340\n",
            "Epoch 89: val_loss did not improve from 0.73640\n",
            "2606/2606 [==============================] - 14s 6ms/step - loss: 0.7446 - accuracy: 0.6340 - val_loss: 0.7980 - val_accuracy: 0.5927\n",
            "Epoch 90/100\n",
            "2606/2606 [==============================] - ETA: 0s - loss: 0.7428 - accuracy: 0.6350\n",
            "Epoch 90: val_loss did not improve from 0.73640\n",
            "2606/2606 [==============================] - 15s 6ms/step - loss: 0.7428 - accuracy: 0.6350 - val_loss: 0.7464 - val_accuracy: 0.6347\n",
            "Epoch 91/100\n",
            "2599/2606 [============================>.] - ETA: 0s - loss: 0.7445 - accuracy: 0.6317\n",
            "Epoch 91: val_loss did not improve from 0.73640\n",
            "2606/2606 [==============================] - 15s 6ms/step - loss: 0.7444 - accuracy: 0.6317 - val_loss: 0.7460 - val_accuracy: 0.6257\n",
            "Epoch 92/100\n",
            "2602/2606 [============================>.] - ETA: 0s - loss: 0.7423 - accuracy: 0.6350\n",
            "Epoch 92: val_loss did not improve from 0.73640\n",
            "2606/2606 [==============================] - 15s 6ms/step - loss: 0.7422 - accuracy: 0.6351 - val_loss: 0.7426 - val_accuracy: 0.6346\n",
            "Epoch 92: early stopping\n"
          ]
        }
      ]
    },
    {
      "cell_type": "code",
      "source": [
        "from keras.models import load_model\n",
        "model = load_model(\"weights.hdf5\")"
      ],
      "metadata": {
        "id": "cmDJqcLbyKg3"
      },
      "execution_count": 17,
      "outputs": []
    },
    {
      "cell_type": "code",
      "source": [
        "start_time = time.time()\n",
        "predictions_test = model.predict(X_test)\n",
        "dt_time_pred = time.time() - start_time"
      ],
      "metadata": {
        "id": "0367yUaCcjej",
        "colab": {
          "base_uri": "https://localhost:8080/"
        },
        "outputId": "fd62226d-53af-4660-cc1a-b60121d60895"
      },
      "execution_count": 18,
      "outputs": [
        {
          "output_type": "stream",
          "name": "stdout",
          "text": [
            "1629/1629 [==============================] - 3s 2ms/step\n"
          ]
        }
      ]
    },
    {
      "cell_type": "code",
      "source": [
        "print(predictions_test)"
      ],
      "metadata": {
        "colab": {
          "base_uri": "https://localhost:8080/"
        },
        "id": "9PBa7ZOKeeLD",
        "outputId": "c215d0a8-1175-4cc6-b161-34b494432f9f"
      },
      "execution_count": 19,
      "outputs": [
        {
          "output_type": "stream",
          "name": "stdout",
          "text": [
            "[[0.02081234 0.5491795  0.4300082 ]\n",
            " [0.0177356  0.5115659  0.47069845]\n",
            " [0.02229356 0.6843124  0.29339406]\n",
            " ...\n",
            " [0.01263611 0.64244425 0.3449196 ]\n",
            " [0.01183403 0.46602407 0.52214175]\n",
            " [0.15455173 0.7137409  0.1317074 ]]\n"
          ]
        }
      ]
    },
    {
      "cell_type": "code",
      "source": [
        "predictions_test.shape"
      ],
      "metadata": {
        "colab": {
          "base_uri": "https://localhost:8080/"
        },
        "id": "xA5i3NxR0ThO",
        "outputId": "2e3676d6-2649-43f4-e53b-b8cb1b56a090"
      },
      "execution_count": 20,
      "outputs": [
        {
          "output_type": "execute_result",
          "data": {
            "text/plain": [
              "(52121, 3)"
            ]
          },
          "metadata": {},
          "execution_count": 20
        }
      ]
    },
    {
      "cell_type": "code",
      "source": [
        "predictions_test = predictions_test.argmax(axis=1)\n",
        "predictions_test "
      ],
      "metadata": {
        "colab": {
          "base_uri": "https://localhost:8080/"
        },
        "id": "32tuOhFE0ISP",
        "outputId": "6b8485c2-7d41-4c11-e233-098f58aeb843"
      },
      "execution_count": 21,
      "outputs": [
        {
          "output_type": "execute_result",
          "data": {
            "text/plain": [
              "array([1, 1, 1, ..., 1, 2, 1])"
            ]
          },
          "metadata": {},
          "execution_count": 21
        }
      ]
    },
    {
      "cell_type": "code",
      "source": [
        "predictions_test = predictions_test + 1\n",
        "predictions_test"
      ],
      "metadata": {
        "colab": {
          "base_uri": "https://localhost:8080/"
        },
        "id": "D32c0eXj1HyR",
        "outputId": "b2929379-576d-4fef-9489-d674e2708e87"
      },
      "execution_count": 22,
      "outputs": [
        {
          "output_type": "execute_result",
          "data": {
            "text/plain": [
              "array([2, 2, 2, ..., 2, 3, 2])"
            ]
          },
          "metadata": {},
          "execution_count": 22
        }
      ]
    },
    {
      "cell_type": "code",
      "source": [
        "y_test = y_test.argmax(axis=1)\n",
        "y_test "
      ],
      "metadata": {
        "colab": {
          "base_uri": "https://localhost:8080/"
        },
        "id": "gAPS-s431Lf5",
        "outputId": "3d7cd352-9d26-4725-c31c-40cbd253191e"
      },
      "execution_count": 23,
      "outputs": [
        {
          "data": {
            "text/plain": [
              "array([1, 1, 1, ..., 2, 2, 1])"
            ]
          },
          "execution_count": 23,
          "metadata": {},
          "output_type": "execute_result"
        }
      ]
    },
    {
      "cell_type": "code",
      "source": [
        "y_test = y_test + 1\n",
        "y_test"
      ],
      "metadata": {
        "colab": {
          "base_uri": "https://localhost:8080/"
        },
        "id": "dYuiQmy21T7C",
        "outputId": "a3be6e29-0037-4a96-fe70-dc9305a848d6"
      },
      "execution_count": 24,
      "outputs": [
        {
          "output_type": "execute_result",
          "data": {
            "text/plain": [
              "array([2, 2, 2, ..., 3, 3, 2])"
            ]
          },
          "metadata": {},
          "execution_count": 24
        }
      ]
    },
    {
      "cell_type": "code",
      "source": [
        "print(\"Fit Time: {} seconds\".format(dt_time_fit))\n",
        "print(\"Prediction Time: {} seconds\".format(dt_time_pred))\n",
        "print(\"Precision: \", metrics.precision_score(y_test,predictions_test, average='micro'))\n",
        "print(\"Recall: \", metrics.recall_score(y_test,predictions_test,average='micro'))\n",
        "print(\"Accuracy: \", metrics.accuracy_score(y_test,predictions_test))\n",
        "print(\"F1_score: \", metrics.f1_score(y_test,predictions_test, average='micro'))"
      ],
      "metadata": {
        "colab": {
          "base_uri": "https://localhost:8080/"
        },
        "id": "NNUVT6zddo3O",
        "outputId": "1d577563-300c-492e-a3a1-69b9f40f439b"
      },
      "execution_count": 25,
      "outputs": [
        {
          "output_type": "stream",
          "name": "stdout",
          "text": [
            "Fit Time: 1184.6432104110718 seconds\n",
            "Prediction Time: 3.461582899093628 seconds\n",
            "Precision:  0.6451142533719614\n",
            "Recall:  0.6451142533719614\n",
            "Accuracy:  0.6451142533719614\n",
            "F1_score:  0.6451142533719614\n"
          ]
        }
      ]
    },
    {
      "cell_type": "code",
      "source": [
        "data = confusion_matrix(y_test,predictions_test)\n",
        "cm = pd.DataFrame(data, columns=np.unique(y_test), index = np.unique(y_test))\n",
        "cm.index.name = 'Actual'\n",
        "cm.columns.name = 'Predicted'\n",
        "plt.figure(figsize = (10,7))\n",
        "sns.heatmap(cm, annot=True, fmt=\"d\", annot_kws={\"size\": 12})\n",
        "plt.title(\"Confusion Matrix\")\n",
        "plt.show()"
      ],
      "metadata": {
        "colab": {
          "base_uri": "https://localhost:8080/",
          "height": 641
        },
        "id": "RmXhp7CvdCAb",
        "outputId": "9a904817-a76e-4cb8-97f9-a448d4d5f8bb"
      },
      "execution_count": 26,
      "outputs": [
        {
          "output_type": "display_data",
          "data": {
            "text/plain": [
              "<Figure size 1000x700 with 2 Axes>"
            ],
            "image/png": "[encoded data removed]"
          },
          "metadata": {}
        }
      ]
    }
  ]
}