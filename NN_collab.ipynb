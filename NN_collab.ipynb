{
  "nbformat": 4,
  "nbformat_minor": 0,
  "metadata": {
    "colab": {
      "provenance": []
    },
    "kernelspec": {
      "name": "python3",
      "display_name": "Python 3"
    },
    "language_info": {
      "name": "python"
    }
  },
  "cells": [
    {
      "cell_type": "code",
      "execution_count": 195,
      "metadata": {
        "id": "rs4ycvG2azx7"
      },
      "outputs": [],
      "source": [
        "import numpy as np\n",
        "import pandas as pd"
      ]
    },
    {
      "cell_type": "code",
      "source": [
        "from tensorflow.keras.models import Sequential\n",
        "from tensorflow.keras.layers import Dense, Conv2D, MaxPooling2D, Dropout, Flatten, Input\n",
        "from tensorflow.keras.optimizers import SGD, Adam\n",
        "from tensorflow.keras.callbacks import EarlyStopping, ModelCheckpoint\n",
        "from sklearn import metrics\n",
        "from sklearn.model_selection import train_test_split"
      ],
      "metadata": {
        "id": "Jnw43CKdbRom"
      },
      "execution_count": 196,
      "outputs": []
    },
    {
      "cell_type": "code",
      "source": [
        "import time"
      ],
      "metadata": {
        "id": "cY3OWGBwcLQ9"
      },
      "execution_count": 197,
      "outputs": []
    },
    {
      "cell_type": "code",
      "source": [
        "from sklearn.metrics import confusion_matrix"
      ],
      "metadata": {
        "id": "_t2YsHu7m8Lk"
      },
      "execution_count": 198,
      "outputs": []
    },
    {
      "cell_type": "code",
      "source": [
        "import matplotlib.pyplot as plt"
      ],
      "metadata": {
        "id": "giLDsZ_ZnG3d"
      },
      "execution_count": 199,
      "outputs": []
    },
    {
      "cell_type": "code",
      "source": [
        "import seaborn as sns"
      ],
      "metadata": {
        "id": "QKTfY8W0nLlr"
      },
      "execution_count": 200,
      "outputs": []
    },
    {
      "cell_type": "code",
      "source": [
        "train_labels = pd.read_csv(\"/content/drive/MyDrive/DataDcience/train_labels_preprocessed.csv\")\n",
        "train_values = pd.read_csv(\"/content/drive/MyDrive/DataDcience/train_values_preprocessed.csv\")"
      ],
      "metadata": {
        "id": "MbhhayhcbYpR"
      },
      "execution_count": 201,
      "outputs": []
    },
    {
      "cell_type": "code",
      "source": [
        "train_labels.drop(labels=['Unnamed: 0'],axis=1,inplace=True)\n",
        "train_labels.head()"
      ],
      "metadata": {
        "colab": {
          "base_uri": "https://localhost:8080/",
          "height": 206
        },
        "id": "eLwHP9HblEvQ",
        "outputId": "584bfac4-b9a3-424a-a548-333fcd094fd8"
      },
      "execution_count": 202,
      "outputs": [
        {
          "output_type": "execute_result",
          "data": {
            "text/plain": [
              "   damage_grade\n",
              "0             3\n",
              "1             2\n",
              "2             3\n",
              "3             2\n",
              "4             3"
            ],
            "text/html": [
              "\n",
              "  <div id=\"df-7537fa8d-83a8-4745-a0fa-16bdf7d8b21c\">\n",
              "    <div class=\"colab-df-container\">\n",
              "      <div>\n",
              "<style scoped>\n",
              "    .dataframe tbody tr th:only-of-type {\n",
              "        vertical-align: middle;\n",
              "    }\n",
              "\n",
              "    .dataframe tbody tr th {\n",
              "        vertical-align: top;\n",
              "    }\n",
              "\n",
              "    .dataframe thead th {\n",
              "        text-align: right;\n",
              "    }\n",
              "</style>\n",
              "<table border=\"1\" class=\"dataframe\">\n",
              "  <thead>\n",
              "    <tr style=\"text-align: right;\">\n",
              "      <th></th>\n",
              "      <th>damage_grade</th>\n",
              "    </tr>\n",
              "  </thead>\n",
              "  <tbody>\n",
              "    <tr>\n",
              "      <th>0</th>\n",
              "      <td>3</td>\n",
              "    </tr>\n",
              "    <tr>\n",
              "      <th>1</th>\n",
              "      <td>2</td>\n",
              "    </tr>\n",
              "    <tr>\n",
              "      <th>2</th>\n",
              "      <td>3</td>\n",
              "    </tr>\n",
              "    <tr>\n",
              "      <th>3</th>\n",
              "      <td>2</td>\n",
              "    </tr>\n",
              "    <tr>\n",
              "      <th>4</th>\n",
              "      <td>3</td>\n",
              "    </tr>\n",
              "  </tbody>\n",
              "</table>\n",
              "</div>\n",
              "      <button class=\"colab-df-convert\" onclick=\"convertToInteractive('df-7537fa8d-83a8-4745-a0fa-16bdf7d8b21c')\"\n",
              "              title=\"Convert this dataframe to an interactive table.\"\n",
              "              style=\"display:none;\">\n",
              "        \n",
              "  <svg xmlns=\"http://www.w3.org/2000/svg\" height=\"24px\"viewBox=\"0 0 24 24\"\n",
              "       width=\"24px\">\n",
              "    <path d=\"M0 0h24v24H0V0z\" fill=\"none\"/>\n",
              "    <path d=\"M18.56 5.44l.94 2.06.94-2.06 2.06-.94-2.06-.94-.94-2.06-.94 2.06-2.06.94zm-11 1L8.5 8.5l.94-2.06 2.06-.94-2.06-.94L8.5 2.5l-.94 2.06-2.06.94zm10 10l.94 2.06.94-2.06 2.06-.94-2.06-.94-.94-2.06-.94 2.06-2.06.94z\"/><path d=\"M17.41 7.96l-1.37-1.37c-.4-.4-.92-.59-1.43-.59-.52 0-1.04.2-1.43.59L10.3 9.45l-7.72 7.72c-.78.78-.78 2.05 0 2.83L4 21.41c.39.39.9.59 1.41.59.51 0 1.02-.2 1.41-.59l7.78-7.78 2.81-2.81c.8-.78.8-2.07 0-2.86zM5.41 20L4 18.59l7.72-7.72 1.47 1.35L5.41 20z\"/>\n",
              "  </svg>\n",
              "      </button>\n",
              "      \n",
              "  <style>\n",
              "    .colab-df-container {\n",
              "      display:flex;\n",
              "      flex-wrap:wrap;\n",
              "      gap: 12px;\n",
              "    }\n",
              "\n",
              "    .colab-df-convert {\n",
              "      background-color: #E8F0FE;\n",
              "      border: none;\n",
              "      border-radius: 50%;\n",
              "      cursor: pointer;\n",
              "      display: none;\n",
              "      fill: #1967D2;\n",
              "      height: 32px;\n",
              "      padding: 0 0 0 0;\n",
              "      width: 32px;\n",
              "    }\n",
              "\n",
              "    .colab-df-convert:hover {\n",
              "      background-color: #E2EBFA;\n",
              "      box-shadow: 0px 1px 2px rgba(60, 64, 67, 0.3), 0px 1px 3px 1px rgba(60, 64, 67, 0.15);\n",
              "      fill: #174EA6;\n",
              "    }\n",
              "\n",
              "    [theme=dark] .colab-df-convert {\n",
              "      background-color: #3B4455;\n",
              "      fill: #D2E3FC;\n",
              "    }\n",
              "\n",
              "    [theme=dark] .colab-df-convert:hover {\n",
              "      background-color: #434B5C;\n",
              "      box-shadow: 0px 1px 3px 1px rgba(0, 0, 0, 0.15);\n",
              "      filter: drop-shadow(0px 1px 2px rgba(0, 0, 0, 0.3));\n",
              "      fill: #FFFFFF;\n",
              "    }\n",
              "  </style>\n",
              "\n",
              "      <script>\n",
              "        const buttonEl =\n",
              "          document.querySelector('#df-7537fa8d-83a8-4745-a0fa-16bdf7d8b21c button.colab-df-convert');\n",
              "        buttonEl.style.display =\n",
              "          google.colab.kernel.accessAllowed ? 'block' : 'none';\n",
              "\n",
              "        async function convertToInteractive(key) {\n",
              "          const element = document.querySelector('#df-7537fa8d-83a8-4745-a0fa-16bdf7d8b21c');\n",
              "          const dataTable =\n",
              "            await google.colab.kernel.invokeFunction('convertToInteractive',\n",
              "                                                     [key], {});\n",
              "          if (!dataTable) return;\n",
              "\n",
              "          const docLinkHtml = 'Like what you see? Visit the ' +\n",
              "            '<a target=\"_blank\" href=https://colab.research.google.com/notebooks/data_table.ipynb>data table notebook</a>'\n",
              "            + ' to learn more about interactive tables.';\n",
              "          element.innerHTML = '';\n",
              "          dataTable['output_type'] = 'display_data';\n",
              "          await google.colab.output.renderOutput(dataTable, element);\n",
              "          const docLink = document.createElement('div');\n",
              "          docLink.innerHTML = docLinkHtml;\n",
              "          element.appendChild(docLink);\n",
              "        }\n",
              "      </script>\n",
              "    </div>\n",
              "  </div>\n",
              "  "
            ]
          },
          "metadata": {},
          "execution_count": 202
        }
      ]
    },
    {
      "cell_type": "code",
      "source": [
        "train_labels[\"damage_grade\"] = train_labels[\"damage_grade\"] - 1\n",
        "train_labels.head()"
      ],
      "metadata": {
        "colab": {
          "base_uri": "https://localhost:8080/",
          "height": 206
        },
        "id": "POH_hpe4w01v",
        "outputId": "ef288223-8cea-439d-c732-f516872cd2dd"
      },
      "execution_count": 203,
      "outputs": [
        {
          "output_type": "execute_result",
          "data": {
            "text/plain": [
              "   damage_grade\n",
              "0             2\n",
              "1             1\n",
              "2             2\n",
              "3             1\n",
              "4             2"
            ],
            "text/html": [
              "\n",
              "  <div id=\"df-42560ba7-8abd-4bc0-bc44-bd7b7a671680\">\n",
              "    <div class=\"colab-df-container\">\n",
              "      <div>\n",
              "<style scoped>\n",
              "    .dataframe tbody tr th:only-of-type {\n",
              "        vertical-align: middle;\n",
              "    }\n",
              "\n",
              "    .dataframe tbody tr th {\n",
              "        vertical-align: top;\n",
              "    }\n",
              "\n",
              "    .dataframe thead th {\n",
              "        text-align: right;\n",
              "    }\n",
              "</style>\n",
              "<table border=\"1\" class=\"dataframe\">\n",
              "  <thead>\n",
              "    <tr style=\"text-align: right;\">\n",
              "      <th></th>\n",
              "      <th>damage_grade</th>\n",
              "    </tr>\n",
              "  </thead>\n",
              "  <tbody>\n",
              "    <tr>\n",
              "      <th>0</th>\n",
              "      <td>2</td>\n",
              "    </tr>\n",
              "    <tr>\n",
              "      <th>1</th>\n",
              "      <td>1</td>\n",
              "    </tr>\n",
              "    <tr>\n",
              "      <th>2</th>\n",
              "      <td>2</td>\n",
              "    </tr>\n",
              "    <tr>\n",
              "      <th>3</th>\n",
              "      <td>1</td>\n",
              "    </tr>\n",
              "    <tr>\n",
              "      <th>4</th>\n",
              "      <td>2</td>\n",
              "    </tr>\n",
              "  </tbody>\n",
              "</table>\n",
              "</div>\n",
              "      <button class=\"colab-df-convert\" onclick=\"convertToInteractive('df-42560ba7-8abd-4bc0-bc44-bd7b7a671680')\"\n",
              "              title=\"Convert this dataframe to an interactive table.\"\n",
              "              style=\"display:none;\">\n",
              "        \n",
              "  <svg xmlns=\"http://www.w3.org/2000/svg\" height=\"24px\"viewBox=\"0 0 24 24\"\n",
              "       width=\"24px\">\n",
              "    <path d=\"M0 0h24v24H0V0z\" fill=\"none\"/>\n",
              "    <path d=\"M18.56 5.44l.94 2.06.94-2.06 2.06-.94-2.06-.94-.94-2.06-.94 2.06-2.06.94zm-11 1L8.5 8.5l.94-2.06 2.06-.94-2.06-.94L8.5 2.5l-.94 2.06-2.06.94zm10 10l.94 2.06.94-2.06 2.06-.94-2.06-.94-.94-2.06-.94 2.06-2.06.94z\"/><path d=\"M17.41 7.96l-1.37-1.37c-.4-.4-.92-.59-1.43-.59-.52 0-1.04.2-1.43.59L10.3 9.45l-7.72 7.72c-.78.78-.78 2.05 0 2.83L4 21.41c.39.39.9.59 1.41.59.51 0 1.02-.2 1.41-.59l7.78-7.78 2.81-2.81c.8-.78.8-2.07 0-2.86zM5.41 20L4 18.59l7.72-7.72 1.47 1.35L5.41 20z\"/>\n",
              "  </svg>\n",
              "      </button>\n",
              "      \n",
              "  <style>\n",
              "    .colab-df-container {\n",
              "      display:flex;\n",
              "      flex-wrap:wrap;\n",
              "      gap: 12px;\n",
              "    }\n",
              "\n",
              "    .colab-df-convert {\n",
              "      background-color: #E8F0FE;\n",
              "      border: none;\n",
              "      border-radius: 50%;\n",
              "      cursor: pointer;\n",
              "      display: none;\n",
              "      fill: #1967D2;\n",
              "      height: 32px;\n",
              "      padding: 0 0 0 0;\n",
              "      width: 32px;\n",
              "    }\n",
              "\n",
              "    .colab-df-convert:hover {\n",
              "      background-color: #E2EBFA;\n",
              "      box-shadow: 0px 1px 2px rgba(60, 64, 67, 0.3), 0px 1px 3px 1px rgba(60, 64, 67, 0.15);\n",
              "      fill: #174EA6;\n",
              "    }\n",
              "\n",
              "    [theme=dark] .colab-df-convert {\n",
              "      background-color: #3B4455;\n",
              "      fill: #D2E3FC;\n",
              "    }\n",
              "\n",
              "    [theme=dark] .colab-df-convert:hover {\n",
              "      background-color: #434B5C;\n",
              "      box-shadow: 0px 1px 3px 1px rgba(0, 0, 0, 0.15);\n",
              "      filter: drop-shadow(0px 1px 2px rgba(0, 0, 0, 0.3));\n",
              "      fill: #FFFFFF;\n",
              "    }\n",
              "  </style>\n",
              "\n",
              "      <script>\n",
              "        const buttonEl =\n",
              "          document.querySelector('#df-42560ba7-8abd-4bc0-bc44-bd7b7a671680 button.colab-df-convert');\n",
              "        buttonEl.style.display =\n",
              "          google.colab.kernel.accessAllowed ? 'block' : 'none';\n",
              "\n",
              "        async function convertToInteractive(key) {\n",
              "          const element = document.querySelector('#df-42560ba7-8abd-4bc0-bc44-bd7b7a671680');\n",
              "          const dataTable =\n",
              "            await google.colab.kernel.invokeFunction('convertToInteractive',\n",
              "                                                     [key], {});\n",
              "          if (!dataTable) return;\n",
              "\n",
              "          const docLinkHtml = 'Like what you see? Visit the ' +\n",
              "            '<a target=\"_blank\" href=https://colab.research.google.com/notebooks/data_table.ipynb>data table notebook</a>'\n",
              "            + ' to learn more about interactive tables.';\n",
              "          element.innerHTML = '';\n",
              "          dataTable['output_type'] = 'display_data';\n",
              "          await google.colab.output.renderOutput(dataTable, element);\n",
              "          const docLink = document.createElement('div');\n",
              "          docLink.innerHTML = docLinkHtml;\n",
              "          element.appendChild(docLink);\n",
              "        }\n",
              "      </script>\n",
              "    </div>\n",
              "  </div>\n",
              "  "
            ]
          },
          "metadata": {},
          "execution_count": 203
        }
      ]
    },
    {
      "cell_type": "code",
      "source": [
        "from tensorflow.keras.utils import to_categorical\n",
        "train_labels = to_categorical(train_labels, 3)"
      ],
      "metadata": {
        "id": "SdyrWuditCWj"
      },
      "execution_count": 204,
      "outputs": []
    },
    {
      "cell_type": "code",
      "source": [
        "train_labels"
      ],
      "metadata": {
        "colab": {
          "base_uri": "https://localhost:8080/"
        },
        "id": "Hq74xaEBvysQ",
        "outputId": "c6ec9e94-1587-4b4b-ecdb-db2a820b650a"
      },
      "execution_count": 205,
      "outputs": [
        {
          "output_type": "execute_result",
          "data": {
            "text/plain": [
              "array([[0., 0., 1.],\n",
              "       [0., 1., 0.],\n",
              "       [0., 0., 1.],\n",
              "       ...,\n",
              "       [0., 0., 1.],\n",
              "       [0., 1., 0.],\n",
              "       [0., 0., 1.]], dtype=float32)"
            ]
          },
          "metadata": {},
          "execution_count": 205
        }
      ]
    },
    {
      "cell_type": "code",
      "source": [
        "train_values.drop(labels=['Unnamed: 0'],axis=1,inplace=True)\n",
        "train_values.head()"
      ],
      "metadata": {
        "colab": {
          "base_uri": "https://localhost:8080/",
          "height": 299
        },
        "id": "0lnnJADKlHvY",
        "outputId": "753d6546-fae6-4d52-9801-2ed9d33f8157"
      },
      "execution_count": 206,
      "outputs": [
        {
          "output_type": "execute_result",
          "data": {
            "text/plain": [
              "   geo_level_1_id  geo_level_2_id  geo_level_3_id  count_floors_pre_eq  \\\n",
              "0               6             487           12198                    2   \n",
              "1               8             900            2812                    2   \n",
              "2              21             363            8973                    2   \n",
              "3              22             418           10694                    2   \n",
              "4              11             131            1488                    3   \n",
              "\n",
              "        age  area_percentage  height_percentage  has_superstructure_adobe_mud  \\\n",
              "0  0.500000         0.357143           0.428571                             1   \n",
              "1  0.166667         0.500000           0.714286                             0   \n",
              "2  0.166667         0.285714           0.428571                             0   \n",
              "3  0.166667         0.357143           0.428571                             0   \n",
              "4  0.500000         0.500000           1.000000                             1   \n",
              "\n",
              "   has_superstructure_mud_mortar_stone  has_superstructure_stone_flag  ...  \\\n",
              "0                                    1                              0  ...   \n",
              "1                                    1                              0  ...   \n",
              "2                                    1                              0  ...   \n",
              "3                                    1                              0  ...   \n",
              "4                                    0                              0  ...   \n",
              "\n",
              "   plan_configuration_f  plan_configuration_m  plan_configuration_n  \\\n",
              "0                     0                     0                     0   \n",
              "1                     0                     0                     0   \n",
              "2                     0                     0                     0   \n",
              "3                     0                     0                     0   \n",
              "4                     0                     0                     0   \n",
              "\n",
              "   plan_configuration_o  plan_configuration_q  plan_configuration_s  \\\n",
              "0                     0                     0                     0   \n",
              "1                     0                     0                     0   \n",
              "2                     0                     0                     0   \n",
              "3                     0                     0                     0   \n",
              "4                     0                     0                     0   \n",
              "\n",
              "   plan_configuration_u  legal_ownership_status_r  legal_ownership_status_v  \\\n",
              "0                     0                         0                         1   \n",
              "1                     0                         0                         1   \n",
              "2                     0                         0                         1   \n",
              "3                     0                         0                         1   \n",
              "4                     0                         0                         1   \n",
              "\n",
              "   legal_ownership_status_w  \n",
              "0                         0  \n",
              "1                         0  \n",
              "2                         0  \n",
              "3                         0  \n",
              "4                         0  \n",
              "\n",
              "[5 rows x 60 columns]"
            ],
            "text/html": [
              "\n",
              "  <div id=\"df-2dbaa322-512f-49ec-9f4b-63d855720a08\">\n",
              "    <div class=\"colab-df-container\">\n",
              "      <div>\n",
              "<style scoped>\n",
              "    .dataframe tbody tr th:only-of-type {\n",
              "        vertical-align: middle;\n",
              "    }\n",
              "\n",
              "    .dataframe tbody tr th {\n",
              "        vertical-align: top;\n",
              "    }\n",
              "\n",
              "    .dataframe thead th {\n",
              "        text-align: right;\n",
              "    }\n",
              "</style>\n",
              "<table border=\"1\" class=\"dataframe\">\n",
              "  <thead>\n",
              "    <tr style=\"text-align: right;\">\n",
              "      <th></th>\n",
              "      <th>geo_level_1_id</th>\n",
              "      <th>geo_level_2_id</th>\n",
              "      <th>geo_level_3_id</th>\n",
              "      <th>count_floors_pre_eq</th>\n",
              "      <th>age</th>\n",
              "      <th>area_percentage</th>\n",
              "      <th>height_percentage</th>\n",
              "      <th>has_superstructure_adobe_mud</th>\n",
              "      <th>has_superstructure_mud_mortar_stone</th>\n",
              "      <th>has_superstructure_stone_flag</th>\n",
              "      <th>...</th>\n",
              "      <th>plan_configuration_f</th>\n",
              "      <th>plan_configuration_m</th>\n",
              "      <th>plan_configuration_n</th>\n",
              "      <th>plan_configuration_o</th>\n",
              "      <th>plan_configuration_q</th>\n",
              "      <th>plan_configuration_s</th>\n",
              "      <th>plan_configuration_u</th>\n",
              "      <th>legal_ownership_status_r</th>\n",
              "      <th>legal_ownership_status_v</th>\n",
              "      <th>legal_ownership_status_w</th>\n",
              "    </tr>\n",
              "  </thead>\n",
              "  <tbody>\n",
              "    <tr>\n",
              "      <th>0</th>\n",
              "      <td>6</td>\n",
              "      <td>487</td>\n",
              "      <td>12198</td>\n",
              "      <td>2</td>\n",
              "      <td>0.500000</td>\n",
              "      <td>0.357143</td>\n",
              "      <td>0.428571</td>\n",
              "      <td>1</td>\n",
              "      <td>1</td>\n",
              "      <td>0</td>\n",
              "      <td>...</td>\n",
              "      <td>0</td>\n",
              "      <td>0</td>\n",
              "      <td>0</td>\n",
              "      <td>0</td>\n",
              "      <td>0</td>\n",
              "      <td>0</td>\n",
              "      <td>0</td>\n",
              "      <td>0</td>\n",
              "      <td>1</td>\n",
              "      <td>0</td>\n",
              "    </tr>\n",
              "    <tr>\n",
              "      <th>1</th>\n",
              "      <td>8</td>\n",
              "      <td>900</td>\n",
              "      <td>2812</td>\n",
              "      <td>2</td>\n",
              "      <td>0.166667</td>\n",
              "      <td>0.500000</td>\n",
              "      <td>0.714286</td>\n",
              "      <td>0</td>\n",
              "      <td>1</td>\n",
              "      <td>0</td>\n",
              "      <td>...</td>\n",
              "      <td>0</td>\n",
              "      <td>0</td>\n",
              "      <td>0</td>\n",
              "      <td>0</td>\n",
              "      <td>0</td>\n",
              "      <td>0</td>\n",
              "      <td>0</td>\n",
              "      <td>0</td>\n",
              "      <td>1</td>\n",
              "      <td>0</td>\n",
              "    </tr>\n",
              "    <tr>\n",
              "      <th>2</th>\n",
              "      <td>21</td>\n",
              "      <td>363</td>\n",
              "      <td>8973</td>\n",
              "      <td>2</td>\n",
              "      <td>0.166667</td>\n",
              "      <td>0.285714</td>\n",
              "      <td>0.428571</td>\n",
              "      <td>0</td>\n",
              "      <td>1</td>\n",
              "      <td>0</td>\n",
              "      <td>...</td>\n",
              "      <td>0</td>\n",
              "      <td>0</td>\n",
              "      <td>0</td>\n",
              "      <td>0</td>\n",
              "      <td>0</td>\n",
              "      <td>0</td>\n",
              "      <td>0</td>\n",
              "      <td>0</td>\n",
              "      <td>1</td>\n",
              "      <td>0</td>\n",
              "    </tr>\n",
              "    <tr>\n",
              "      <th>3</th>\n",
              "      <td>22</td>\n",
              "      <td>418</td>\n",
              "      <td>10694</td>\n",
              "      <td>2</td>\n",
              "      <td>0.166667</td>\n",
              "      <td>0.357143</td>\n",
              "      <td>0.428571</td>\n",
              "      <td>0</td>\n",
              "      <td>1</td>\n",
              "      <td>0</td>\n",
              "      <td>...</td>\n",
              "      <td>0</td>\n",
              "      <td>0</td>\n",
              "      <td>0</td>\n",
              "      <td>0</td>\n",
              "      <td>0</td>\n",
              "      <td>0</td>\n",
              "      <td>0</td>\n",
              "      <td>0</td>\n",
              "      <td>1</td>\n",
              "      <td>0</td>\n",
              "    </tr>\n",
              "    <tr>\n",
              "      <th>4</th>\n",
              "      <td>11</td>\n",
              "      <td>131</td>\n",
              "      <td>1488</td>\n",
              "      <td>3</td>\n",
              "      <td>0.500000</td>\n",
              "      <td>0.500000</td>\n",
              "      <td>1.000000</td>\n",
              "      <td>1</td>\n",
              "      <td>0</td>\n",
              "      <td>0</td>\n",
              "      <td>...</td>\n",
              "      <td>0</td>\n",
              "      <td>0</td>\n",
              "      <td>0</td>\n",
              "      <td>0</td>\n",
              "      <td>0</td>\n",
              "      <td>0</td>\n",
              "      <td>0</td>\n",
              "      <td>0</td>\n",
              "      <td>1</td>\n",
              "      <td>0</td>\n",
              "    </tr>\n",
              "  </tbody>\n",
              "</table>\n",
              "<p>5 rows × 60 columns</p>\n",
              "</div>\n",
              "      <button class=\"colab-df-convert\" onclick=\"convertToInteractive('df-2dbaa322-512f-49ec-9f4b-63d855720a08')\"\n",
              "              title=\"Convert this dataframe to an interactive table.\"\n",
              "              style=\"display:none;\">\n",
              "        \n",
              "  <svg xmlns=\"http://www.w3.org/2000/svg\" height=\"24px\"viewBox=\"0 0 24 24\"\n",
              "       width=\"24px\">\n",
              "    <path d=\"M0 0h24v24H0V0z\" fill=\"none\"/>\n",
              "    <path d=\"M18.56 5.44l.94 2.06.94-2.06 2.06-.94-2.06-.94-.94-2.06-.94 2.06-2.06.94zm-11 1L8.5 8.5l.94-2.06 2.06-.94-2.06-.94L8.5 2.5l-.94 2.06-2.06.94zm10 10l.94 2.06.94-2.06 2.06-.94-2.06-.94-.94-2.06-.94 2.06-2.06.94z\"/><path d=\"M17.41 7.96l-1.37-1.37c-.4-.4-.92-.59-1.43-.59-.52 0-1.04.2-1.43.59L10.3 9.45l-7.72 7.72c-.78.78-.78 2.05 0 2.83L4 21.41c.39.39.9.59 1.41.59.51 0 1.02-.2 1.41-.59l7.78-7.78 2.81-2.81c.8-.78.8-2.07 0-2.86zM5.41 20L4 18.59l7.72-7.72 1.47 1.35L5.41 20z\"/>\n",
              "  </svg>\n",
              "      </button>\n",
              "      \n",
              "  <style>\n",
              "    .colab-df-container {\n",
              "      display:flex;\n",
              "      flex-wrap:wrap;\n",
              "      gap: 12px;\n",
              "    }\n",
              "\n",
              "    .colab-df-convert {\n",
              "      background-color: #E8F0FE;\n",
              "      border: none;\n",
              "      border-radius: 50%;\n",
              "      cursor: pointer;\n",
              "      display: none;\n",
              "      fill: #1967D2;\n",
              "      height: 32px;\n",
              "      padding: 0 0 0 0;\n",
              "      width: 32px;\n",
              "    }\n",
              "\n",
              "    .colab-df-convert:hover {\n",
              "      background-color: #E2EBFA;\n",
              "      box-shadow: 0px 1px 2px rgba(60, 64, 67, 0.3), 0px 1px 3px 1px rgba(60, 64, 67, 0.15);\n",
              "      fill: #174EA6;\n",
              "    }\n",
              "\n",
              "    [theme=dark] .colab-df-convert {\n",
              "      background-color: #3B4455;\n",
              "      fill: #D2E3FC;\n",
              "    }\n",
              "\n",
              "    [theme=dark] .colab-df-convert:hover {\n",
              "      background-color: #434B5C;\n",
              "      box-shadow: 0px 1px 3px 1px rgba(0, 0, 0, 0.15);\n",
              "      filter: drop-shadow(0px 1px 2px rgba(0, 0, 0, 0.3));\n",
              "      fill: #FFFFFF;\n",
              "    }\n",
              "  </style>\n",
              "\n",
              "      <script>\n",
              "        const buttonEl =\n",
              "          document.querySelector('#df-2dbaa322-512f-49ec-9f4b-63d855720a08 button.colab-df-convert');\n",
              "        buttonEl.style.display =\n",
              "          google.colab.kernel.accessAllowed ? 'block' : 'none';\n",
              "\n",
              "        async function convertToInteractive(key) {\n",
              "          const element = document.querySelector('#df-2dbaa322-512f-49ec-9f4b-63d855720a08');\n",
              "          const dataTable =\n",
              "            await google.colab.kernel.invokeFunction('convertToInteractive',\n",
              "                                                     [key], {});\n",
              "          if (!dataTable) return;\n",
              "\n",
              "          const docLinkHtml = 'Like what you see? Visit the ' +\n",
              "            '<a target=\"_blank\" href=https://colab.research.google.com/notebooks/data_table.ipynb>data table notebook</a>'\n",
              "            + ' to learn more about interactive tables.';\n",
              "          element.innerHTML = '';\n",
              "          dataTable['output_type'] = 'display_data';\n",
              "          await google.colab.output.renderOutput(dataTable, element);\n",
              "          const docLink = document.createElement('div');\n",
              "          docLink.innerHTML = docLinkHtml;\n",
              "          element.appendChild(docLink);\n",
              "        }\n",
              "      </script>\n",
              "    </div>\n",
              "  </div>\n",
              "  "
            ]
          },
          "metadata": {},
          "execution_count": 206
        }
      ]
    },
    {
      "cell_type": "code",
      "source": [
        "X_train, X_test, y_train, y_test = train_test_split(train_values, train_labels, test_size = 0.2, random_state = 42)"
      ],
      "metadata": {
        "id": "94zoF50zbTUe"
      },
      "execution_count": 207,
      "outputs": []
    },
    {
      "cell_type": "code",
      "source": [
        "model = Sequential([\n",
        "    Input(shape = (60)),\n",
        "    Dense(128, activation='relu', use_bias=False),\n",
        "    Dense(256, activation='relu', use_bias=False),\n",
        "    Dense(128, activation='relu', use_bias=False),\n",
        "    Dense(64, activation='relu', use_bias=False),\n",
        "    Dense(3, activation='softmax', use_bias=False)\n",
        "]) \n",
        "\n",
        "model.compile(loss='categorical_crossentropy', optimizer='adam', metrics=['accuracy'])"
      ],
      "metadata": {
        "id": "fb1ghuwRbXbl"
      },
      "execution_count": 208,
      "outputs": []
    },
    {
      "cell_type": "code",
      "source": [
        "early_stopping=EarlyStopping(patience=16, verbose=1)\n",
        "\n",
        "checkpointer=ModelCheckpoint(filepath='weights.hdf5', save_best_only=True, verbose=1)\n",
        "\n",
        "start_time = time.time()\n",
        "network_history = model.fit(X_train, y_train, batch_size=64, \n",
        "                            epochs=100, verbose=1, validation_split=0.2,\n",
        "                  callbacks=[checkpointer, early_stopping])\n",
        "dt_time_fit = time.time() - start_time"
      ],
      "metadata": {
        "id": "S5bt3ODob_Xz",
        "colab": {
          "base_uri": "https://localhost:8080/"
        },
        "outputId": "c25a3747-72c3-48fa-8935-d0d1bb6e61b0"
      },
      "execution_count": 209,
      "outputs": [
        {
          "output_type": "stream",
          "name": "stdout",
          "text": [
            "Epoch 1/100\n",
            "2604/2606 [============================>.] - ETA: 0s - loss: 2.2435 - accuracy: 0.5056\n",
            "Epoch 1: val_loss improved from inf to 0.91692, saving model to weights.hdf5\n",
            "2606/2606 [==============================] - 16s 6ms/step - loss: 2.2425 - accuracy: 0.5056 - val_loss: 0.9169 - val_accuracy: 0.5294\n",
            "Epoch 2/100\n",
            "2602/2606 [============================>.] - ETA: 0s - loss: 0.9341 - accuracy: 0.5509\n",
            "Epoch 2: val_loss did not improve from 0.91692\n",
            "2606/2606 [==============================] - 13s 5ms/step - loss: 0.9341 - accuracy: 0.5509 - val_loss: 0.9437 - val_accuracy: 0.5403\n",
            "Epoch 3/100\n",
            "2600/2606 [============================>.] - ETA: 0s - loss: 0.8701 - accuracy: 0.5658\n",
            "Epoch 3: val_loss improved from 0.91692 to 0.85568, saving model to weights.hdf5\n",
            "2606/2606 [==============================] - 11s 4ms/step - loss: 0.8701 - accuracy: 0.5658 - val_loss: 0.8557 - val_accuracy: 0.5692\n",
            "Epoch 4/100\n",
            "2595/2606 [============================>.] - ETA: 0s - loss: 0.8528 - accuracy: 0.5642\n",
            "Epoch 4: val_loss improved from 0.85568 to 0.82607, saving model to weights.hdf5\n",
            "2606/2606 [==============================] - 12s 5ms/step - loss: 0.8526 - accuracy: 0.5642 - val_loss: 0.8261 - val_accuracy: 0.5697\n",
            "Epoch 5/100\n",
            "2604/2606 [============================>.] - ETA: 0s - loss: 0.8388 - accuracy: 0.5677\n",
            "Epoch 5: val_loss improved from 0.82607 to 0.82596, saving model to weights.hdf5\n",
            "2606/2606 [==============================] - 13s 5ms/step - loss: 0.8388 - accuracy: 0.5678 - val_loss: 0.8260 - val_accuracy: 0.5684\n",
            "Epoch 6/100\n",
            "2603/2606 [============================>.] - ETA: 0s - loss: 0.8294 - accuracy: 0.5695\n",
            "Epoch 6: val_loss improved from 0.82596 to 0.81749, saving model to weights.hdf5\n",
            "2606/2606 [==============================] - 13s 5ms/step - loss: 0.8294 - accuracy: 0.5696 - val_loss: 0.8175 - val_accuracy: 0.5700\n",
            "Epoch 7/100\n",
            "2606/2606 [==============================] - ETA: 0s - loss: 0.8257 - accuracy: 0.5703\n",
            "Epoch 7: val_loss did not improve from 0.81749\n",
            "2606/2606 [==============================] - 13s 5ms/step - loss: 0.8257 - accuracy: 0.5703 - val_loss: 0.8512 - val_accuracy: 0.5696\n",
            "Epoch 8/100\n",
            "2604/2606 [============================>.] - ETA: 0s - loss: 0.8213 - accuracy: 0.5714\n",
            "Epoch 8: val_loss improved from 0.81749 to 0.81197, saving model to weights.hdf5\n",
            "2606/2606 [==============================] - 13s 5ms/step - loss: 0.8213 - accuracy: 0.5714 - val_loss: 0.8120 - val_accuracy: 0.5708\n",
            "Epoch 9/100\n",
            "2600/2606 [============================>.] - ETA: 0s - loss: 0.8165 - accuracy: 0.5720\n",
            "Epoch 9: val_loss did not improve from 0.81197\n",
            "2606/2606 [==============================] - 12s 5ms/step - loss: 0.8164 - accuracy: 0.5721 - val_loss: 0.8295 - val_accuracy: 0.5701\n",
            "Epoch 10/100\n",
            "2605/2606 [============================>.] - ETA: 0s - loss: 0.8093 - accuracy: 0.5765\n",
            "Epoch 10: val_loss did not improve from 0.81197\n",
            "2606/2606 [==============================] - 13s 5ms/step - loss: 0.8094 - accuracy: 0.5765 - val_loss: 0.8137 - val_accuracy: 0.5722\n",
            "Epoch 11/100\n",
            "2601/2606 [============================>.] - ETA: 0s - loss: 0.8055 - accuracy: 0.5831\n",
            "Epoch 11: val_loss improved from 0.81197 to 0.80420, saving model to weights.hdf5\n",
            "2606/2606 [==============================] - 13s 5ms/step - loss: 0.8056 - accuracy: 0.5831 - val_loss: 0.8042 - val_accuracy: 0.5816\n",
            "Epoch 12/100\n",
            "2604/2606 [============================>.] - ETA: 0s - loss: 0.8026 - accuracy: 0.5860\n",
            "Epoch 12: val_loss did not improve from 0.80420\n",
            "2606/2606 [==============================] - 13s 5ms/step - loss: 0.8026 - accuracy: 0.5860 - val_loss: 0.8103 - val_accuracy: 0.5764\n",
            "Epoch 13/100\n",
            "2600/2606 [============================>.] - ETA: 0s - loss: 0.8021 - accuracy: 0.5856\n",
            "Epoch 13: val_loss improved from 0.80420 to 0.79508, saving model to weights.hdf5\n",
            "2606/2606 [==============================] - 12s 5ms/step - loss: 0.8021 - accuracy: 0.5856 - val_loss: 0.7951 - val_accuracy: 0.5825\n",
            "Epoch 14/100\n",
            "2605/2606 [============================>.] - ETA: 0s - loss: 0.7978 - accuracy: 0.5891\n",
            "Epoch 14: val_loss did not improve from 0.79508\n",
            "2606/2606 [==============================] - 13s 5ms/step - loss: 0.7978 - accuracy: 0.5892 - val_loss: 0.8017 - val_accuracy: 0.5798\n",
            "Epoch 15/100\n",
            "2595/2606 [============================>.] - ETA: 0s - loss: 0.7959 - accuracy: 0.5932\n",
            "Epoch 15: val_loss did not improve from 0.79508\n",
            "2606/2606 [==============================] - 13s 5ms/step - loss: 0.7960 - accuracy: 0.5933 - val_loss: 0.7984 - val_accuracy: 0.5805\n",
            "Epoch 16/100\n",
            "2596/2606 [============================>.] - ETA: 0s - loss: 0.7951 - accuracy: 0.5944\n",
            "Epoch 16: val_loss did not improve from 0.79508\n",
            "2606/2606 [==============================] - 14s 5ms/step - loss: 0.7952 - accuracy: 0.5943 - val_loss: 0.7980 - val_accuracy: 0.5899\n",
            "Epoch 17/100\n",
            "2599/2606 [============================>.] - ETA: 0s - loss: 0.7934 - accuracy: 0.5956\n",
            "Epoch 17: val_loss improved from 0.79508 to 0.78920, saving model to weights.hdf5\n",
            "2606/2606 [==============================] - 14s 5ms/step - loss: 0.7935 - accuracy: 0.5957 - val_loss: 0.7892 - val_accuracy: 0.6062\n",
            "Epoch 18/100\n",
            "2599/2606 [============================>.] - ETA: 0s - loss: 0.7913 - accuracy: 0.5995\n",
            "Epoch 18: val_loss did not improve from 0.78920\n",
            "2606/2606 [==============================] - 13s 5ms/step - loss: 0.7915 - accuracy: 0.5994 - val_loss: 0.7956 - val_accuracy: 0.5829\n",
            "Epoch 19/100\n",
            "2605/2606 [============================>.] - ETA: 0s - loss: 0.7903 - accuracy: 0.5981\n",
            "Epoch 19: val_loss improved from 0.78920 to 0.78492, saving model to weights.hdf5\n",
            "2606/2606 [==============================] - 13s 5ms/step - loss: 0.7902 - accuracy: 0.5981 - val_loss: 0.7849 - val_accuracy: 0.6033\n",
            "Epoch 20/100\n",
            "2602/2606 [============================>.] - ETA: 0s - loss: 0.7889 - accuracy: 0.6004\n",
            "Epoch 20: val_loss did not improve from 0.78492\n",
            "2606/2606 [==============================] - 13s 5ms/step - loss: 0.7889 - accuracy: 0.6003 - val_loss: 0.7865 - val_accuracy: 0.5982\n",
            "Epoch 21/100\n",
            "2604/2606 [============================>.] - ETA: 0s - loss: 0.7883 - accuracy: 0.6015\n",
            "Epoch 21: val_loss improved from 0.78492 to 0.78156, saving model to weights.hdf5\n",
            "2606/2606 [==============================] - 13s 5ms/step - loss: 0.7883 - accuracy: 0.6015 - val_loss: 0.7816 - val_accuracy: 0.6081\n",
            "Epoch 22/100\n",
            "2606/2606 [==============================] - ETA: 0s - loss: 0.7840 - accuracy: 0.6044\n",
            "Epoch 22: val_loss improved from 0.78156 to 0.77641, saving model to weights.hdf5\n",
            "2606/2606 [==============================] - 13s 5ms/step - loss: 0.7840 - accuracy: 0.6044 - val_loss: 0.7764 - val_accuracy: 0.6131\n",
            "Epoch 23/100\n",
            "2603/2606 [============================>.] - ETA: 0s - loss: 0.7841 - accuracy: 0.6041\n",
            "Epoch 23: val_loss improved from 0.77641 to 0.77357, saving model to weights.hdf5\n",
            "2606/2606 [==============================] - 14s 5ms/step - loss: 0.7841 - accuracy: 0.6040 - val_loss: 0.7736 - val_accuracy: 0.6163\n",
            "Epoch 24/100\n",
            "2599/2606 [============================>.] - ETA: 0s - loss: 0.7813 - accuracy: 0.6063\n",
            "Epoch 24: val_loss did not improve from 0.77357\n",
            "2606/2606 [==============================] - 15s 6ms/step - loss: 0.7814 - accuracy: 0.6062 - val_loss: 0.7823 - val_accuracy: 0.6068\n",
            "Epoch 25/100\n",
            "2605/2606 [============================>.] - ETA: 0s - loss: 0.7826 - accuracy: 0.6055\n",
            "Epoch 25: val_loss did not improve from 0.77357\n",
            "2606/2606 [==============================] - 18s 7ms/step - loss: 0.7826 - accuracy: 0.6055 - val_loss: 0.7886 - val_accuracy: 0.5963\n",
            "Epoch 26/100\n",
            "2600/2606 [============================>.] - ETA: 0s - loss: 0.7815 - accuracy: 0.6074\n",
            "Epoch 26: val_loss did not improve from 0.77357\n",
            "2606/2606 [==============================] - 16s 6ms/step - loss: 0.7813 - accuracy: 0.6075 - val_loss: 0.7852 - val_accuracy: 0.5924\n",
            "Epoch 27/100\n",
            "2598/2606 [============================>.] - ETA: 0s - loss: 0.7797 - accuracy: 0.6078\n",
            "Epoch 27: val_loss improved from 0.77357 to 0.77077, saving model to weights.hdf5\n",
            "2606/2606 [==============================] - 17s 6ms/step - loss: 0.7797 - accuracy: 0.6077 - val_loss: 0.7708 - val_accuracy: 0.6174\n",
            "Epoch 28/100\n",
            "2598/2606 [============================>.] - ETA: 0s - loss: 0.7785 - accuracy: 0.6091\n",
            "Epoch 28: val_loss did not improve from 0.77077\n",
            "2606/2606 [==============================] - 16s 6ms/step - loss: 0.7785 - accuracy: 0.6089 - val_loss: 0.7972 - val_accuracy: 0.5985\n",
            "Epoch 29/100\n",
            "2602/2606 [============================>.] - ETA: 0s - loss: 0.7775 - accuracy: 0.6099\n",
            "Epoch 29: val_loss did not improve from 0.77077\n",
            "2606/2606 [==============================] - 18s 7ms/step - loss: 0.7776 - accuracy: 0.6099 - val_loss: 0.7741 - val_accuracy: 0.6137\n",
            "Epoch 30/100\n",
            "2604/2606 [============================>.] - ETA: 0s - loss: 0.7809 - accuracy: 0.6079\n",
            "Epoch 30: val_loss did not improve from 0.77077\n",
            "2606/2606 [==============================] - 17s 7ms/step - loss: 0.7809 - accuracy: 0.6079 - val_loss: 0.8096 - val_accuracy: 0.5830\n",
            "Epoch 31/100\n",
            "2605/2606 [============================>.] - ETA: 0s - loss: 0.7788 - accuracy: 0.6080\n",
            "Epoch 31: val_loss did not improve from 0.77077\n",
            "2606/2606 [==============================] - 18s 7ms/step - loss: 0.7788 - accuracy: 0.6079 - val_loss: 0.7754 - val_accuracy: 0.6109\n",
            "Epoch 32/100\n",
            "2597/2606 [============================>.] - ETA: 0s - loss: 0.7759 - accuracy: 0.6104\n",
            "Epoch 32: val_loss improved from 0.77077 to 0.76813, saving model to weights.hdf5\n",
            "2606/2606 [==============================] - 16s 6ms/step - loss: 0.7759 - accuracy: 0.6104 - val_loss: 0.7681 - val_accuracy: 0.6163\n",
            "Epoch 33/100\n",
            "2602/2606 [============================>.] - ETA: 0s - loss: 0.7736 - accuracy: 0.6127\n",
            "Epoch 33: val_loss did not improve from 0.76813\n",
            "2606/2606 [==============================] - 18s 7ms/step - loss: 0.7736 - accuracy: 0.6127 - val_loss: 0.7915 - val_accuracy: 0.5926\n",
            "Epoch 34/100\n",
            "2606/2606 [==============================] - ETA: 0s - loss: 0.7706 - accuracy: 0.6141\n",
            "Epoch 34: val_loss improved from 0.76813 to 0.76629, saving model to weights.hdf5\n",
            "2606/2606 [==============================] - 19s 7ms/step - loss: 0.7706 - accuracy: 0.6141 - val_loss: 0.7663 - val_accuracy: 0.6182\n",
            "Epoch 35/100\n",
            "2604/2606 [============================>.] - ETA: 0s - loss: 0.7725 - accuracy: 0.6123\n",
            "Epoch 35: val_loss did not improve from 0.76629\n",
            "2606/2606 [==============================] - 17s 7ms/step - loss: 0.7725 - accuracy: 0.6123 - val_loss: 0.7718 - val_accuracy: 0.6071\n",
            "Epoch 36/100\n",
            "2606/2606 [==============================] - ETA: 0s - loss: 0.7701 - accuracy: 0.6137\n",
            "Epoch 36: val_loss did not improve from 0.76629\n",
            "2606/2606 [==============================] - 18s 7ms/step - loss: 0.7701 - accuracy: 0.6137 - val_loss: 0.7692 - val_accuracy: 0.6146\n",
            "Epoch 37/100\n",
            "2598/2606 [============================>.] - ETA: 0s - loss: 0.7698 - accuracy: 0.6157\n",
            "Epoch 37: val_loss improved from 0.76629 to 0.75866, saving model to weights.hdf5\n",
            "2606/2606 [==============================] - 17s 7ms/step - loss: 0.7698 - accuracy: 0.6157 - val_loss: 0.7587 - val_accuracy: 0.6219\n",
            "Epoch 38/100\n",
            "2603/2606 [============================>.] - ETA: 0s - loss: 0.7677 - accuracy: 0.6168\n",
            "Epoch 38: val_loss did not improve from 0.75866\n",
            "2606/2606 [==============================] - 18s 7ms/step - loss: 0.7677 - accuracy: 0.6168 - val_loss: 0.7679 - val_accuracy: 0.6159\n",
            "Epoch 39/100\n",
            "2600/2606 [============================>.] - ETA: 0s - loss: 0.7689 - accuracy: 0.6149\n",
            "Epoch 39: val_loss did not improve from 0.75866\n",
            "2606/2606 [==============================] - 16s 6ms/step - loss: 0.7689 - accuracy: 0.6149 - val_loss: 0.7707 - val_accuracy: 0.6186\n",
            "Epoch 40/100\n",
            "2604/2606 [============================>.] - ETA: 0s - loss: 0.7666 - accuracy: 0.6193\n",
            "Epoch 40: val_loss did not improve from 0.75866\n",
            "2606/2606 [==============================] - 13s 5ms/step - loss: 0.7666 - accuracy: 0.6193 - val_loss: 0.8123 - val_accuracy: 0.5786\n",
            "Epoch 41/100\n",
            "2602/2606 [============================>.] - ETA: 0s - loss: 0.7673 - accuracy: 0.6168\n",
            "Epoch 41: val_loss did not improve from 0.75866\n",
            "2606/2606 [==============================] - 11s 4ms/step - loss: 0.7674 - accuracy: 0.6168 - val_loss: 0.8246 - val_accuracy: 0.5751\n",
            "Epoch 42/100\n",
            "2602/2606 [============================>.] - ETA: 0s - loss: 0.7640 - accuracy: 0.6192\n",
            "Epoch 42: val_loss did not improve from 0.75866\n",
            "2606/2606 [==============================] - 13s 5ms/step - loss: 0.7640 - accuracy: 0.6192 - val_loss: 0.7626 - val_accuracy: 0.6186\n",
            "Epoch 43/100\n",
            "2596/2606 [============================>.] - ETA: 0s - loss: 0.7627 - accuracy: 0.6208\n",
            "Epoch 43: val_loss did not improve from 0.75866\n",
            "2606/2606 [==============================] - 12s 5ms/step - loss: 0.7627 - accuracy: 0.6208 - val_loss: 0.7651 - val_accuracy: 0.6178\n",
            "Epoch 44/100\n",
            "2598/2606 [============================>.] - ETA: 0s - loss: 0.7640 - accuracy: 0.6190\n",
            "Epoch 44: val_loss did not improve from 0.75866\n",
            "2606/2606 [==============================] - 13s 5ms/step - loss: 0.7641 - accuracy: 0.6190 - val_loss: 0.7695 - val_accuracy: 0.6172\n",
            "Epoch 45/100\n",
            "2600/2606 [============================>.] - ETA: 0s - loss: 0.7630 - accuracy: 0.6227\n",
            "Epoch 45: val_loss improved from 0.75866 to 0.75608, saving model to weights.hdf5\n",
            "2606/2606 [==============================] - 13s 5ms/step - loss: 0.7630 - accuracy: 0.6227 - val_loss: 0.7561 - val_accuracy: 0.6263\n",
            "Epoch 46/100\n",
            "2596/2606 [============================>.] - ETA: 0s - loss: 0.7633 - accuracy: 0.6206\n",
            "Epoch 46: val_loss improved from 0.75608 to 0.75449, saving model to weights.hdf5\n",
            "2606/2606 [==============================] - 13s 5ms/step - loss: 0.7634 - accuracy: 0.6206 - val_loss: 0.7545 - val_accuracy: 0.6287\n",
            "Epoch 47/100\n",
            "2599/2606 [============================>.] - ETA: 0s - loss: 0.7611 - accuracy: 0.6227\n",
            "Epoch 47: val_loss improved from 0.75449 to 0.75183, saving model to weights.hdf5\n",
            "2606/2606 [==============================] - 13s 5ms/step - loss: 0.7611 - accuracy: 0.6228 - val_loss: 0.7518 - val_accuracy: 0.6311\n",
            "Epoch 48/100\n",
            "2600/2606 [============================>.] - ETA: 0s - loss: 0.7606 - accuracy: 0.6248\n",
            "Epoch 48: val_loss did not improve from 0.75183\n",
            "2606/2606 [==============================] - 12s 5ms/step - loss: 0.7606 - accuracy: 0.6248 - val_loss: 0.7641 - val_accuracy: 0.6189\n",
            "Epoch 49/100\n",
            "2592/2606 [============================>.] - ETA: 0s - loss: 0.7608 - accuracy: 0.6236\n",
            "Epoch 49: val_loss did not improve from 0.75183\n",
            "2606/2606 [==============================] - 14s 5ms/step - loss: 0.7607 - accuracy: 0.6237 - val_loss: 0.7822 - val_accuracy: 0.5991\n",
            "Epoch 50/100\n",
            "2598/2606 [============================>.] - ETA: 0s - loss: 0.7593 - accuracy: 0.6239\n",
            "Epoch 50: val_loss did not improve from 0.75183\n",
            "2606/2606 [==============================] - 11s 4ms/step - loss: 0.7592 - accuracy: 0.6240 - val_loss: 0.7534 - val_accuracy: 0.6321\n",
            "Epoch 51/100\n",
            "2595/2606 [============================>.] - ETA: 0s - loss: 0.7617 - accuracy: 0.6217\n",
            "Epoch 51: val_loss did not improve from 0.75183\n",
            "2606/2606 [==============================] - 13s 5ms/step - loss: 0.7616 - accuracy: 0.6217 - val_loss: 0.7664 - val_accuracy: 0.6226\n",
            "Epoch 52/100\n",
            "2606/2606 [==============================] - ETA: 0s - loss: 0.7587 - accuracy: 0.6266\n",
            "Epoch 52: val_loss did not improve from 0.75183\n",
            "2606/2606 [==============================] - 17s 6ms/step - loss: 0.7587 - accuracy: 0.6266 - val_loss: 0.7985 - val_accuracy: 0.6024\n",
            "Epoch 53/100\n",
            "2605/2606 [============================>.] - ETA: 0s - loss: 0.7616 - accuracy: 0.6234\n",
            "Epoch 53: val_loss improved from 0.75183 to 0.74988, saving model to weights.hdf5\n",
            "2606/2606 [==============================] - 17s 7ms/step - loss: 0.7616 - accuracy: 0.6233 - val_loss: 0.7499 - val_accuracy: 0.6344\n",
            "Epoch 54/100\n",
            "2604/2606 [============================>.] - ETA: 0s - loss: 0.7597 - accuracy: 0.6235\n",
            "Epoch 54: val_loss did not improve from 0.74988\n",
            "2606/2606 [==============================] - 17s 6ms/step - loss: 0.7597 - accuracy: 0.6235 - val_loss: 0.7511 - val_accuracy: 0.6338\n",
            "Epoch 55/100\n",
            "2602/2606 [============================>.] - ETA: 0s - loss: 0.7577 - accuracy: 0.6268\n",
            "Epoch 55: val_loss did not improve from 0.74988\n",
            "2606/2606 [==============================] - 19s 7ms/step - loss: 0.7577 - accuracy: 0.6268 - val_loss: 0.7600 - val_accuracy: 0.6250\n",
            "Epoch 56/100\n",
            "2602/2606 [============================>.] - ETA: 0s - loss: 0.7585 - accuracy: 0.6266\n",
            "Epoch 56: val_loss improved from 0.74988 to 0.74925, saving model to weights.hdf5\n",
            "2606/2606 [==============================] - 17s 7ms/step - loss: 0.7584 - accuracy: 0.6267 - val_loss: 0.7493 - val_accuracy: 0.6328\n",
            "Epoch 57/100\n",
            "2602/2606 [============================>.] - ETA: 0s - loss: 0.7552 - accuracy: 0.6301\n",
            "Epoch 57: val_loss did not improve from 0.74925\n",
            "2606/2606 [==============================] - 18s 7ms/step - loss: 0.7552 - accuracy: 0.6301 - val_loss: 0.7589 - val_accuracy: 0.6321\n",
            "Epoch 58/100\n",
            "2602/2606 [============================>.] - ETA: 0s - loss: 0.7564 - accuracy: 0.6272\n",
            "Epoch 58: val_loss did not improve from 0.74925\n",
            "2606/2606 [==============================] - 18s 7ms/step - loss: 0.7564 - accuracy: 0.6272 - val_loss: 0.7595 - val_accuracy: 0.6268\n",
            "Epoch 59/100\n",
            "2603/2606 [============================>.] - ETA: 0s - loss: 0.7546 - accuracy: 0.6299\n",
            "Epoch 59: val_loss did not improve from 0.74925\n",
            "2606/2606 [==============================] - 18s 7ms/step - loss: 0.7546 - accuracy: 0.6299 - val_loss: 0.7601 - val_accuracy: 0.6282\n",
            "Epoch 60/100\n",
            "2601/2606 [============================>.] - ETA: 0s - loss: 0.7538 - accuracy: 0.6305\n",
            "Epoch 60: val_loss did not improve from 0.74925\n",
            "2606/2606 [==============================] - 18s 7ms/step - loss: 0.7539 - accuracy: 0.6304 - val_loss: 0.7848 - val_accuracy: 0.5947\n",
            "Epoch 61/100\n",
            "2602/2606 [============================>.] - ETA: 0s - loss: 0.7549 - accuracy: 0.6291\n",
            "Epoch 61: val_loss did not improve from 0.74925\n",
            "2606/2606 [==============================] - 18s 7ms/step - loss: 0.7549 - accuracy: 0.6292 - val_loss: 0.7755 - val_accuracy: 0.6110\n",
            "Epoch 62/100\n",
            "2597/2606 [============================>.] - ETA: 0s - loss: 0.7540 - accuracy: 0.6300\n",
            "Epoch 62: val_loss did not improve from 0.74925\n",
            "2606/2606 [==============================] - 17s 7ms/step - loss: 0.7540 - accuracy: 0.6300 - val_loss: 0.8078 - val_accuracy: 0.5921\n",
            "Epoch 63/100\n",
            "2601/2606 [============================>.] - ETA: 0s - loss: 0.7548 - accuracy: 0.6295\n",
            "Epoch 63: val_loss did not improve from 0.74925\n",
            "2606/2606 [==============================] - 17s 7ms/step - loss: 0.7547 - accuracy: 0.6296 - val_loss: 0.7536 - val_accuracy: 0.6319\n",
            "Epoch 64/100\n",
            "2602/2606 [============================>.] - ETA: 0s - loss: 0.7541 - accuracy: 0.6303\n",
            "Epoch 64: val_loss did not improve from 0.74925\n",
            "2606/2606 [==============================] - 19s 7ms/step - loss: 0.7540 - accuracy: 0.6303 - val_loss: 0.7648 - val_accuracy: 0.6270\n",
            "Epoch 65/100\n",
            "2600/2606 [============================>.] - ETA: 0s - loss: 0.7526 - accuracy: 0.6317\n",
            "Epoch 65: val_loss improved from 0.74925 to 0.74729, saving model to weights.hdf5\n",
            "2606/2606 [==============================] - 18s 7ms/step - loss: 0.7525 - accuracy: 0.6317 - val_loss: 0.7473 - val_accuracy: 0.6365\n",
            "Epoch 66/100\n",
            "2597/2606 [============================>.] - ETA: 0s - loss: 0.7533 - accuracy: 0.6306\n",
            "Epoch 66: val_loss did not improve from 0.74729\n",
            "2606/2606 [==============================] - 18s 7ms/step - loss: 0.7531 - accuracy: 0.6306 - val_loss: 0.7509 - val_accuracy: 0.6354\n",
            "Epoch 67/100\n",
            "2605/2606 [============================>.] - ETA: 0s - loss: 0.7513 - accuracy: 0.6319\n",
            "Epoch 67: val_loss did not improve from 0.74729\n",
            "2606/2606 [==============================] - 16s 6ms/step - loss: 0.7513 - accuracy: 0.6319 - val_loss: 0.7483 - val_accuracy: 0.6352\n",
            "Epoch 68/100\n",
            "2602/2606 [============================>.] - ETA: 0s - loss: 0.7513 - accuracy: 0.6320\n",
            "Epoch 68: val_loss improved from 0.74729 to 0.74614, saving model to weights.hdf5\n",
            "2606/2606 [==============================] - 13s 5ms/step - loss: 0.7512 - accuracy: 0.6320 - val_loss: 0.7461 - val_accuracy: 0.6385\n",
            "Epoch 69/100\n",
            "2605/2606 [============================>.] - ETA: 0s - loss: 0.7494 - accuracy: 0.6340\n",
            "Epoch 69: val_loss improved from 0.74614 to 0.74259, saving model to weights.hdf5\n",
            "2606/2606 [==============================] - 12s 5ms/step - loss: 0.7494 - accuracy: 0.6340 - val_loss: 0.7426 - val_accuracy: 0.6409\n",
            "Epoch 70/100\n",
            "2605/2606 [============================>.] - ETA: 0s - loss: 0.7510 - accuracy: 0.6322\n",
            "Epoch 70: val_loss did not improve from 0.74259\n",
            "2606/2606 [==============================] - 18s 7ms/step - loss: 0.7510 - accuracy: 0.6322 - val_loss: 0.7496 - val_accuracy: 0.6332\n",
            "Epoch 71/100\n",
            "2598/2606 [============================>.] - ETA: 0s - loss: 0.7485 - accuracy: 0.6349\n",
            "Epoch 71: val_loss did not improve from 0.74259\n",
            "2606/2606 [==============================] - 16s 6ms/step - loss: 0.7484 - accuracy: 0.6350 - val_loss: 0.7600 - val_accuracy: 0.6309\n",
            "Epoch 72/100\n",
            "2600/2606 [============================>.] - ETA: 0s - loss: 0.7493 - accuracy: 0.6341\n",
            "Epoch 72: val_loss did not improve from 0.74259\n",
            "2606/2606 [==============================] - 18s 7ms/step - loss: 0.7493 - accuracy: 0.6341 - val_loss: 0.7828 - val_accuracy: 0.6059\n",
            "Epoch 73/100\n",
            "2599/2606 [============================>.] - ETA: 0s - loss: 0.7494 - accuracy: 0.6334\n",
            "Epoch 73: val_loss did not improve from 0.74259\n",
            "2606/2606 [==============================] - 18s 7ms/step - loss: 0.7494 - accuracy: 0.6334 - val_loss: 0.7663 - val_accuracy: 0.6243\n",
            "Epoch 74/100\n",
            "2606/2606 [==============================] - ETA: 0s - loss: 0.7500 - accuracy: 0.6343\n",
            "Epoch 74: val_loss did not improve from 0.74259\n",
            "2606/2606 [==============================] - 18s 7ms/step - loss: 0.7500 - accuracy: 0.6343 - val_loss: 0.7462 - val_accuracy: 0.6406\n",
            "Epoch 75/100\n",
            "2605/2606 [============================>.] - ETA: 0s - loss: 0.7502 - accuracy: 0.6326\n",
            "Epoch 75: val_loss did not improve from 0.74259\n",
            "2606/2606 [==============================] - 19s 7ms/step - loss: 0.7502 - accuracy: 0.6327 - val_loss: 0.7442 - val_accuracy: 0.6368\n",
            "Epoch 76/100\n",
            "2600/2606 [============================>.] - ETA: 0s - loss: 0.7480 - accuracy: 0.6353\n",
            "Epoch 76: val_loss did not improve from 0.74259\n",
            "2606/2606 [==============================] - 17s 7ms/step - loss: 0.7480 - accuracy: 0.6353 - val_loss: 0.7713 - val_accuracy: 0.6084\n",
            "Epoch 77/100\n",
            "2600/2606 [============================>.] - ETA: 0s - loss: 0.7479 - accuracy: 0.6356\n",
            "Epoch 77: val_loss did not improve from 0.74259\n",
            "2606/2606 [==============================] - 18s 7ms/step - loss: 0.7480 - accuracy: 0.6355 - val_loss: 0.7622 - val_accuracy: 0.6250\n",
            "Epoch 78/100\n",
            "2601/2606 [============================>.] - ETA: 0s - loss: 0.7467 - accuracy: 0.6350\n",
            "Epoch 78: val_loss improved from 0.74259 to 0.73843, saving model to weights.hdf5\n",
            "2606/2606 [==============================] - 17s 7ms/step - loss: 0.7467 - accuracy: 0.6351 - val_loss: 0.7384 - val_accuracy: 0.6431\n",
            "Epoch 79/100\n",
            "2606/2606 [==============================] - ETA: 0s - loss: 0.7448 - accuracy: 0.6373\n",
            "Epoch 79: val_loss did not improve from 0.73843\n",
            "2606/2606 [==============================] - 18s 7ms/step - loss: 0.7448 - accuracy: 0.6373 - val_loss: 0.7587 - val_accuracy: 0.6267\n",
            "Epoch 80/100\n",
            "2603/2606 [============================>.] - ETA: 0s - loss: 0.7470 - accuracy: 0.6354\n",
            "Epoch 80: val_loss did not improve from 0.73843\n",
            "2606/2606 [==============================] - 17s 7ms/step - loss: 0.7470 - accuracy: 0.6354 - val_loss: 0.7538 - val_accuracy: 0.6299\n",
            "Epoch 81/100\n",
            "2606/2606 [==============================] - ETA: 0s - loss: 0.7459 - accuracy: 0.6365\n",
            "Epoch 81: val_loss did not improve from 0.73843\n",
            "2606/2606 [==============================] - 19s 7ms/step - loss: 0.7459 - accuracy: 0.6365 - val_loss: 0.7394 - val_accuracy: 0.6424\n",
            "Epoch 82/100\n",
            "2606/2606 [==============================] - ETA: 0s - loss: 0.7448 - accuracy: 0.6377\n",
            "Epoch 82: val_loss did not improve from 0.73843\n",
            "2606/2606 [==============================] - 17s 7ms/step - loss: 0.7448 - accuracy: 0.6377 - val_loss: 0.7763 - val_accuracy: 0.6145\n",
            "Epoch 83/100\n",
            "2605/2606 [============================>.] - ETA: 0s - loss: 0.7468 - accuracy: 0.6360\n",
            "Epoch 83: val_loss did not improve from 0.73843\n",
            "2606/2606 [==============================] - 18s 7ms/step - loss: 0.7468 - accuracy: 0.6360 - val_loss: 0.7519 - val_accuracy: 0.6284\n",
            "Epoch 84/100\n",
            "2602/2606 [============================>.] - ETA: 0s - loss: 0.7440 - accuracy: 0.6381\n",
            "Epoch 84: val_loss did not improve from 0.73843\n",
            "2606/2606 [==============================] - 18s 7ms/step - loss: 0.7439 - accuracy: 0.6381 - val_loss: 0.7653 - val_accuracy: 0.6220\n",
            "Epoch 85/100\n",
            "2606/2606 [==============================] - ETA: 0s - loss: 0.7506 - accuracy: 0.6315\n",
            "Epoch 85: val_loss did not improve from 0.73843\n",
            "2606/2606 [==============================] - 14s 5ms/step - loss: 0.7506 - accuracy: 0.6315 - val_loss: 0.7428 - val_accuracy: 0.6407\n",
            "Epoch 86/100\n",
            "2601/2606 [============================>.] - ETA: 0s - loss: 0.7455 - accuracy: 0.6369\n",
            "Epoch 86: val_loss did not improve from 0.73843\n",
            "2606/2606 [==============================] - 13s 5ms/step - loss: 0.7456 - accuracy: 0.6369 - val_loss: 0.7419 - val_accuracy: 0.6421\n",
            "Epoch 87/100\n",
            "2599/2606 [============================>.] - ETA: 0s - loss: 0.7460 - accuracy: 0.6365\n",
            "Epoch 87: val_loss did not improve from 0.73843\n",
            "2606/2606 [==============================] - 13s 5ms/step - loss: 0.7460 - accuracy: 0.6365 - val_loss: 0.7490 - val_accuracy: 0.6389\n",
            "Epoch 88/100\n",
            "2605/2606 [============================>.] - ETA: 0s - loss: 0.7441 - accuracy: 0.6387\n",
            "Epoch 88: val_loss did not improve from 0.73843\n",
            "2606/2606 [==============================] - 14s 5ms/step - loss: 0.7441 - accuracy: 0.6386 - val_loss: 0.7434 - val_accuracy: 0.6360\n",
            "Epoch 89/100\n",
            "2598/2606 [============================>.] - ETA: 0s - loss: 0.7447 - accuracy: 0.6366\n",
            "Epoch 89: val_loss did not improve from 0.73843\n",
            "2606/2606 [==============================] - 14s 5ms/step - loss: 0.7446 - accuracy: 0.6366 - val_loss: 0.7432 - val_accuracy: 0.6346\n",
            "Epoch 90/100\n",
            "2596/2606 [============================>.] - ETA: 0s - loss: 0.7447 - accuracy: 0.6378\n",
            "Epoch 90: val_loss did not improve from 0.73843\n",
            "2606/2606 [==============================] - 14s 5ms/step - loss: 0.7445 - accuracy: 0.6379 - val_loss: 0.7425 - val_accuracy: 0.6407\n",
            "Epoch 91/100\n",
            "2603/2606 [============================>.] - ETA: 0s - loss: 0.7442 - accuracy: 0.6382\n",
            "Epoch 91: val_loss did not improve from 0.73843\n",
            "2606/2606 [==============================] - 14s 5ms/step - loss: 0.7442 - accuracy: 0.6382 - val_loss: 0.7467 - val_accuracy: 0.6356\n",
            "Epoch 92/100\n",
            "2605/2606 [============================>.] - ETA: 0s - loss: 0.7430 - accuracy: 0.6388\n",
            "Epoch 92: val_loss did not improve from 0.73843\n",
            "2606/2606 [==============================] - 13s 5ms/step - loss: 0.7430 - accuracy: 0.6388 - val_loss: 0.7395 - val_accuracy: 0.6433\n",
            "Epoch 93/100\n",
            "2599/2606 [============================>.] - ETA: 0s - loss: 0.7428 - accuracy: 0.6394\n",
            "Epoch 93: val_loss did not improve from 0.73843\n",
            "2606/2606 [==============================] - 14s 5ms/step - loss: 0.7429 - accuracy: 0.6393 - val_loss: 0.7478 - val_accuracy: 0.6366\n",
            "Epoch 94/100\n",
            "2602/2606 [============================>.] - ETA: 0s - loss: 0.7420 - accuracy: 0.6396\n",
            "Epoch 94: val_loss did not improve from 0.73843\n",
            "2606/2606 [==============================] - 13s 5ms/step - loss: 0.7421 - accuracy: 0.6395 - val_loss: 0.7504 - val_accuracy: 0.6337\n",
            "Epoch 94: early stopping\n"
          ]
        }
      ]
    },
    {
      "cell_type": "code",
      "source": [
        "from keras.models import load_model\n",
        "model = load_model(\"weights.hdf5\")"
      ],
      "metadata": {
        "id": "cmDJqcLbyKg3"
      },
      "execution_count": 210,
      "outputs": []
    },
    {
      "cell_type": "code",
      "source": [
        "start_time = time.time()\n",
        "predictions_test = model.predict(X_test)\n",
        "dt_time_pred = time.time() - start_time"
      ],
      "metadata": {
        "id": "0367yUaCcjej",
        "colab": {
          "base_uri": "https://localhost:8080/"
        },
        "outputId": "39c9a7e9-e247-41d3-9009-1f64848b20cc"
      },
      "execution_count": 211,
      "outputs": [
        {
          "output_type": "stream",
          "name": "stdout",
          "text": [
            "1629/1629 [==============================] - 2s 1ms/step\n"
          ]
        }
      ]
    },
    {
      "cell_type": "code",
      "source": [
        "print(predictions_test)"
      ],
      "metadata": {
        "colab": {
          "base_uri": "https://localhost:8080/"
        },
        "id": "9PBa7ZOKeeLD",
        "outputId": "1503d1c0-6284-475d-b042-6276a63e5978"
      },
      "execution_count": 212,
      "outputs": [
        {
          "output_type": "stream",
          "name": "stdout",
          "text": [
            "[[0.01576011 0.46918416 0.51505566]\n",
            " [0.02119404 0.45364976 0.52515626]\n",
            " [0.08876029 0.67956537 0.23167443]\n",
            " ...\n",
            " [0.01407164 0.66058666 0.32534173]\n",
            " [0.00696415 0.4195541  0.57348174]\n",
            " [0.1336293  0.6436435  0.22272722]]\n"
          ]
        }
      ]
    },
    {
      "cell_type": "code",
      "source": [
        "predictions_test.shape"
      ],
      "metadata": {
        "colab": {
          "base_uri": "https://localhost:8080/"
        },
        "id": "xA5i3NxR0ThO",
        "outputId": "8b90583e-f931-48ac-f2ea-c21cd9f74131"
      },
      "execution_count": 213,
      "outputs": [
        {
          "output_type": "execute_result",
          "data": {
            "text/plain": [
              "(52121, 3)"
            ]
          },
          "metadata": {},
          "execution_count": 213
        }
      ]
    },
    {
      "cell_type": "code",
      "source": [
        "predictions_test = predictions_test.argmax(axis=1)\n",
        "predictions_test "
      ],
      "metadata": {
        "colab": {
          "base_uri": "https://localhost:8080/"
        },
        "id": "32tuOhFE0ISP",
        "outputId": "37788007-1da9-4fda-e3b0-db4f74c62fe9"
      },
      "execution_count": 214,
      "outputs": [
        {
          "output_type": "execute_result",
          "data": {
            "text/plain": [
              "array([2, 2, 1, ..., 1, 2, 1])"
            ]
          },
          "metadata": {},
          "execution_count": 214
        }
      ]
    },
    {
      "cell_type": "code",
      "source": [
        "predictions_test = predictions_test + 1\n",
        "predictions_test"
      ],
      "metadata": {
        "colab": {
          "base_uri": "https://localhost:8080/"
        },
        "id": "D32c0eXj1HyR",
        "outputId": "ef0082a6-f645-4442-d89f-d0eb8605061d"
      },
      "execution_count": 215,
      "outputs": [
        {
          "output_type": "execute_result",
          "data": {
            "text/plain": [
              "array([3, 3, 2, ..., 2, 3, 2])"
            ]
          },
          "metadata": {},
          "execution_count": 215
        }
      ]
    },
    {
      "cell_type": "code",
      "source": [
        "y_test = y_test.argmax(axis=1)\n",
        "y_test "
      ],
      "metadata": {
        "colab": {
          "base_uri": "https://localhost:8080/"
        },
        "id": "gAPS-s431Lf5",
        "outputId": "f91bb3f2-ee4a-4725-a28f-9c349f0b5c0a"
      },
      "execution_count": 216,
      "outputs": [
        {
          "output_type": "execute_result",
          "data": {
            "text/plain": [
              "array([1, 1, 1, ..., 2, 2, 1])"
            ]
          },
          "metadata": {},
          "execution_count": 216
        }
      ]
    },
    {
      "cell_type": "code",
      "source": [
        "y_test = y_test + 1\n",
        "y_test"
      ],
      "metadata": {
        "colab": {
          "base_uri": "https://localhost:8080/"
        },
        "id": "dYuiQmy21T7C",
        "outputId": "2f61303d-fbd5-4829-8767-9adc38be87af"
      },
      "execution_count": 217,
      "outputs": [
        {
          "output_type": "execute_result",
          "data": {
            "text/plain": [
              "array([2, 2, 2, ..., 3, 3, 2])"
            ]
          },
          "metadata": {},
          "execution_count": 217
        }
      ]
    },
    {
      "cell_type": "code",
      "source": [
        "print(\"Fit Time: {} seconds\".format(dt_time_fit))\n",
        "print(\"Prediction Time: {} seconds\".format(dt_time_pred))\n",
        "print(\"Precision: \", metrics.precision_score(y_test,predictions_test, average='micro'))\n",
        "print(\"Recall: \", metrics.recall_score(y_test,predictions_test,average='micro'))\n",
        "print(\"Accuracy: \", metrics.accuracy_score(y_test,predictions_test))\n",
        "print(\"F1_score: \", metrics.f1_score(y_test,predictions_test, average='micro'))"
      ],
      "metadata": {
        "colab": {
          "base_uri": "https://localhost:8080/"
        },
        "id": "NNUVT6zddo3O",
        "outputId": "69776a31-3e99-4153-d464-a7db155f8078"
      },
      "execution_count": 218,
      "outputs": [
        {
          "output_type": "stream",
          "name": "stdout",
          "text": [
            "Fit Time: 1435.5596108436584 seconds\n",
            "Prediction Time: 2.9006757736206055 seconds\n",
            "Precision:  0.6466107710903475\n",
            "Recall:  0.6466107710903475\n",
            "Accuracy:  0.6466107710903475\n",
            "F1_score:  0.6466107710903475\n"
          ]
        }
      ]
    },
    {
      "cell_type": "code",
      "source": [
        "data = confusion_matrix(y_test,predictions_test)\n",
        "cm = pd.DataFrame(data, columns=np.unique(y_test), index = np.unique(y_test))\n",
        "cm.index.name = 'Actual'\n",
        "cm.columns.name = 'Predicted'\n",
        "plt.figure(figsize = (10,7))\n",
        "sns.heatmap(cm, annot=True, fmt=\"d\", annot_kws={\"size\": 12})\n",
        "plt.title(\"Confusion Matrix\")\n",
        "plt.show()"
      ],
      "metadata": {
        "colab": {
          "base_uri": "https://localhost:8080/",
          "height": 641
        },
        "id": "RmXhp7CvdCAb",
        "outputId": "f27bb95c-21ac-4a62-ab60-abef915faa7c"
      },
      "execution_count": 219,
      "outputs": [
        {
          "output_type": "display_data",
          "data": {
            "text/plain": [
              "<Figure size 1000x700 with 2 Axes>"
            ],
            "image/png": "[encoded data removed]"
          },
          "metadata": {}
        }
      ]
    }
  ]
}