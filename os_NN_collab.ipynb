{
  "nbformat": 4,
  "nbformat_minor": 0,
  "metadata": {
    "colab": {
      "provenance": []
    },
    "kernelspec": {
      "name": "python3",
      "display_name": "Python 3"
    },
    "language_info": {
      "name": "python"
    }
  },
  "cells": [
    {
      "cell_type": "code",
      "execution_count": 1,
      "metadata": {
        "id": "rs4ycvG2azx7"
      },
      "outputs": [],
      "source": [
        "import numpy as np\n",
        "import pandas as pd"
      ]
    },
    {
      "cell_type": "code",
      "source": [
        "from tensorflow.keras.models import Sequential\n",
        "from tensorflow.keras.layers import Dense, Conv2D, MaxPooling2D, Dropout, Flatten, Input\n",
        "from tensorflow.keras.optimizers import SGD, Adam\n",
        "from tensorflow.keras.callbacks import EarlyStopping, ModelCheckpoint\n",
        "from sklearn import metrics\n",
        "from sklearn.model_selection import train_test_split"
      ],
      "metadata": {
        "id": "Jnw43CKdbRom"
      },
      "execution_count": 2,
      "outputs": []
    },
    {
      "cell_type": "code",
      "source": [
        "import time"
      ],
      "metadata": {
        "id": "cY3OWGBwcLQ9"
      },
      "execution_count": 3,
      "outputs": []
    },
    {
      "cell_type": "code",
      "source": [
        "from sklearn.metrics import confusion_matrix"
      ],
      "metadata": {
        "id": "_t2YsHu7m8Lk"
      },
      "execution_count": 4,
      "outputs": []
    },
    {
      "cell_type": "code",
      "source": [
        "import matplotlib.pyplot as plt"
      ],
      "metadata": {
        "id": "giLDsZ_ZnG3d"
      },
      "execution_count": 5,
      "outputs": []
    },
    {
      "cell_type": "code",
      "source": [
        "import seaborn as sns"
      ],
      "metadata": {
        "id": "QKTfY8W0nLlr"
      },
      "execution_count": 6,
      "outputs": []
    },
    {
      "cell_type": "code",
      "source": [
        "from google.colab import drive\n",
        "drive.mount('/content/drive')"
      ],
      "metadata": {
        "colab": {
          "base_uri": "https://localhost:8080/"
        },
        "id": "JN7oTov7FeV3",
        "outputId": "dd8bb52c-2f3f-4c66-e3fc-502290bc174a"
      },
      "execution_count": 7,
      "outputs": [
        {
          "output_type": "stream",
          "name": "stdout",
          "text": [
            "Mounted at /content/drive\n"
          ]
        }
      ]
    },
    {
      "cell_type": "code",
      "source": [
        "train_labels = pd.read_csv(\"/content/drive/MyDrive/DataDcience/train_labels_oversampled.csv\")\n",
        "train_values = pd.read_csv(\"/content/drive/MyDrive/DataDcience/train_values_oversampled.csv\")"
      ],
      "metadata": {
        "id": "MbhhayhcbYpR"
      },
      "execution_count": 8,
      "outputs": []
    },
    {
      "cell_type": "code",
      "source": [
        "train_labels.drop(labels=['Unnamed: 0'],axis=1,inplace=True)\n",
        "train_labels.head()"
      ],
      "metadata": {
        "colab": {
          "base_uri": "https://localhost:8080/",
          "height": 206
        },
        "id": "eLwHP9HblEvQ",
        "outputId": "e272a383-1292-482b-c02e-dd72a49ce3b4"
      },
      "execution_count": 9,
      "outputs": [
        {
          "output_type": "execute_result",
          "data": {
            "text/plain": [
              "   damage_grade\n",
              "0             3\n",
              "1             2\n",
              "2             3\n",
              "3             2\n",
              "4             3"
            ],
            "text/html": [
              "\n",
              "  <div id=\"df-86a257f2-f225-48dd-952b-9f4b57a8f9a9\">\n",
              "    <div class=\"colab-df-container\">\n",
              "      <div>\n",
              "<style scoped>\n",
              "    .dataframe tbody tr th:only-of-type {\n",
              "        vertical-align: middle;\n",
              "    }\n",
              "\n",
              "    .dataframe tbody tr th {\n",
              "        vertical-align: top;\n",
              "    }\n",
              "\n",
              "    .dataframe thead th {\n",
              "        text-align: right;\n",
              "    }\n",
              "</style>\n",
              "<table border=\"1\" class=\"dataframe\">\n",
              "  <thead>\n",
              "    <tr style=\"text-align: right;\">\n",
              "      <th></th>\n",
              "      <th>damage_grade</th>\n",
              "    </tr>\n",
              "  </thead>\n",
              "  <tbody>\n",
              "    <tr>\n",
              "      <th>0</th>\n",
              "      <td>3</td>\n",
              "    </tr>\n",
              "    <tr>\n",
              "      <th>1</th>\n",
              "      <td>2</td>\n",
              "    </tr>\n",
              "    <tr>\n",
              "      <th>2</th>\n",
              "      <td>3</td>\n",
              "    </tr>\n",
              "    <tr>\n",
              "      <th>3</th>\n",
              "      <td>2</td>\n",
              "    </tr>\n",
              "    <tr>\n",
              "      <th>4</th>\n",
              "      <td>3</td>\n",
              "    </tr>\n",
              "  </tbody>\n",
              "</table>\n",
              "</div>\n",
              "      <button class=\"colab-df-convert\" onclick=\"convertToInteractive('df-86a257f2-f225-48dd-952b-9f4b57a8f9a9')\"\n",
              "              title=\"Convert this dataframe to an interactive table.\"\n",
              "              style=\"display:none;\">\n",
              "        \n",
              "  <svg xmlns=\"http://www.w3.org/2000/svg\" height=\"24px\"viewBox=\"0 0 24 24\"\n",
              "       width=\"24px\">\n",
              "    <path d=\"M0 0h24v24H0V0z\" fill=\"none\"/>\n",
              "    <path d=\"M18.56 5.44l.94 2.06.94-2.06 2.06-.94-2.06-.94-.94-2.06-.94 2.06-2.06.94zm-11 1L8.5 8.5l.94-2.06 2.06-.94-2.06-.94L8.5 2.5l-.94 2.06-2.06.94zm10 10l.94 2.06.94-2.06 2.06-.94-2.06-.94-.94-2.06-.94 2.06-2.06.94z\"/><path d=\"M17.41 7.96l-1.37-1.37c-.4-.4-.92-.59-1.43-.59-.52 0-1.04.2-1.43.59L10.3 9.45l-7.72 7.72c-.78.78-.78 2.05 0 2.83L4 21.41c.39.39.9.59 1.41.59.51 0 1.02-.2 1.41-.59l7.78-7.78 2.81-2.81c.8-.78.8-2.07 0-2.86zM5.41 20L4 18.59l7.72-7.72 1.47 1.35L5.41 20z\"/>\n",
              "  </svg>\n",
              "      </button>\n",
              "      \n",
              "  <style>\n",
              "    .colab-df-container {\n",
              "      display:flex;\n",
              "      flex-wrap:wrap;\n",
              "      gap: 12px;\n",
              "    }\n",
              "\n",
              "    .colab-df-convert {\n",
              "      background-color: #E8F0FE;\n",
              "      border: none;\n",
              "      border-radius: 50%;\n",
              "      cursor: pointer;\n",
              "      display: none;\n",
              "      fill: #1967D2;\n",
              "      height: 32px;\n",
              "      padding: 0 0 0 0;\n",
              "      width: 32px;\n",
              "    }\n",
              "\n",
              "    .colab-df-convert:hover {\n",
              "      background-color: #E2EBFA;\n",
              "      box-shadow: 0px 1px 2px rgba(60, 64, 67, 0.3), 0px 1px 3px 1px rgba(60, 64, 67, 0.15);\n",
              "      fill: #174EA6;\n",
              "    }\n",
              "\n",
              "    [theme=dark] .colab-df-convert {\n",
              "      background-color: #3B4455;\n",
              "      fill: #D2E3FC;\n",
              "    }\n",
              "\n",
              "    [theme=dark] .colab-df-convert:hover {\n",
              "      background-color: #434B5C;\n",
              "      box-shadow: 0px 1px 3px 1px rgba(0, 0, 0, 0.15);\n",
              "      filter: drop-shadow(0px 1px 2px rgba(0, 0, 0, 0.3));\n",
              "      fill: #FFFFFF;\n",
              "    }\n",
              "  </style>\n",
              "\n",
              "      <script>\n",
              "        const buttonEl =\n",
              "          document.querySelector('#df-86a257f2-f225-48dd-952b-9f4b57a8f9a9 button.colab-df-convert');\n",
              "        buttonEl.style.display =\n",
              "          google.colab.kernel.accessAllowed ? 'block' : 'none';\n",
              "\n",
              "        async function convertToInteractive(key) {\n",
              "          const element = document.querySelector('#df-86a257f2-f225-48dd-952b-9f4b57a8f9a9');\n",
              "          const dataTable =\n",
              "            await google.colab.kernel.invokeFunction('convertToInteractive',\n",
              "                                                     [key], {});\n",
              "          if (!dataTable) return;\n",
              "\n",
              "          const docLinkHtml = 'Like what you see? Visit the ' +\n",
              "            '<a target=\"_blank\" href=https://colab.research.google.com/notebooks/data_table.ipynb>data table notebook</a>'\n",
              "            + ' to learn more about interactive tables.';\n",
              "          element.innerHTML = '';\n",
              "          dataTable['output_type'] = 'display_data';\n",
              "          await google.colab.output.renderOutput(dataTable, element);\n",
              "          const docLink = document.createElement('div');\n",
              "          docLink.innerHTML = docLinkHtml;\n",
              "          element.appendChild(docLink);\n",
              "        }\n",
              "      </script>\n",
              "    </div>\n",
              "  </div>\n",
              "  "
            ]
          },
          "metadata": {},
          "execution_count": 9
        }
      ]
    },
    {
      "cell_type": "code",
      "source": [
        "train_labels[\"damage_grade\"] = train_labels[\"damage_grade\"] - 1\n",
        "train_labels.head()"
      ],
      "metadata": {
        "colab": {
          "base_uri": "https://localhost:8080/",
          "height": 206
        },
        "id": "POH_hpe4w01v",
        "outputId": "9ab184b5-f40e-4a53-e3f4-87a3374ade39"
      },
      "execution_count": 10,
      "outputs": [
        {
          "output_type": "execute_result",
          "data": {
            "text/plain": [
              "   damage_grade\n",
              "0             2\n",
              "1             1\n",
              "2             2\n",
              "3             1\n",
              "4             2"
            ],
            "text/html": [
              "\n",
              "  <div id=\"df-1500a5b7-7d34-4931-8c35-e5527e97c209\">\n",
              "    <div class=\"colab-df-container\">\n",
              "      <div>\n",
              "<style scoped>\n",
              "    .dataframe tbody tr th:only-of-type {\n",
              "        vertical-align: middle;\n",
              "    }\n",
              "\n",
              "    .dataframe tbody tr th {\n",
              "        vertical-align: top;\n",
              "    }\n",
              "\n",
              "    .dataframe thead th {\n",
              "        text-align: right;\n",
              "    }\n",
              "</style>\n",
              "<table border=\"1\" class=\"dataframe\">\n",
              "  <thead>\n",
              "    <tr style=\"text-align: right;\">\n",
              "      <th></th>\n",
              "      <th>damage_grade</th>\n",
              "    </tr>\n",
              "  </thead>\n",
              "  <tbody>\n",
              "    <tr>\n",
              "      <th>0</th>\n",
              "      <td>2</td>\n",
              "    </tr>\n",
              "    <tr>\n",
              "      <th>1</th>\n",
              "      <td>1</td>\n",
              "    </tr>\n",
              "    <tr>\n",
              "      <th>2</th>\n",
              "      <td>2</td>\n",
              "    </tr>\n",
              "    <tr>\n",
              "      <th>3</th>\n",
              "      <td>1</td>\n",
              "    </tr>\n",
              "    <tr>\n",
              "      <th>4</th>\n",
              "      <td>2</td>\n",
              "    </tr>\n",
              "  </tbody>\n",
              "</table>\n",
              "</div>\n",
              "      <button class=\"colab-df-convert\" onclick=\"convertToInteractive('df-1500a5b7-7d34-4931-8c35-e5527e97c209')\"\n",
              "              title=\"Convert this dataframe to an interactive table.\"\n",
              "              style=\"display:none;\">\n",
              "        \n",
              "  <svg xmlns=\"http://www.w3.org/2000/svg\" height=\"24px\"viewBox=\"0 0 24 24\"\n",
              "       width=\"24px\">\n",
              "    <path d=\"M0 0h24v24H0V0z\" fill=\"none\"/>\n",
              "    <path d=\"M18.56 5.44l.94 2.06.94-2.06 2.06-.94-2.06-.94-.94-2.06-.94 2.06-2.06.94zm-11 1L8.5 8.5l.94-2.06 2.06-.94-2.06-.94L8.5 2.5l-.94 2.06-2.06.94zm10 10l.94 2.06.94-2.06 2.06-.94-2.06-.94-.94-2.06-.94 2.06-2.06.94z\"/><path d=\"M17.41 7.96l-1.37-1.37c-.4-.4-.92-.59-1.43-.59-.52 0-1.04.2-1.43.59L10.3 9.45l-7.72 7.72c-.78.78-.78 2.05 0 2.83L4 21.41c.39.39.9.59 1.41.59.51 0 1.02-.2 1.41-.59l7.78-7.78 2.81-2.81c.8-.78.8-2.07 0-2.86zM5.41 20L4 18.59l7.72-7.72 1.47 1.35L5.41 20z\"/>\n",
              "  </svg>\n",
              "      </button>\n",
              "      \n",
              "  <style>\n",
              "    .colab-df-container {\n",
              "      display:flex;\n",
              "      flex-wrap:wrap;\n",
              "      gap: 12px;\n",
              "    }\n",
              "\n",
              "    .colab-df-convert {\n",
              "      background-color: #E8F0FE;\n",
              "      border: none;\n",
              "      border-radius: 50%;\n",
              "      cursor: pointer;\n",
              "      display: none;\n",
              "      fill: #1967D2;\n",
              "      height: 32px;\n",
              "      padding: 0 0 0 0;\n",
              "      width: 32px;\n",
              "    }\n",
              "\n",
              "    .colab-df-convert:hover {\n",
              "      background-color: #E2EBFA;\n",
              "      box-shadow: 0px 1px 2px rgba(60, 64, 67, 0.3), 0px 1px 3px 1px rgba(60, 64, 67, 0.15);\n",
              "      fill: #174EA6;\n",
              "    }\n",
              "\n",
              "    [theme=dark] .colab-df-convert {\n",
              "      background-color: #3B4455;\n",
              "      fill: #D2E3FC;\n",
              "    }\n",
              "\n",
              "    [theme=dark] .colab-df-convert:hover {\n",
              "      background-color: #434B5C;\n",
              "      box-shadow: 0px 1px 3px 1px rgba(0, 0, 0, 0.15);\n",
              "      filter: drop-shadow(0px 1px 2px rgba(0, 0, 0, 0.3));\n",
              "      fill: #FFFFFF;\n",
              "    }\n",
              "  </style>\n",
              "\n",
              "      <script>\n",
              "        const buttonEl =\n",
              "          document.querySelector('#df-1500a5b7-7d34-4931-8c35-e5527e97c209 button.colab-df-convert');\n",
              "        buttonEl.style.display =\n",
              "          google.colab.kernel.accessAllowed ? 'block' : 'none';\n",
              "\n",
              "        async function convertToInteractive(key) {\n",
              "          const element = document.querySelector('#df-1500a5b7-7d34-4931-8c35-e5527e97c209');\n",
              "          const dataTable =\n",
              "            await google.colab.kernel.invokeFunction('convertToInteractive',\n",
              "                                                     [key], {});\n",
              "          if (!dataTable) return;\n",
              "\n",
              "          const docLinkHtml = 'Like what you see? Visit the ' +\n",
              "            '<a target=\"_blank\" href=https://colab.research.google.com/notebooks/data_table.ipynb>data table notebook</a>'\n",
              "            + ' to learn more about interactive tables.';\n",
              "          element.innerHTML = '';\n",
              "          dataTable['output_type'] = 'display_data';\n",
              "          await google.colab.output.renderOutput(dataTable, element);\n",
              "          const docLink = document.createElement('div');\n",
              "          docLink.innerHTML = docLinkHtml;\n",
              "          element.appendChild(docLink);\n",
              "        }\n",
              "      </script>\n",
              "    </div>\n",
              "  </div>\n",
              "  "
            ]
          },
          "metadata": {},
          "execution_count": 10
        }
      ]
    },
    {
      "cell_type": "code",
      "source": [
        "from tensorflow.keras.utils import to_categorical\n",
        "train_labels = to_categorical(train_labels, 3)"
      ],
      "metadata": {
        "id": "SdyrWuditCWj"
      },
      "execution_count": 11,
      "outputs": []
    },
    {
      "cell_type": "code",
      "source": [
        "train_labels"
      ],
      "metadata": {
        "colab": {
          "base_uri": "https://localhost:8080/"
        },
        "id": "Hq74xaEBvysQ",
        "outputId": "009bd935-47fb-4a4c-c1f0-612244fd29fe"
      },
      "execution_count": 12,
      "outputs": [
        {
          "output_type": "execute_result",
          "data": {
            "text/plain": [
              "array([[0., 0., 1.],\n",
              "       [0., 1., 0.],\n",
              "       [0., 0., 1.],\n",
              "       ...,\n",
              "       [0., 0., 1.],\n",
              "       [0., 0., 1.],\n",
              "       [0., 0., 1.]], dtype=float32)"
            ]
          },
          "metadata": {},
          "execution_count": 12
        }
      ]
    },
    {
      "cell_type": "code",
      "source": [
        "train_values.drop(labels=['Unnamed: 0'],axis=1,inplace=True)\n",
        "train_values.head()"
      ],
      "metadata": {
        "colab": {
          "base_uri": "https://localhost:8080/",
          "height": 299
        },
        "id": "0lnnJADKlHvY",
        "outputId": "090da8ae-9fa2-46cc-dc9c-eef9cd85fa1a"
      },
      "execution_count": 13,
      "outputs": [
        {
          "output_type": "execute_result",
          "data": {
            "text/plain": [
              "   geo_level_1_id  geo_level_2_id  geo_level_3_id  count_floors_pre_eq  \\\n",
              "0               6             487           12198                    2   \n",
              "1               8             900            2812                    2   \n",
              "2              21             363            8973                    2   \n",
              "3              22             418           10694                    2   \n",
              "4              11             131            1488                    3   \n",
              "\n",
              "        age  area_percentage  height_percentage  has_superstructure_adobe_mud  \\\n",
              "0  0.500000         0.357143           0.428571                             1   \n",
              "1  0.166667         0.500000           0.714286                             0   \n",
              "2  0.166667         0.285714           0.428571                             0   \n",
              "3  0.166667         0.357143           0.428571                             0   \n",
              "4  0.500000         0.500000           1.000000                             1   \n",
              "\n",
              "   has_superstructure_mud_mortar_stone  has_superstructure_stone_flag  ...  \\\n",
              "0                                    1                              0  ...   \n",
              "1                                    1                              0  ...   \n",
              "2                                    1                              0  ...   \n",
              "3                                    1                              0  ...   \n",
              "4                                    0                              0  ...   \n",
              "\n",
              "   plan_configuration_f  plan_configuration_m  plan_configuration_n  \\\n",
              "0                     0                     0                     0   \n",
              "1                     0                     0                     0   \n",
              "2                     0                     0                     0   \n",
              "3                     0                     0                     0   \n",
              "4                     0                     0                     0   \n",
              "\n",
              "   plan_configuration_o  plan_configuration_q  plan_configuration_s  \\\n",
              "0                     0                     0                     0   \n",
              "1                     0                     0                     0   \n",
              "2                     0                     0                     0   \n",
              "3                     0                     0                     0   \n",
              "4                     0                     0                     0   \n",
              "\n",
              "   plan_configuration_u  legal_ownership_status_r  legal_ownership_status_v  \\\n",
              "0                     0                         0                         1   \n",
              "1                     0                         0                         1   \n",
              "2                     0                         0                         1   \n",
              "3                     0                         0                         1   \n",
              "4                     0                         0                         1   \n",
              "\n",
              "   legal_ownership_status_w  \n",
              "0                         0  \n",
              "1                         0  \n",
              "2                         0  \n",
              "3                         0  \n",
              "4                         0  \n",
              "\n",
              "[5 rows x 60 columns]"
            ],
            "text/html": [
              "\n",
              "  <div id=\"df-d6f411ae-fa66-44b8-a266-e5630c58dc48\">\n",
              "    <div class=\"colab-df-container\">\n",
              "      <div>\n",
              "<style scoped>\n",
              "    .dataframe tbody tr th:only-of-type {\n",
              "        vertical-align: middle;\n",
              "    }\n",
              "\n",
              "    .dataframe tbody tr th {\n",
              "        vertical-align: top;\n",
              "    }\n",
              "\n",
              "    .dataframe thead th {\n",
              "        text-align: right;\n",
              "    }\n",
              "</style>\n",
              "<table border=\"1\" class=\"dataframe\">\n",
              "  <thead>\n",
              "    <tr style=\"text-align: right;\">\n",
              "      <th></th>\n",
              "      <th>geo_level_1_id</th>\n",
              "      <th>geo_level_2_id</th>\n",
              "      <th>geo_level_3_id</th>\n",
              "      <th>count_floors_pre_eq</th>\n",
              "      <th>age</th>\n",
              "      <th>area_percentage</th>\n",
              "      <th>height_percentage</th>\n",
              "      <th>has_superstructure_adobe_mud</th>\n",
              "      <th>has_superstructure_mud_mortar_stone</th>\n",
              "      <th>has_superstructure_stone_flag</th>\n",
              "      <th>...</th>\n",
              "      <th>plan_configuration_f</th>\n",
              "      <th>plan_configuration_m</th>\n",
              "      <th>plan_configuration_n</th>\n",
              "      <th>plan_configuration_o</th>\n",
              "      <th>plan_configuration_q</th>\n",
              "      <th>plan_configuration_s</th>\n",
              "      <th>plan_configuration_u</th>\n",
              "      <th>legal_ownership_status_r</th>\n",
              "      <th>legal_ownership_status_v</th>\n",
              "      <th>legal_ownership_status_w</th>\n",
              "    </tr>\n",
              "  </thead>\n",
              "  <tbody>\n",
              "    <tr>\n",
              "      <th>0</th>\n",
              "      <td>6</td>\n",
              "      <td>487</td>\n",
              "      <td>12198</td>\n",
              "      <td>2</td>\n",
              "      <td>0.500000</td>\n",
              "      <td>0.357143</td>\n",
              "      <td>0.428571</td>\n",
              "      <td>1</td>\n",
              "      <td>1</td>\n",
              "      <td>0</td>\n",
              "      <td>...</td>\n",
              "      <td>0</td>\n",
              "      <td>0</td>\n",
              "      <td>0</td>\n",
              "      <td>0</td>\n",
              "      <td>0</td>\n",
              "      <td>0</td>\n",
              "      <td>0</td>\n",
              "      <td>0</td>\n",
              "      <td>1</td>\n",
              "      <td>0</td>\n",
              "    </tr>\n",
              "    <tr>\n",
              "      <th>1</th>\n",
              "      <td>8</td>\n",
              "      <td>900</td>\n",
              "      <td>2812</td>\n",
              "      <td>2</td>\n",
              "      <td>0.166667</td>\n",
              "      <td>0.500000</td>\n",
              "      <td>0.714286</td>\n",
              "      <td>0</td>\n",
              "      <td>1</td>\n",
              "      <td>0</td>\n",
              "      <td>...</td>\n",
              "      <td>0</td>\n",
              "      <td>0</td>\n",
              "      <td>0</td>\n",
              "      <td>0</td>\n",
              "      <td>0</td>\n",
              "      <td>0</td>\n",
              "      <td>0</td>\n",
              "      <td>0</td>\n",
              "      <td>1</td>\n",
              "      <td>0</td>\n",
              "    </tr>\n",
              "    <tr>\n",
              "      <th>2</th>\n",
              "      <td>21</td>\n",
              "      <td>363</td>\n",
              "      <td>8973</td>\n",
              "      <td>2</td>\n",
              "      <td>0.166667</td>\n",
              "      <td>0.285714</td>\n",
              "      <td>0.428571</td>\n",
              "      <td>0</td>\n",
              "      <td>1</td>\n",
              "      <td>0</td>\n",
              "      <td>...</td>\n",
              "      <td>0</td>\n",
              "      <td>0</td>\n",
              "      <td>0</td>\n",
              "      <td>0</td>\n",
              "      <td>0</td>\n",
              "      <td>0</td>\n",
              "      <td>0</td>\n",
              "      <td>0</td>\n",
              "      <td>1</td>\n",
              "      <td>0</td>\n",
              "    </tr>\n",
              "    <tr>\n",
              "      <th>3</th>\n",
              "      <td>22</td>\n",
              "      <td>418</td>\n",
              "      <td>10694</td>\n",
              "      <td>2</td>\n",
              "      <td>0.166667</td>\n",
              "      <td>0.357143</td>\n",
              "      <td>0.428571</td>\n",
              "      <td>0</td>\n",
              "      <td>1</td>\n",
              "      <td>0</td>\n",
              "      <td>...</td>\n",
              "      <td>0</td>\n",
              "      <td>0</td>\n",
              "      <td>0</td>\n",
              "      <td>0</td>\n",
              "      <td>0</td>\n",
              "      <td>0</td>\n",
              "      <td>0</td>\n",
              "      <td>0</td>\n",
              "      <td>1</td>\n",
              "      <td>0</td>\n",
              "    </tr>\n",
              "    <tr>\n",
              "      <th>4</th>\n",
              "      <td>11</td>\n",
              "      <td>131</td>\n",
              "      <td>1488</td>\n",
              "      <td>3</td>\n",
              "      <td>0.500000</td>\n",
              "      <td>0.500000</td>\n",
              "      <td>1.000000</td>\n",
              "      <td>1</td>\n",
              "      <td>0</td>\n",
              "      <td>0</td>\n",
              "      <td>...</td>\n",
              "      <td>0</td>\n",
              "      <td>0</td>\n",
              "      <td>0</td>\n",
              "      <td>0</td>\n",
              "      <td>0</td>\n",
              "      <td>0</td>\n",
              "      <td>0</td>\n",
              "      <td>0</td>\n",
              "      <td>1</td>\n",
              "      <td>0</td>\n",
              "    </tr>\n",
              "  </tbody>\n",
              "</table>\n",
              "<p>5 rows × 60 columns</p>\n",
              "</div>\n",
              "      <button class=\"colab-df-convert\" onclick=\"convertToInteractive('df-d6f411ae-fa66-44b8-a266-e5630c58dc48')\"\n",
              "              title=\"Convert this dataframe to an interactive table.\"\n",
              "              style=\"display:none;\">\n",
              "        \n",
              "  <svg xmlns=\"http://www.w3.org/2000/svg\" height=\"24px\"viewBox=\"0 0 24 24\"\n",
              "       width=\"24px\">\n",
              "    <path d=\"M0 0h24v24H0V0z\" fill=\"none\"/>\n",
              "    <path d=\"M18.56 5.44l.94 2.06.94-2.06 2.06-.94-2.06-.94-.94-2.06-.94 2.06-2.06.94zm-11 1L8.5 8.5l.94-2.06 2.06-.94-2.06-.94L8.5 2.5l-.94 2.06-2.06.94zm10 10l.94 2.06.94-2.06 2.06-.94-2.06-.94-.94-2.06-.94 2.06-2.06.94z\"/><path d=\"M17.41 7.96l-1.37-1.37c-.4-.4-.92-.59-1.43-.59-.52 0-1.04.2-1.43.59L10.3 9.45l-7.72 7.72c-.78.78-.78 2.05 0 2.83L4 21.41c.39.39.9.59 1.41.59.51 0 1.02-.2 1.41-.59l7.78-7.78 2.81-2.81c.8-.78.8-2.07 0-2.86zM5.41 20L4 18.59l7.72-7.72 1.47 1.35L5.41 20z\"/>\n",
              "  </svg>\n",
              "      </button>\n",
              "      \n",
              "  <style>\n",
              "    .colab-df-container {\n",
              "      display:flex;\n",
              "      flex-wrap:wrap;\n",
              "      gap: 12px;\n",
              "    }\n",
              "\n",
              "    .colab-df-convert {\n",
              "      background-color: #E8F0FE;\n",
              "      border: none;\n",
              "      border-radius: 50%;\n",
              "      cursor: pointer;\n",
              "      display: none;\n",
              "      fill: #1967D2;\n",
              "      height: 32px;\n",
              "      padding: 0 0 0 0;\n",
              "      width: 32px;\n",
              "    }\n",
              "\n",
              "    .colab-df-convert:hover {\n",
              "      background-color: #E2EBFA;\n",
              "      box-shadow: 0px 1px 2px rgba(60, 64, 67, 0.3), 0px 1px 3px 1px rgba(60, 64, 67, 0.15);\n",
              "      fill: #174EA6;\n",
              "    }\n",
              "\n",
              "    [theme=dark] .colab-df-convert {\n",
              "      background-color: #3B4455;\n",
              "      fill: #D2E3FC;\n",
              "    }\n",
              "\n",
              "    [theme=dark] .colab-df-convert:hover {\n",
              "      background-color: #434B5C;\n",
              "      box-shadow: 0px 1px 3px 1px rgba(0, 0, 0, 0.15);\n",
              "      filter: drop-shadow(0px 1px 2px rgba(0, 0, 0, 0.3));\n",
              "      fill: #FFFFFF;\n",
              "    }\n",
              "  </style>\n",
              "\n",
              "      <script>\n",
              "        const buttonEl =\n",
              "          document.querySelector('#df-d6f411ae-fa66-44b8-a266-e5630c58dc48 button.colab-df-convert');\n",
              "        buttonEl.style.display =\n",
              "          google.colab.kernel.accessAllowed ? 'block' : 'none';\n",
              "\n",
              "        async function convertToInteractive(key) {\n",
              "          const element = document.querySelector('#df-d6f411ae-fa66-44b8-a266-e5630c58dc48');\n",
              "          const dataTable =\n",
              "            await google.colab.kernel.invokeFunction('convertToInteractive',\n",
              "                                                     [key], {});\n",
              "          if (!dataTable) return;\n",
              "\n",
              "          const docLinkHtml = 'Like what you see? Visit the ' +\n",
              "            '<a target=\"_blank\" href=https://colab.research.google.com/notebooks/data_table.ipynb>data table notebook</a>'\n",
              "            + ' to learn more about interactive tables.';\n",
              "          element.innerHTML = '';\n",
              "          dataTable['output_type'] = 'display_data';\n",
              "          await google.colab.output.renderOutput(dataTable, element);\n",
              "          const docLink = document.createElement('div');\n",
              "          docLink.innerHTML = docLinkHtml;\n",
              "          element.appendChild(docLink);\n",
              "        }\n",
              "      </script>\n",
              "    </div>\n",
              "  </div>\n",
              "  "
            ]
          },
          "metadata": {},
          "execution_count": 13
        }
      ]
    },
    {
      "cell_type": "code",
      "source": [
        "X_train, X_test, y_train, y_test = train_test_split(train_values, train_labels, test_size = 0.2, random_state = 42)"
      ],
      "metadata": {
        "id": "94zoF50zbTUe"
      },
      "execution_count": 14,
      "outputs": []
    },
    {
      "cell_type": "code",
      "source": [
        "model = Sequential([\n",
        "    Input(shape = (60)),\n",
        "    Dense(128, activation='relu', use_bias=False),\n",
        "    Dense(256, activation='relu', use_bias=False),\n",
        "    Dense(128, activation='relu', use_bias=False),\n",
        "    Dense(64, activation='relu', use_bias=False),\n",
        "    Dense(3, activation='softmax', use_bias=False)\n",
        "]) \n",
        "\n",
        "model.compile(loss='categorical_crossentropy', optimizer='adam', metrics=['accuracy'])"
      ],
      "metadata": {
        "id": "fb1ghuwRbXbl"
      },
      "execution_count": 15,
      "outputs": []
    },
    {
      "cell_type": "code",
      "source": [
        "early_stopping=EarlyStopping(patience=22, verbose=1)\n",
        "\n",
        "checkpointer=ModelCheckpoint(filepath='weights.hdf5', save_best_only=True, verbose=1)\n",
        "\n",
        "start_time = time.time()\n",
        "network_history = model.fit(X_train, y_train, batch_size=64, \n",
        "                            epochs=200, verbose=1, validation_split=0.2,\n",
        "                  callbacks=[checkpointer, early_stopping])\n",
        "dt_time_fit = time.time() - start_time"
      ],
      "metadata": {
        "id": "S5bt3ODob_Xz",
        "colab": {
          "base_uri": "https://localhost:8080/"
        },
        "outputId": "cc019e6c-72e1-4b94-9217-da8122e15530"
      },
      "execution_count": 16,
      "outputs": [
        {
          "output_type": "stream",
          "name": "stdout",
          "text": [
            "Epoch 1/100\n",
            "4447/4448 [============================>.] - ETA: 0s - loss: 2.2873 - accuracy: 0.4503\n",
            "Epoch 1: val_loss improved from inf to 0.92841, saving model to weights.hdf5\n",
            "4448/4448 [==============================] - 29s 6ms/step - loss: 2.2871 - accuracy: 0.4503 - val_loss: 0.9284 - val_accuracy: 0.5278\n",
            "Epoch 2/100\n",
            "4442/4448 [============================>.] - ETA: 0s - loss: 0.9165 - accuracy: 0.5271\n",
            "Epoch 2: val_loss improved from 0.92841 to 0.88538, saving model to weights.hdf5\n",
            "4448/4448 [==============================] - 28s 6ms/step - loss: 0.9165 - accuracy: 0.5271 - val_loss: 0.8854 - val_accuracy: 0.5176\n",
            "Epoch 3/100\n",
            "4447/4448 [============================>.] - ETA: 0s - loss: 0.8886 - accuracy: 0.5406\n",
            "Epoch 3: val_loss did not improve from 0.88538\n",
            "4448/4448 [==============================] - 28s 6ms/step - loss: 0.8886 - accuracy: 0.5406 - val_loss: 0.9209 - val_accuracy: 0.5251\n",
            "Epoch 4/100\n",
            "4444/4448 [============================>.] - ETA: 0s - loss: 0.8676 - accuracy: 0.5570\n",
            "Epoch 4: val_loss improved from 0.88538 to 0.84376, saving model to weights.hdf5\n",
            "4448/4448 [==============================] - 30s 7ms/step - loss: 0.8676 - accuracy: 0.5570 - val_loss: 0.8438 - val_accuracy: 0.5739\n",
            "Epoch 5/100\n",
            "4443/4448 [============================>.] - ETA: 0s - loss: 0.8513 - accuracy: 0.5761\n",
            "Epoch 5: val_loss did not improve from 0.84376\n",
            "4448/4448 [==============================] - 29s 7ms/step - loss: 0.8514 - accuracy: 0.5760 - val_loss: 0.8498 - val_accuracy: 0.5834\n",
            "Epoch 6/100\n",
            "4447/4448 [============================>.] - ETA: 0s - loss: 0.8435 - accuracy: 0.5852\n",
            "Epoch 6: val_loss improved from 0.84376 to 0.82185, saving model to weights.hdf5\n",
            "4448/4448 [==============================] - 34s 8ms/step - loss: 0.8435 - accuracy: 0.5852 - val_loss: 0.8218 - val_accuracy: 0.6029\n",
            "Epoch 7/100\n",
            "4448/4448 [==============================] - ETA: 0s - loss: 0.8351 - accuracy: 0.5925\n",
            "Epoch 7: val_loss did not improve from 0.82185\n",
            "4448/4448 [==============================] - 32s 7ms/step - loss: 0.8351 - accuracy: 0.5925 - val_loss: 0.8548 - val_accuracy: 0.5688\n",
            "Epoch 8/100\n",
            "4445/4448 [============================>.] - ETA: 0s - loss: 0.8289 - accuracy: 0.5967\n",
            "Epoch 8: val_loss improved from 0.82185 to 0.81286, saving model to weights.hdf5\n",
            "4448/4448 [==============================] - 30s 7ms/step - loss: 0.8289 - accuracy: 0.5967 - val_loss: 0.8129 - val_accuracy: 0.6065\n",
            "Epoch 9/100\n",
            "4445/4448 [============================>.] - ETA: 0s - loss: 0.8248 - accuracy: 0.5987\n",
            "Epoch 9: val_loss did not improve from 0.81286\n",
            "4448/4448 [==============================] - 30s 7ms/step - loss: 0.8248 - accuracy: 0.5987 - val_loss: 0.8539 - val_accuracy: 0.5838\n",
            "Epoch 10/100\n",
            "4443/4448 [============================>.] - ETA: 0s - loss: 0.8185 - accuracy: 0.6028\n",
            "Epoch 10: val_loss improved from 0.81286 to 0.80173, saving model to weights.hdf5\n",
            "4448/4448 [==============================] - 30s 7ms/step - loss: 0.8185 - accuracy: 0.6028 - val_loss: 0.8017 - val_accuracy: 0.6121\n",
            "Epoch 11/100\n",
            "4447/4448 [============================>.] - ETA: 0s - loss: 0.8147 - accuracy: 0.6056\n",
            "Epoch 11: val_loss did not improve from 0.80173\n",
            "4448/4448 [==============================] - 30s 7ms/step - loss: 0.8148 - accuracy: 0.6056 - val_loss: 0.8093 - val_accuracy: 0.5994\n",
            "Epoch 12/100\n",
            "4440/4448 [============================>.] - ETA: 0s - loss: 0.8103 - accuracy: 0.6074\n",
            "Epoch 12: val_loss improved from 0.80173 to 0.79238, saving model to weights.hdf5\n",
            "4448/4448 [==============================] - 29s 6ms/step - loss: 0.8102 - accuracy: 0.6075 - val_loss: 0.7924 - val_accuracy: 0.6192\n",
            "Epoch 13/100\n",
            "4440/4448 [============================>.] - ETA: 0s - loss: 0.8029 - accuracy: 0.6123\n",
            "Epoch 13: val_loss improved from 0.79238 to 0.79028, saving model to weights.hdf5\n",
            "4448/4448 [==============================] - 29s 6ms/step - loss: 0.8029 - accuracy: 0.6123 - val_loss: 0.7903 - val_accuracy: 0.6160\n",
            "Epoch 14/100\n",
            "4442/4448 [============================>.] - ETA: 0s - loss: 0.7991 - accuracy: 0.6146\n",
            "Epoch 14: val_loss did not improve from 0.79028\n",
            "4448/4448 [==============================] - 29s 7ms/step - loss: 0.7991 - accuracy: 0.6146 - val_loss: 0.7996 - val_accuracy: 0.6141\n",
            "Epoch 15/100\n",
            "4448/4448 [==============================] - ETA: 0s - loss: 0.7952 - accuracy: 0.6164\n",
            "Epoch 15: val_loss improved from 0.79028 to 0.78639, saving model to weights.hdf5\n",
            "4448/4448 [==============================] - 29s 6ms/step - loss: 0.7952 - accuracy: 0.6164 - val_loss: 0.7864 - val_accuracy: 0.6138\n",
            "Epoch 16/100\n",
            "4446/4448 [============================>.] - ETA: 0s - loss: 0.7914 - accuracy: 0.6178\n",
            "Epoch 16: val_loss improved from 0.78639 to 0.78361, saving model to weights.hdf5\n",
            "4448/4448 [==============================] - 28s 6ms/step - loss: 0.7914 - accuracy: 0.6178 - val_loss: 0.7836 - val_accuracy: 0.6203\n",
            "Epoch 17/100\n",
            "4446/4448 [============================>.] - ETA: 0s - loss: 0.7888 - accuracy: 0.6201\n",
            "Epoch 17: val_loss did not improve from 0.78361\n",
            "4448/4448 [==============================] - 28s 6ms/step - loss: 0.7888 - accuracy: 0.6201 - val_loss: 0.7867 - val_accuracy: 0.6200\n",
            "Epoch 18/100\n",
            "4446/4448 [============================>.] - ETA: 0s - loss: 0.7852 - accuracy: 0.6222\n",
            "Epoch 18: val_loss improved from 0.78361 to 0.77781, saving model to weights.hdf5\n",
            "4448/4448 [==============================] - 29s 6ms/step - loss: 0.7852 - accuracy: 0.6222 - val_loss: 0.7778 - val_accuracy: 0.6214\n",
            "Epoch 19/100\n",
            "4439/4448 [============================>.] - ETA: 0s - loss: 0.7838 - accuracy: 0.6228\n",
            "Epoch 19: val_loss improved from 0.77781 to 0.76960, saving model to weights.hdf5\n",
            "4448/4448 [==============================] - 27s 6ms/step - loss: 0.7838 - accuracy: 0.6228 - val_loss: 0.7696 - val_accuracy: 0.6321\n",
            "Epoch 20/100\n",
            "4447/4448 [============================>.] - ETA: 0s - loss: 0.7811 - accuracy: 0.6237\n",
            "Epoch 20: val_loss did not improve from 0.76960\n",
            "4448/4448 [==============================] - 27s 6ms/step - loss: 0.7812 - accuracy: 0.6237 - val_loss: 0.8008 - val_accuracy: 0.6222\n",
            "Epoch 21/100\n",
            "4441/4448 [============================>.] - ETA: 0s - loss: 0.7776 - accuracy: 0.6255\n",
            "Epoch 21: val_loss improved from 0.76960 to 0.75707, saving model to weights.hdf5\n",
            "4448/4448 [==============================] - 27s 6ms/step - loss: 0.7776 - accuracy: 0.6255 - val_loss: 0.7571 - val_accuracy: 0.6359\n",
            "Epoch 22/100\n",
            "4438/4448 [============================>.] - ETA: 0s - loss: 0.7753 - accuracy: 0.6279\n",
            "Epoch 22: val_loss did not improve from 0.75707\n",
            "4448/4448 [==============================] - 27s 6ms/step - loss: 0.7754 - accuracy: 0.6278 - val_loss: 0.7868 - val_accuracy: 0.6226\n",
            "Epoch 23/100\n",
            "4440/4448 [============================>.] - ETA: 0s - loss: 0.7749 - accuracy: 0.6279\n",
            "Epoch 23: val_loss did not improve from 0.75707\n",
            "4448/4448 [==============================] - 28s 6ms/step - loss: 0.7749 - accuracy: 0.6279 - val_loss: 0.7918 - val_accuracy: 0.6107\n",
            "Epoch 24/100\n",
            "4442/4448 [============================>.] - ETA: 0s - loss: 0.7728 - accuracy: 0.6300\n",
            "Epoch 24: val_loss did not improve from 0.75707\n",
            "4448/4448 [==============================] - 29s 7ms/step - loss: 0.7728 - accuracy: 0.6299 - val_loss: 0.7948 - val_accuracy: 0.6081\n",
            "Epoch 25/100\n",
            "4448/4448 [==============================] - ETA: 0s - loss: 0.7721 - accuracy: 0.6286\n",
            "Epoch 25: val_loss did not improve from 0.75707\n",
            "4448/4448 [==============================] - 29s 7ms/step - loss: 0.7721 - accuracy: 0.6286 - val_loss: 0.7827 - val_accuracy: 0.6216\n",
            "Epoch 26/100\n",
            "4447/4448 [============================>.] - ETA: 0s - loss: 0.7681 - accuracy: 0.6326\n",
            "Epoch 26: val_loss did not improve from 0.75707\n",
            "4448/4448 [==============================] - 27s 6ms/step - loss: 0.7681 - accuracy: 0.6326 - val_loss: 0.7703 - val_accuracy: 0.6336\n",
            "Epoch 27/100\n",
            "4443/4448 [============================>.] - ETA: 0s - loss: 0.7652 - accuracy: 0.6340\n",
            "Epoch 27: val_loss improved from 0.75707 to 0.75523, saving model to weights.hdf5\n",
            "4448/4448 [==============================] - 28s 6ms/step - loss: 0.7653 - accuracy: 0.6339 - val_loss: 0.7552 - val_accuracy: 0.6385\n",
            "Epoch 28/100\n",
            "4445/4448 [============================>.] - ETA: 0s - loss: 0.7713 - accuracy: 0.6291\n",
            "Epoch 28: val_loss did not improve from 0.75523\n",
            "4448/4448 [==============================] - 26s 6ms/step - loss: 0.7713 - accuracy: 0.6291 - val_loss: 0.7674 - val_accuracy: 0.6283\n",
            "Epoch 29/100\n",
            "4438/4448 [============================>.] - ETA: 0s - loss: 0.7645 - accuracy: 0.6337\n",
            "Epoch 29: val_loss did not improve from 0.75523\n",
            "4448/4448 [==============================] - 26s 6ms/step - loss: 0.7646 - accuracy: 0.6336 - val_loss: 0.7604 - val_accuracy: 0.6316\n",
            "Epoch 30/100\n",
            "4445/4448 [============================>.] - ETA: 0s - loss: 0.7612 - accuracy: 0.6371\n",
            "Epoch 30: val_loss improved from 0.75523 to 0.74544, saving model to weights.hdf5\n",
            "4448/4448 [==============================] - 28s 6ms/step - loss: 0.7611 - accuracy: 0.6371 - val_loss: 0.7454 - val_accuracy: 0.6411\n",
            "Epoch 31/100\n",
            "4448/4448 [==============================] - ETA: 0s - loss: 0.7596 - accuracy: 0.6376\n",
            "Epoch 31: val_loss did not improve from 0.74544\n",
            "4448/4448 [==============================] - 28s 6ms/step - loss: 0.7596 - accuracy: 0.6376 - val_loss: 0.7499 - val_accuracy: 0.6390\n",
            "Epoch 32/100\n",
            "4442/4448 [============================>.] - ETA: 0s - loss: 0.7578 - accuracy: 0.6384\n",
            "Epoch 32: val_loss did not improve from 0.74544\n",
            "4448/4448 [==============================] - 25s 6ms/step - loss: 0.7578 - accuracy: 0.6384 - val_loss: 0.7508 - val_accuracy: 0.6414\n",
            "Epoch 33/100\n",
            "4438/4448 [============================>.] - ETA: 0s - loss: 0.7553 - accuracy: 0.6404\n",
            "Epoch 33: val_loss did not improve from 0.74544\n",
            "4448/4448 [==============================] - 25s 6ms/step - loss: 0.7553 - accuracy: 0.6404 - val_loss: 0.7712 - val_accuracy: 0.6335\n",
            "Epoch 34/100\n",
            "4446/4448 [============================>.] - ETA: 0s - loss: 0.7562 - accuracy: 0.6402\n",
            "Epoch 34: val_loss did not improve from 0.74544\n",
            "4448/4448 [==============================] - 26s 6ms/step - loss: 0.7561 - accuracy: 0.6402 - val_loss: 0.7565 - val_accuracy: 0.6357\n",
            "Epoch 35/100\n",
            "4446/4448 [============================>.] - ETA: 0s - loss: 0.7544 - accuracy: 0.6408\n",
            "Epoch 35: val_loss did not improve from 0.74544\n",
            "4448/4448 [==============================] - 27s 6ms/step - loss: 0.7543 - accuracy: 0.6408 - val_loss: 0.7544 - val_accuracy: 0.6346\n",
            "Epoch 36/100\n",
            "4445/4448 [============================>.] - ETA: 0s - loss: 0.7538 - accuracy: 0.6413\n",
            "Epoch 36: val_loss did not improve from 0.74544\n",
            "4448/4448 [==============================] - 28s 6ms/step - loss: 0.7539 - accuracy: 0.6412 - val_loss: 0.7701 - val_accuracy: 0.6366\n",
            "Epoch 37/100\n",
            "4447/4448 [============================>.] - ETA: 0s - loss: 0.7508 - accuracy: 0.6435\n",
            "Epoch 37: val_loss did not improve from 0.74544\n",
            "4448/4448 [==============================] - 25s 6ms/step - loss: 0.7507 - accuracy: 0.6435 - val_loss: 0.7528 - val_accuracy: 0.6452\n",
            "Epoch 38/100\n",
            "4442/4448 [============================>.] - ETA: 0s - loss: 0.7494 - accuracy: 0.6447\n",
            "Epoch 38: val_loss did not improve from 0.74544\n",
            "4448/4448 [==============================] - 26s 6ms/step - loss: 0.7494 - accuracy: 0.6447 - val_loss: 0.7504 - val_accuracy: 0.6440\n",
            "Epoch 39/100\n",
            "4446/4448 [============================>.] - ETA: 0s - loss: 0.7475 - accuracy: 0.6454\n",
            "Epoch 39: val_loss did not improve from 0.74544\n",
            "4448/4448 [==============================] - 27s 6ms/step - loss: 0.7475 - accuracy: 0.6453 - val_loss: 0.7634 - val_accuracy: 0.6286\n",
            "Epoch 40/100\n",
            "4443/4448 [============================>.] - ETA: 0s - loss: 0.7461 - accuracy: 0.6462\n",
            "Epoch 40: val_loss improved from 0.74544 to 0.73658, saving model to weights.hdf5\n",
            "4448/4448 [==============================] - 26s 6ms/step - loss: 0.7461 - accuracy: 0.6462 - val_loss: 0.7366 - val_accuracy: 0.6502\n",
            "Epoch 41/100\n",
            "4442/4448 [============================>.] - ETA: 0s - loss: 0.7440 - accuracy: 0.6473\n",
            "Epoch 41: val_loss did not improve from 0.73658\n",
            "4448/4448 [==============================] - 28s 6ms/step - loss: 0.7440 - accuracy: 0.6474 - val_loss: 0.7512 - val_accuracy: 0.6457\n",
            "Epoch 42/100\n",
            "4448/4448 [==============================] - ETA: 0s - loss: 0.7443 - accuracy: 0.6471\n",
            "Epoch 42: val_loss did not improve from 0.73658\n",
            "4448/4448 [==============================] - 28s 6ms/step - loss: 0.7443 - accuracy: 0.6471 - val_loss: 0.7647 - val_accuracy: 0.6293\n",
            "Epoch 43/100\n",
            "4443/4448 [============================>.] - ETA: 0s - loss: 0.7435 - accuracy: 0.6477\n",
            "Epoch 43: val_loss did not improve from 0.73658\n",
            "4448/4448 [==============================] - 29s 6ms/step - loss: 0.7435 - accuracy: 0.6476 - val_loss: 0.7579 - val_accuracy: 0.6368\n",
            "Epoch 44/100\n",
            "4442/4448 [============================>.] - ETA: 0s - loss: 0.7444 - accuracy: 0.6476\n",
            "Epoch 44: val_loss did not improve from 0.73658\n",
            "4448/4448 [==============================] - 28s 6ms/step - loss: 0.7443 - accuracy: 0.6476 - val_loss: 0.7462 - val_accuracy: 0.6470\n",
            "Epoch 45/100\n",
            "4441/4448 [============================>.] - ETA: 0s - loss: 0.7427 - accuracy: 0.6480\n",
            "Epoch 45: val_loss did not improve from 0.73658\n",
            "4448/4448 [==============================] - 29s 6ms/step - loss: 0.7427 - accuracy: 0.6480 - val_loss: 0.7486 - val_accuracy: 0.6404\n",
            "Epoch 46/100\n",
            "4441/4448 [============================>.] - ETA: 0s - loss: 0.7404 - accuracy: 0.6501\n",
            "Epoch 46: val_loss did not improve from 0.73658\n",
            "4448/4448 [==============================] - 28s 6ms/step - loss: 0.7404 - accuracy: 0.6501 - val_loss: 0.7630 - val_accuracy: 0.6322\n",
            "Epoch 47/100\n",
            "4444/4448 [============================>.] - ETA: 0s - loss: 0.7391 - accuracy: 0.6495\n",
            "Epoch 47: val_loss did not improve from 0.73658\n",
            "4448/4448 [==============================] - 29s 6ms/step - loss: 0.7392 - accuracy: 0.6494 - val_loss: 0.7471 - val_accuracy: 0.6464\n",
            "Epoch 48/100\n",
            "4441/4448 [============================>.] - ETA: 0s - loss: 0.7400 - accuracy: 0.6497\n",
            "Epoch 48: val_loss did not improve from 0.73658\n",
            "4448/4448 [==============================] - 29s 6ms/step - loss: 0.7399 - accuracy: 0.6498 - val_loss: 0.7446 - val_accuracy: 0.6452\n",
            "Epoch 49/100\n",
            "4441/4448 [============================>.] - ETA: 0s - loss: 0.7382 - accuracy: 0.6511\n",
            "Epoch 49: val_loss did not improve from 0.73658\n",
            "4448/4448 [==============================] - 29s 6ms/step - loss: 0.7381 - accuracy: 0.6511 - val_loss: 0.7445 - val_accuracy: 0.6480\n",
            "Epoch 50/100\n",
            "4441/4448 [============================>.] - ETA: 0s - loss: 0.7361 - accuracy: 0.6520\n",
            "Epoch 50: val_loss did not improve from 0.73658\n",
            "4448/4448 [==============================] - 29s 7ms/step - loss: 0.7362 - accuracy: 0.6519 - val_loss: 0.7487 - val_accuracy: 0.6373\n",
            "Epoch 51/100\n",
            "4444/4448 [============================>.] - ETA: 0s - loss: 0.7341 - accuracy: 0.6530\n",
            "Epoch 51: val_loss did not improve from 0.73658\n",
            "4448/4448 [==============================] - 29s 6ms/step - loss: 0.7341 - accuracy: 0.6531 - val_loss: 0.7429 - val_accuracy: 0.6502\n",
            "Epoch 52/100\n",
            "4448/4448 [==============================] - ETA: 0s - loss: 0.7363 - accuracy: 0.6521\n",
            "Epoch 52: val_loss did not improve from 0.73658\n",
            "4448/4448 [==============================] - 29s 6ms/step - loss: 0.7363 - accuracy: 0.6521 - val_loss: 0.7608 - val_accuracy: 0.6418\n",
            "Epoch 53/100\n",
            "4443/4448 [============================>.] - ETA: 0s - loss: 0.7345 - accuracy: 0.6526\n",
            "Epoch 53: val_loss did not improve from 0.73658\n",
            "4448/4448 [==============================] - 26s 6ms/step - loss: 0.7345 - accuracy: 0.6526 - val_loss: 0.7469 - val_accuracy: 0.6374\n",
            "Epoch 54/100\n",
            "4440/4448 [============================>.] - ETA: 0s - loss: 0.7343 - accuracy: 0.6534\n",
            "Epoch 54: val_loss did not improve from 0.73658\n",
            "4448/4448 [==============================] - 25s 6ms/step - loss: 0.7343 - accuracy: 0.6534 - val_loss: 0.7437 - val_accuracy: 0.6370\n",
            "Epoch 55/100\n",
            "4443/4448 [============================>.] - ETA: 0s - loss: 0.7345 - accuracy: 0.6535\n",
            "Epoch 55: val_loss improved from 0.73658 to 0.73162, saving model to weights.hdf5\n",
            "4448/4448 [==============================] - 26s 6ms/step - loss: 0.7344 - accuracy: 0.6535 - val_loss: 0.7316 - val_accuracy: 0.6536\n",
            "Epoch 56/100\n",
            "4448/4448 [==============================] - ETA: 0s - loss: 0.7337 - accuracy: 0.6534\n",
            "Epoch 56: val_loss did not improve from 0.73162\n",
            "4448/4448 [==============================] - 28s 6ms/step - loss: 0.7337 - accuracy: 0.6534 - val_loss: 0.7429 - val_accuracy: 0.6526\n",
            "Epoch 57/100\n",
            "4447/4448 [============================>.] - ETA: 0s - loss: 0.7316 - accuracy: 0.6548\n",
            "Epoch 57: val_loss did not improve from 0.73162\n",
            "4448/4448 [==============================] - 28s 6ms/step - loss: 0.7316 - accuracy: 0.6548 - val_loss: 0.7506 - val_accuracy: 0.6484\n",
            "Epoch 58/100\n",
            "4440/4448 [============================>.] - ETA: 0s - loss: 0.7313 - accuracy: 0.6555\n",
            "Epoch 58: val_loss did not improve from 0.73162\n",
            "4448/4448 [==============================] - 28s 6ms/step - loss: 0.7314 - accuracy: 0.6554 - val_loss: 0.7316 - val_accuracy: 0.6535\n",
            "Epoch 59/100\n",
            "4438/4448 [============================>.] - ETA: 0s - loss: 0.7301 - accuracy: 0.6554\n",
            "Epoch 59: val_loss improved from 0.73162 to 0.73079, saving model to weights.hdf5\n",
            "4448/4448 [==============================] - 28s 6ms/step - loss: 0.7301 - accuracy: 0.6554 - val_loss: 0.7308 - val_accuracy: 0.6536\n",
            "Epoch 60/100\n",
            "4448/4448 [==============================] - ETA: 0s - loss: 0.7303 - accuracy: 0.6558\n",
            "Epoch 60: val_loss did not improve from 0.73079\n",
            "4448/4448 [==============================] - 27s 6ms/step - loss: 0.7303 - accuracy: 0.6558 - val_loss: 0.7433 - val_accuracy: 0.6492\n",
            "Epoch 61/100\n",
            "4445/4448 [============================>.] - ETA: 0s - loss: 0.7297 - accuracy: 0.6564\n",
            "Epoch 61: val_loss improved from 0.73079 to 0.73021, saving model to weights.hdf5\n",
            "4448/4448 [==============================] - 26s 6ms/step - loss: 0.7297 - accuracy: 0.6564 - val_loss: 0.7302 - val_accuracy: 0.6528\n",
            "Epoch 62/100\n",
            "4447/4448 [============================>.] - ETA: 0s - loss: 0.7285 - accuracy: 0.6574\n",
            "Epoch 62: val_loss did not improve from 0.73021\n",
            "4448/4448 [==============================] - 28s 6ms/step - loss: 0.7285 - accuracy: 0.6574 - val_loss: 0.7435 - val_accuracy: 0.6523\n",
            "Epoch 63/100\n",
            "4440/4448 [============================>.] - ETA: 0s - loss: 0.7278 - accuracy: 0.6571\n",
            "Epoch 63: val_loss did not improve from 0.73021\n",
            "4448/4448 [==============================] - 27s 6ms/step - loss: 0.7279 - accuracy: 0.6570 - val_loss: 0.7515 - val_accuracy: 0.6436\n",
            "Epoch 64/100\n",
            "4444/4448 [============================>.] - ETA: 0s - loss: 0.7282 - accuracy: 0.6573\n",
            "Epoch 64: val_loss did not improve from 0.73021\n",
            "4448/4448 [==============================] - 29s 7ms/step - loss: 0.7282 - accuracy: 0.6573 - val_loss: 0.7405 - val_accuracy: 0.6513\n",
            "Epoch 65/100\n",
            "4446/4448 [============================>.] - ETA: 0s - loss: 0.7263 - accuracy: 0.6573\n",
            "Epoch 65: val_loss did not improve from 0.73021\n",
            "4448/4448 [==============================] - 29s 6ms/step - loss: 0.7262 - accuracy: 0.6573 - val_loss: 0.7312 - val_accuracy: 0.6570\n",
            "Epoch 66/100\n",
            "4447/4448 [============================>.] - ETA: 0s - loss: 0.7268 - accuracy: 0.6576\n",
            "Epoch 66: val_loss did not improve from 0.73021\n",
            "4448/4448 [==============================] - 29s 7ms/step - loss: 0.7269 - accuracy: 0.6576 - val_loss: 0.7412 - val_accuracy: 0.6532\n",
            "Epoch 67/100\n",
            "4444/4448 [============================>.] - ETA: 0s - loss: 0.7278 - accuracy: 0.6574\n",
            "Epoch 67: val_loss improved from 0.73021 to 0.72132, saving model to weights.hdf5\n",
            "4448/4448 [==============================] - 28s 6ms/step - loss: 0.7278 - accuracy: 0.6575 - val_loss: 0.7213 - val_accuracy: 0.6612\n",
            "Epoch 68/100\n",
            "4439/4448 [============================>.] - ETA: 0s - loss: 0.7251 - accuracy: 0.6587\n",
            "Epoch 68: val_loss improved from 0.72132 to 0.71800, saving model to weights.hdf5\n",
            "4448/4448 [==============================] - 26s 6ms/step - loss: 0.7251 - accuracy: 0.6588 - val_loss: 0.7180 - val_accuracy: 0.6628\n",
            "Epoch 69/100\n",
            "4446/4448 [============================>.] - ETA: 0s - loss: 0.7255 - accuracy: 0.6586\n",
            "Epoch 69: val_loss did not improve from 0.71800\n",
            "4448/4448 [==============================] - 28s 6ms/step - loss: 0.7255 - accuracy: 0.6586 - val_loss: 0.7363 - val_accuracy: 0.6556\n",
            "Epoch 70/100\n",
            "4444/4448 [============================>.] - ETA: 0s - loss: 0.7238 - accuracy: 0.6598\n",
            "Epoch 70: val_loss did not improve from 0.71800\n",
            "4448/4448 [==============================] - 29s 6ms/step - loss: 0.7238 - accuracy: 0.6598 - val_loss: 0.7412 - val_accuracy: 0.6487\n",
            "Epoch 71/100\n",
            "4448/4448 [==============================] - ETA: 0s - loss: 0.7261 - accuracy: 0.6580\n",
            "Epoch 71: val_loss did not improve from 0.71800\n",
            "4448/4448 [==============================] - 28s 6ms/step - loss: 0.7261 - accuracy: 0.6580 - val_loss: 0.7354 - val_accuracy: 0.6545\n",
            "Epoch 72/100\n",
            "4444/4448 [============================>.] - ETA: 0s - loss: 0.7248 - accuracy: 0.6582\n",
            "Epoch 72: val_loss did not improve from 0.71800\n",
            "4448/4448 [==============================] - 27s 6ms/step - loss: 0.7247 - accuracy: 0.6582 - val_loss: 0.7213 - val_accuracy: 0.6589\n",
            "Epoch 73/100\n",
            "4442/4448 [============================>.] - ETA: 0s - loss: 0.7254 - accuracy: 0.6583\n",
            "Epoch 73: val_loss did not improve from 0.71800\n",
            "4448/4448 [==============================] - 27s 6ms/step - loss: 0.7254 - accuracy: 0.6583 - val_loss: 0.7296 - val_accuracy: 0.6550\n",
            "Epoch 74/100\n",
            "4440/4448 [============================>.] - ETA: 0s - loss: 0.7222 - accuracy: 0.6609\n",
            "Epoch 74: val_loss did not improve from 0.71800\n",
            "4448/4448 [==============================] - 26s 6ms/step - loss: 0.7222 - accuracy: 0.6609 - val_loss: 0.7284 - val_accuracy: 0.6571\n",
            "Epoch 75/100\n",
            "4441/4448 [============================>.] - ETA: 0s - loss: 0.7212 - accuracy: 0.6600\n",
            "Epoch 75: val_loss did not improve from 0.71800\n",
            "4448/4448 [==============================] - 28s 6ms/step - loss: 0.7212 - accuracy: 0.6600 - val_loss: 0.7405 - val_accuracy: 0.6541\n",
            "Epoch 76/100\n",
            "4439/4448 [============================>.] - ETA: 0s - loss: 0.7217 - accuracy: 0.6608\n",
            "Epoch 76: val_loss did not improve from 0.71800\n",
            "4448/4448 [==============================] - 28s 6ms/step - loss: 0.7217 - accuracy: 0.6608 - val_loss: 0.7195 - val_accuracy: 0.6595\n",
            "Epoch 77/100\n",
            "4448/4448 [==============================] - ETA: 0s - loss: 0.7204 - accuracy: 0.6616\n",
            "Epoch 77: val_loss did not improve from 0.71800\n",
            "4448/4448 [==============================] - 27s 6ms/step - loss: 0.7204 - accuracy: 0.6616 - val_loss: 0.7204 - val_accuracy: 0.6583\n",
            "Epoch 78/100\n",
            "4442/4448 [============================>.] - ETA: 0s - loss: 0.7195 - accuracy: 0.6619\n",
            "Epoch 78: val_loss did not improve from 0.71800\n",
            "4448/4448 [==============================] - 30s 7ms/step - loss: 0.7195 - accuracy: 0.6619 - val_loss: 0.7319 - val_accuracy: 0.6566\n",
            "Epoch 79/100\n",
            "4445/4448 [============================>.] - ETA: 0s - loss: 0.7297 - accuracy: 0.6566\n",
            "Epoch 79: val_loss did not improve from 0.71800\n",
            "4448/4448 [==============================] - 30s 7ms/step - loss: 0.7297 - accuracy: 0.6566 - val_loss: 0.7344 - val_accuracy: 0.6521\n",
            "Epoch 80/100\n",
            "4443/4448 [============================>.] - ETA: 0s - loss: 0.7205 - accuracy: 0.6607\n",
            "Epoch 80: val_loss did not improve from 0.71800\n",
            "4448/4448 [==============================] - 30s 7ms/step - loss: 0.7206 - accuracy: 0.6607 - val_loss: 0.7221 - val_accuracy: 0.6572\n",
            "Epoch 81/100\n",
            "4444/4448 [============================>.] - ETA: 0s - loss: 0.7215 - accuracy: 0.6612\n",
            "Epoch 81: val_loss did not improve from 0.71800\n",
            "4448/4448 [==============================] - 27s 6ms/step - loss: 0.7215 - accuracy: 0.6612 - val_loss: 0.7292 - val_accuracy: 0.6567\n",
            "Epoch 82/100\n",
            "4444/4448 [============================>.] - ETA: 0s - loss: 0.7198 - accuracy: 0.6621\n",
            "Epoch 82: val_loss did not improve from 0.71800\n",
            "4448/4448 [==============================] - 25s 6ms/step - loss: 0.7198 - accuracy: 0.6621 - val_loss: 0.7669 - val_accuracy: 0.6284\n",
            "Epoch 83/100\n",
            "4444/4448 [============================>.] - ETA: 0s - loss: 0.7209 - accuracy: 0.6617\n",
            "Epoch 83: val_loss did not improve from 0.71800\n",
            "4448/4448 [==============================] - 27s 6ms/step - loss: 0.7209 - accuracy: 0.6617 - val_loss: 0.7297 - val_accuracy: 0.6494\n",
            "Epoch 84/100\n",
            "4445/4448 [============================>.] - ETA: 0s - loss: 0.7199 - accuracy: 0.6626\n",
            "Epoch 84: val_loss did not improve from 0.71800\n",
            "4448/4448 [==============================] - 27s 6ms/step - loss: 0.7199 - accuracy: 0.6626 - val_loss: 0.7368 - val_accuracy: 0.6486\n",
            "Epoch 84: early stopping\n"
          ]
        }
      ]
    },
    {
      "cell_type": "code",
      "source": [
        "from keras.models import load_model\n",
        "model = load_model(\"weights.hdf5\")"
      ],
      "metadata": {
        "id": "cmDJqcLbyKg3"
      },
      "execution_count": 17,
      "outputs": []
    },
    {
      "cell_type": "code",
      "source": [
        "start_time = time.time()\n",
        "predictions_test = model.predict(X_test)\n",
        "dt_time_pred = time.time() - start_time"
      ],
      "metadata": {
        "id": "0367yUaCcjej",
        "colab": {
          "base_uri": "https://localhost:8080/"
        },
        "outputId": "8d4eb658-1a04-42b9-9872-2414862a28be"
      },
      "execution_count": 18,
      "outputs": [
        {
          "output_type": "stream",
          "name": "stdout",
          "text": [
            "2780/2780 [==============================] - 5s 2ms/step\n"
          ]
        }
      ]
    },
    {
      "cell_type": "code",
      "source": [
        "print(predictions_test)"
      ],
      "metadata": {
        "colab": {
          "base_uri": "https://localhost:8080/"
        },
        "id": "9PBa7ZOKeeLD",
        "outputId": "094433e1-6be1-41d1-f022-dd5067214948"
      },
      "execution_count": 19,
      "outputs": [
        {
          "output_type": "stream",
          "name": "stdout",
          "text": [
            "[[9.92317498e-01 1.83911416e-05 7.66426977e-03]\n",
            " [5.73482037e-01 3.11918557e-01 1.14599474e-01]\n",
            " [5.92232406e-01 3.94160777e-01 1.36067802e-02]\n",
            " ...\n",
            " [9.81839955e-01 1.80395711e-02 1.20393714e-04]\n",
            " [5.09648807e-02 8.31057608e-01 1.17977515e-01]\n",
            " [4.81291227e-02 3.78359437e-01 5.73511481e-01]]\n"
          ]
        }
      ]
    },
    {
      "cell_type": "code",
      "source": [
        "predictions_test.shape"
      ],
      "metadata": {
        "colab": {
          "base_uri": "https://localhost:8080/"
        },
        "id": "xA5i3NxR0ThO",
        "outputId": "f6d95c8a-480a-45c3-b6e8-8099b8bfeb72"
      },
      "execution_count": 20,
      "outputs": [
        {
          "output_type": "execute_result",
          "data": {
            "text/plain": [
              "(88956, 3)"
            ]
          },
          "metadata": {},
          "execution_count": 20
        }
      ]
    },
    {
      "cell_type": "code",
      "source": [
        "predictions_test = predictions_test.argmax(axis=1)\n",
        "predictions_test "
      ],
      "metadata": {
        "colab": {
          "base_uri": "https://localhost:8080/"
        },
        "id": "32tuOhFE0ISP",
        "outputId": "123e3bed-44e2-4334-a5dd-b3ef98228763"
      },
      "execution_count": 21,
      "outputs": [
        {
          "output_type": "execute_result",
          "data": {
            "text/plain": [
              "array([0, 0, 0, ..., 0, 1, 2])"
            ]
          },
          "metadata": {},
          "execution_count": 21
        }
      ]
    },
    {
      "cell_type": "code",
      "source": [
        "predictions_test = predictions_test + 1\n",
        "predictions_test"
      ],
      "metadata": {
        "colab": {
          "base_uri": "https://localhost:8080/"
        },
        "id": "D32c0eXj1HyR",
        "outputId": "e3129520-f715-47d0-eba8-7a63397213e1"
      },
      "execution_count": 22,
      "outputs": [
        {
          "output_type": "execute_result",
          "data": {
            "text/plain": [
              "array([1, 1, 1, ..., 1, 2, 3])"
            ]
          },
          "metadata": {},
          "execution_count": 22
        }
      ]
    },
    {
      "cell_type": "code",
      "source": [
        "y_test = y_test.argmax(axis=1)\n",
        "y_test "
      ],
      "metadata": {
        "colab": {
          "base_uri": "https://localhost:8080/"
        },
        "id": "gAPS-s431Lf5",
        "outputId": "89b808c0-de72-4455-db44-2270ad0d6963"
      },
      "execution_count": 23,
      "outputs": [
        {
          "output_type": "execute_result",
          "data": {
            "text/plain": [
              "array([0, 0, 0, ..., 0, 1, 1])"
            ]
          },
          "metadata": {},
          "execution_count": 23
        }
      ]
    },
    {
      "cell_type": "code",
      "source": [
        "y_test = y_test + 1\n",
        "y_test"
      ],
      "metadata": {
        "colab": {
          "base_uri": "https://localhost:8080/"
        },
        "id": "dYuiQmy21T7C",
        "outputId": "cf7dd0d3-b26c-4686-a018-7044132b27d1"
      },
      "execution_count": 24,
      "outputs": [
        {
          "output_type": "execute_result",
          "data": {
            "text/plain": [
              "array([1, 1, 1, ..., 1, 2, 2])"
            ]
          },
          "metadata": {},
          "execution_count": 24
        }
      ]
    },
    {
      "cell_type": "code",
      "source": [
        "print(\"Fit Time: {} seconds\".format(dt_time_fit))\n",
        "print(\"Prediction Time: {} seconds\".format(dt_time_pred))\n",
        "print(\"Precision: \", metrics.precision_score(y_test,predictions_test, average='micro'))\n",
        "print(\"Recall: \", metrics.recall_score(y_test,predictions_test,average='micro'))\n",
        "print(\"Accuracy: \", metrics.accuracy_score(y_test,predictions_test))\n",
        "print(\"F1_score: \", metrics.f1_score(y_test,predictions_test, average='micro'))"
      ],
      "metadata": {
        "colab": {
          "base_uri": "https://localhost:8080/"
        },
        "id": "NNUVT6zddo3O",
        "outputId": "8c0ab30f-eca2-4f08-8f76-cd7533e783ed"
      },
      "execution_count": 25,
      "outputs": [
        {
          "output_type": "stream",
          "name": "stdout",
          "text": [
            "Fit Time: 2348.529511451721 seconds\n",
            "Prediction Time: 10.588428497314453 seconds\n",
            "Precision:  0.6623948918566482\n",
            "Recall:  0.6623948918566482\n",
            "Accuracy:  0.6623948918566482\n",
            "F1_score:  0.6623948918566482\n"
          ]
        }
      ]
    },
    {
      "cell_type": "code",
      "source": [
        "data = confusion_matrix(y_test,predictions_test)\n",
        "cm = pd.DataFrame(data, columns=np.unique(y_test), index = np.unique(y_test))\n",
        "cm.index.name = 'Actual'\n",
        "cm.columns.name = 'Predicted'\n",
        "plt.figure(figsize = (10,7))\n",
        "sns.heatmap(cm, annot=True, fmt=\"d\", annot_kws={\"size\": 12})\n",
        "plt.title(\"Confusion Matrix\")\n",
        "plt.show()"
      ],
      "metadata": {
        "colab": {
          "base_uri": "https://localhost:8080/",
          "height": 641
        },
        "id": "RmXhp7CvdCAb",
        "outputId": "cf58add0-9959-4519-8186-a0c44c5c81e2"
      },
      "execution_count": 26,
      "outputs": [
        {
          "output_type": "display_data",
          "data": {
            "text/plain": [
              "<Figure size 1000x700 with 2 Axes>"
            ],
            "image/png": "[encoded data removed]"
          },
          "metadata": {}
        }
      ]
    }
  ]
}